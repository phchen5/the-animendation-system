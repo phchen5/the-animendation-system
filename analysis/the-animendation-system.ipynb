{
 "cells": [
  {
   "cell_type": "markdown",
   "id": "2c92acdd",
   "metadata": {
    "papermill": {
     "duration": 0.10072,
     "end_time": "2023-06-01T01:21:00.413004",
     "exception": false,
     "start_time": "2023-06-01T01:21:00.312284",
     "status": "completed"
    },
    "tags": []
   },
   "source": [
    "# ⛩️🌸🍥☯🍜 ANIMEndation System\n",
    "\n",
    "Hello there! In this notebook, we'll be going over different methods of building a recommendation system for animes. We'll start off by building feature-based recommendation systems, followed by collaborative filtering. Otakus out there, let's all have fun and learn together!"
   ]
  },
  {
   "cell_type": "markdown",
   "id": "9a880a1b",
   "metadata": {
    "papermill": {
     "duration": 0.092484,
     "end_time": "2023-06-01T01:21:00.598017",
     "exception": false,
     "start_time": "2023-06-01T01:21:00.505533",
     "status": "completed"
    },
    "tags": []
   },
   "source": [
    "# Modules\n",
    "\n",
    "First, Let's import the modules that we'll be using in this notebook. For those wondering what the `surprise` module is, it is a module used for collaborative filtering, which is a technique that idenitifies patterns and similarities in user behavior to make personalized recommendations. We'll go over this at the very end."
   ]
  },
  {
   "cell_type": "code",
   "execution_count": 8,
   "id": "2e70d2c3",
   "metadata": {
    "execution": {
     "iopub.execute_input": "2023-06-01T01:21:00.791732Z",
     "iopub.status.busy": "2023-06-01T01:21:00.790942Z",
     "iopub.status.idle": "2023-06-01T01:21:01.971185Z",
     "shell.execute_reply": "2023-06-01T01:21:01.971749Z",
     "shell.execute_reply.started": "2023-06-01T00:34:51.000317Z"
    },
    "papermill": {
     "duration": 1.281195,
     "end_time": "2023-06-01T01:21:01.972061",
     "exception": false,
     "start_time": "2023-06-01T01:21:00.690866",
     "status": "completed"
    },
    "tags": []
   },
   "outputs": [],
   "source": [
    "#import modules\n",
    "import pandas as pd\n",
    "import numpy as np\n",
    "import matplotlib.pyplot as plt\n",
    "import seaborn as sns\n",
    "\n",
    "from sklearn.preprocessing import MultiLabelBinarizer\n",
    "from sklearn.metrics.pairwise import cosine_similarity\n",
    "from sklearn.metrics.pairwise import linear_kernel\n",
    "\n",
    "from surprise import Dataset, Reader, NormalPredictor, BaselineOnly\n",
    "from surprise.model_selection import cross_validate, GridSearchCV, train_test_split\n",
    "from surprise.prediction_algorithms import SVD, KNNBasic, KNNBaseline\n",
    "from surprise import accuracy\n",
    "from tqdm import tqdm\n",
    "from statistics import mean"
   ]
  },
  {
   "cell_type": "markdown",
   "id": "b8607f80",
   "metadata": {
    "papermill": {
     "duration": 0.095662,
     "end_time": "2023-06-01T01:21:02.164064",
     "exception": false,
     "start_time": "2023-06-01T01:21:02.068402",
     "status": "completed"
    },
    "tags": []
   },
   "source": [
    "# Dataset\n",
    "\n",
    "We have quite a big dataset here extracted from [myanimelist.net](http://myanimelist.net), with multiple tables containing different information. myanimelist.net is said to be primarily used by westerners, so it's important to note that the recommendations here are probably going to fit better for westerners. Anyways, let's take a look at our first file *anime.csv*,"
   ]
  },
  {
   "cell_type": "markdown",
   "id": "f9e983ac",
   "metadata": {
    "papermill": {
     "duration": 0.092827,
     "end_time": "2023-06-01T01:21:02.351127",
     "exception": false,
     "start_time": "2023-06-01T01:21:02.258300",
     "status": "completed"
    },
    "tags": []
   },
   "source": [
    "## anime.csv"
   ]
  },
  {
   "cell_type": "code",
   "execution_count": 9,
   "id": "83af2384",
   "metadata": {
    "execution": {
     "iopub.execute_input": "2023-06-01T01:21:02.542359Z",
     "iopub.status.busy": "2023-06-01T01:21:02.540360Z",
     "iopub.status.idle": "2023-06-01T01:21:02.811590Z",
     "shell.execute_reply": "2023-06-01T01:21:02.812081Z",
     "shell.execute_reply.started": "2023-06-01T00:34:51.009857Z"
    },
    "papermill": {
     "duration": 0.367026,
     "end_time": "2023-06-01T01:21:02.812243",
     "exception": false,
     "start_time": "2023-06-01T01:21:02.445217",
     "status": "completed"
    },
    "tags": []
   },
   "outputs": [
    {
     "data": {
      "text/html": [
       "<div>\n",
       "<style scoped>\n",
       "    .dataframe tbody tr th:only-of-type {\n",
       "        vertical-align: middle;\n",
       "    }\n",
       "\n",
       "    .dataframe tbody tr th {\n",
       "        vertical-align: top;\n",
       "    }\n",
       "\n",
       "    .dataframe thead th {\n",
       "        text-align: right;\n",
       "    }\n",
       "</style>\n",
       "<table border=\"1\" class=\"dataframe\">\n",
       "  <thead>\n",
       "    <tr style=\"text-align: right;\">\n",
       "      <th></th>\n",
       "      <th>MAL_ID</th>\n",
       "      <th>Name</th>\n",
       "      <th>Score</th>\n",
       "      <th>Genres</th>\n",
       "      <th>English name</th>\n",
       "      <th>Japanese name</th>\n",
       "      <th>Type</th>\n",
       "      <th>Episodes</th>\n",
       "      <th>Aired</th>\n",
       "      <th>Premiered</th>\n",
       "      <th>...</th>\n",
       "      <th>Score-10</th>\n",
       "      <th>Score-9</th>\n",
       "      <th>Score-8</th>\n",
       "      <th>Score-7</th>\n",
       "      <th>Score-6</th>\n",
       "      <th>Score-5</th>\n",
       "      <th>Score-4</th>\n",
       "      <th>Score-3</th>\n",
       "      <th>Score-2</th>\n",
       "      <th>Score-1</th>\n",
       "    </tr>\n",
       "  </thead>\n",
       "  <tbody>\n",
       "    <tr>\n",
       "      <th>0</th>\n",
       "      <td>1</td>\n",
       "      <td>Cowboy Bebop</td>\n",
       "      <td>8.78</td>\n",
       "      <td>Action, Adventure, Comedy, Drama, Sci-Fi, Space</td>\n",
       "      <td>Cowboy Bebop</td>\n",
       "      <td>カウボーイビバップ</td>\n",
       "      <td>TV</td>\n",
       "      <td>26</td>\n",
       "      <td>Apr 3, 1998 to Apr 24, 1999</td>\n",
       "      <td>Spring 1998</td>\n",
       "      <td>...</td>\n",
       "      <td>229170.0</td>\n",
       "      <td>182126.0</td>\n",
       "      <td>131625.0</td>\n",
       "      <td>62330.0</td>\n",
       "      <td>20688.0</td>\n",
       "      <td>8904.0</td>\n",
       "      <td>3184.0</td>\n",
       "      <td>1357.0</td>\n",
       "      <td>741.0</td>\n",
       "      <td>1580.0</td>\n",
       "    </tr>\n",
       "    <tr>\n",
       "      <th>1</th>\n",
       "      <td>5</td>\n",
       "      <td>Cowboy Bebop: Tengoku no Tobira</td>\n",
       "      <td>8.39</td>\n",
       "      <td>Action, Drama, Mystery, Sci-Fi, Space</td>\n",
       "      <td>Cowboy Bebop:The Movie</td>\n",
       "      <td>カウボーイビバップ 天国の扉</td>\n",
       "      <td>Movie</td>\n",
       "      <td>1</td>\n",
       "      <td>Sep 1, 2001</td>\n",
       "      <td>Unknown</td>\n",
       "      <td>...</td>\n",
       "      <td>30043.0</td>\n",
       "      <td>49201.0</td>\n",
       "      <td>49505.0</td>\n",
       "      <td>22632.0</td>\n",
       "      <td>5805.0</td>\n",
       "      <td>1877.0</td>\n",
       "      <td>577.0</td>\n",
       "      <td>221.0</td>\n",
       "      <td>109.0</td>\n",
       "      <td>379.0</td>\n",
       "    </tr>\n",
       "    <tr>\n",
       "      <th>2</th>\n",
       "      <td>6</td>\n",
       "      <td>Trigun</td>\n",
       "      <td>8.24</td>\n",
       "      <td>Action, Sci-Fi, Adventure, Comedy, Drama, Shounen</td>\n",
       "      <td>Trigun</td>\n",
       "      <td>トライガン</td>\n",
       "      <td>TV</td>\n",
       "      <td>26</td>\n",
       "      <td>Apr 1, 1998 to Sep 30, 1998</td>\n",
       "      <td>Spring 1998</td>\n",
       "      <td>...</td>\n",
       "      <td>50229.0</td>\n",
       "      <td>75651.0</td>\n",
       "      <td>86142.0</td>\n",
       "      <td>49432.0</td>\n",
       "      <td>15376.0</td>\n",
       "      <td>5838.0</td>\n",
       "      <td>1965.0</td>\n",
       "      <td>664.0</td>\n",
       "      <td>316.0</td>\n",
       "      <td>533.0</td>\n",
       "    </tr>\n",
       "    <tr>\n",
       "      <th>3</th>\n",
       "      <td>7</td>\n",
       "      <td>Witch Hunter Robin</td>\n",
       "      <td>7.27</td>\n",
       "      <td>Action, Mystery, Police, Supernatural, Drama, ...</td>\n",
       "      <td>Witch Hunter Robin</td>\n",
       "      <td>Witch Hunter ROBIN (ウイッチハンターロビン)</td>\n",
       "      <td>TV</td>\n",
       "      <td>26</td>\n",
       "      <td>Jul 2, 2002 to Dec 24, 2002</td>\n",
       "      <td>Summer 2002</td>\n",
       "      <td>...</td>\n",
       "      <td>2182.0</td>\n",
       "      <td>4806.0</td>\n",
       "      <td>10128.0</td>\n",
       "      <td>11618.0</td>\n",
       "      <td>5709.0</td>\n",
       "      <td>2920.0</td>\n",
       "      <td>1083.0</td>\n",
       "      <td>353.0</td>\n",
       "      <td>164.0</td>\n",
       "      <td>131.0</td>\n",
       "    </tr>\n",
       "    <tr>\n",
       "      <th>4</th>\n",
       "      <td>8</td>\n",
       "      <td>Bouken Ou Beet</td>\n",
       "      <td>6.98</td>\n",
       "      <td>Adventure, Fantasy, Shounen, Supernatural</td>\n",
       "      <td>Beet the Vandel Buster</td>\n",
       "      <td>冒険王ビィト</td>\n",
       "      <td>TV</td>\n",
       "      <td>52</td>\n",
       "      <td>Sep 30, 2004 to Sep 29, 2005</td>\n",
       "      <td>Fall 2004</td>\n",
       "      <td>...</td>\n",
       "      <td>312.0</td>\n",
       "      <td>529.0</td>\n",
       "      <td>1242.0</td>\n",
       "      <td>1713.0</td>\n",
       "      <td>1068.0</td>\n",
       "      <td>634.0</td>\n",
       "      <td>265.0</td>\n",
       "      <td>83.0</td>\n",
       "      <td>50.0</td>\n",
       "      <td>27.0</td>\n",
       "    </tr>\n",
       "  </tbody>\n",
       "</table>\n",
       "<p>5 rows × 35 columns</p>\n",
       "</div>"
      ],
      "text/plain": [
       "   MAL_ID                             Name Score  \\\n",
       "0       1                     Cowboy Bebop  8.78   \n",
       "1       5  Cowboy Bebop: Tengoku no Tobira  8.39   \n",
       "2       6                           Trigun  8.24   \n",
       "3       7               Witch Hunter Robin  7.27   \n",
       "4       8                   Bouken Ou Beet  6.98   \n",
       "\n",
       "                                              Genres            English name  \\\n",
       "0    Action, Adventure, Comedy, Drama, Sci-Fi, Space            Cowboy Bebop   \n",
       "1              Action, Drama, Mystery, Sci-Fi, Space  Cowboy Bebop:The Movie   \n",
       "2  Action, Sci-Fi, Adventure, Comedy, Drama, Shounen                  Trigun   \n",
       "3  Action, Mystery, Police, Supernatural, Drama, ...      Witch Hunter Robin   \n",
       "4          Adventure, Fantasy, Shounen, Supernatural  Beet the Vandel Buster   \n",
       "\n",
       "                      Japanese name   Type Episodes  \\\n",
       "0                         カウボーイビバップ     TV       26   \n",
       "1                    カウボーイビバップ 天国の扉  Movie        1   \n",
       "2                             トライガン     TV       26   \n",
       "3  Witch Hunter ROBIN (ウイッチハンターロビン)     TV       26   \n",
       "4                            冒険王ビィト     TV       52   \n",
       "\n",
       "                          Aired    Premiered  ...  Score-10   Score-9  \\\n",
       "0   Apr 3, 1998 to Apr 24, 1999  Spring 1998  ...  229170.0  182126.0   \n",
       "1                   Sep 1, 2001      Unknown  ...   30043.0   49201.0   \n",
       "2   Apr 1, 1998 to Sep 30, 1998  Spring 1998  ...   50229.0   75651.0   \n",
       "3   Jul 2, 2002 to Dec 24, 2002  Summer 2002  ...    2182.0    4806.0   \n",
       "4  Sep 30, 2004 to Sep 29, 2005    Fall 2004  ...     312.0     529.0   \n",
       "\n",
       "    Score-8  Score-7  Score-6 Score-5 Score-4  Score-3  Score-2  Score-1  \n",
       "0  131625.0  62330.0  20688.0  8904.0  3184.0   1357.0    741.0   1580.0  \n",
       "1   49505.0  22632.0   5805.0  1877.0   577.0    221.0    109.0    379.0  \n",
       "2   86142.0  49432.0  15376.0  5838.0  1965.0    664.0    316.0    533.0  \n",
       "3   10128.0  11618.0   5709.0  2920.0  1083.0    353.0    164.0    131.0  \n",
       "4    1242.0   1713.0   1068.0   634.0   265.0     83.0     50.0     27.0  \n",
       "\n",
       "[5 rows x 35 columns]"
      ]
     },
     "execution_count": 9,
     "metadata": {},
     "output_type": "execute_result"
    }
   ],
   "source": [
    "anime = pd.read_csv(\"../data/anime.csv\")\n",
    "anime.head(5)"
   ]
  },
  {
   "cell_type": "code",
   "execution_count": 10,
   "id": "395c1c51",
   "metadata": {
    "execution": {
     "iopub.execute_input": "2023-06-01T01:21:03.048337Z",
     "iopub.status.busy": "2023-06-01T01:21:03.011610Z",
     "iopub.status.idle": "2023-06-01T01:21:03.067754Z",
     "shell.execute_reply": "2023-06-01T01:21:03.068268Z",
     "shell.execute_reply.started": "2023-06-01T00:34:51.206521Z"
    },
    "papermill": {
     "duration": 0.161139,
     "end_time": "2023-06-01T01:21:03.068422",
     "exception": false,
     "start_time": "2023-06-01T01:21:02.907283",
     "status": "completed"
    },
    "tags": []
   },
   "outputs": [
    {
     "name": "stdout",
     "output_type": "stream",
     "text": [
      "<class 'pandas.core.frame.DataFrame'>\n",
      "RangeIndex: 17562 entries, 0 to 17561\n",
      "Data columns (total 35 columns):\n",
      " #   Column         Non-Null Count  Dtype \n",
      "---  ------         --------------  ----- \n",
      " 0   MAL_ID         17562 non-null  int64 \n",
      " 1   Name           17562 non-null  object\n",
      " 2   Score          17562 non-null  object\n",
      " 3   Genres         17562 non-null  object\n",
      " 4   English name   17562 non-null  object\n",
      " 5   Japanese name  17562 non-null  object\n",
      " 6   Type           17562 non-null  object\n",
      " 7   Episodes       17562 non-null  object\n",
      " 8   Aired          17562 non-null  object\n",
      " 9   Premiered      17562 non-null  object\n",
      " 10  Producers      17562 non-null  object\n",
      " 11  Licensors      17562 non-null  object\n",
      " 12  Studios        17562 non-null  object\n",
      " 13  Source         17562 non-null  object\n",
      " 14  Duration       17562 non-null  object\n",
      " 15  Rating         17562 non-null  object\n",
      " 16  Ranked         17562 non-null  object\n",
      " 17  Popularity     17562 non-null  int64 \n",
      " 18  Members        17562 non-null  int64 \n",
      " 19  Favorites      17562 non-null  int64 \n",
      " 20  Watching       17562 non-null  int64 \n",
      " 21  Completed      17562 non-null  int64 \n",
      " 22  On-Hold        17562 non-null  int64 \n",
      " 23  Dropped        17562 non-null  int64 \n",
      " 24  Plan to Watch  17562 non-null  int64 \n",
      " 25  Score-10       17562 non-null  object\n",
      " 26  Score-9        17562 non-null  object\n",
      " 27  Score-8        17562 non-null  object\n",
      " 28  Score-7        17562 non-null  object\n",
      " 29  Score-6        17562 non-null  object\n",
      " 30  Score-5        17562 non-null  object\n",
      " 31  Score-4        17562 non-null  object\n",
      " 32  Score-3        17562 non-null  object\n",
      " 33  Score-2        17562 non-null  object\n",
      " 34  Score-1        17562 non-null  object\n",
      "dtypes: int64(9), object(26)\n",
      "memory usage: 4.7+ MB\n"
     ]
    }
   ],
   "source": [
    "#check variables and missing values\n",
    "anime.info()"
   ]
  },
  {
   "cell_type": "markdown",
   "id": "4c3a4558",
   "metadata": {
    "papermill": {
     "duration": 0.093626,
     "end_time": "2023-06-01T01:21:03.257623",
     "exception": false,
     "start_time": "2023-06-01T01:21:03.163997",
     "status": "completed"
    },
    "tags": []
   },
   "source": [
    "Wow! We have quite a comprehensive dataset here. Each row represents a unique anime with a unique `MAL_ID`. The dataset contains 34 variables, ranging from the producer of the anime to scores given by viewers. We'll have to look into them one by one to see if they require any form or preprocessing."
   ]
  },
  {
   "cell_type": "markdown",
   "id": "b7be6463",
   "metadata": {
    "papermill": {
     "duration": 0.096439,
     "end_time": "2023-06-01T01:21:03.450275",
     "exception": false,
     "start_time": "2023-06-01T01:21:03.353836",
     "status": "completed"
    },
    "tags": []
   },
   "source": [
    "## anime_with_synopsis.csv\n",
    "\n",
    "Next in line we have the table that contains a synopsis for each anime. Let's take a look."
   ]
  },
  {
   "cell_type": "code",
   "execution_count": 11,
   "id": "a42eb627",
   "metadata": {
    "execution": {
     "iopub.execute_input": "2023-06-01T01:21:03.645814Z",
     "iopub.status.busy": "2023-06-01T01:21:03.645174Z",
     "iopub.status.idle": "2023-06-01T01:21:03.841063Z",
     "shell.execute_reply": "2023-06-01T01:21:03.841545Z",
     "shell.execute_reply.started": "2023-06-01T00:34:51.264725Z"
    },
    "papermill": {
     "duration": 0.297684,
     "end_time": "2023-06-01T01:21:03.841718",
     "exception": false,
     "start_time": "2023-06-01T01:21:03.544034",
     "status": "completed"
    },
    "tags": []
   },
   "outputs": [
    {
     "data": {
      "text/html": [
       "<div>\n",
       "<style scoped>\n",
       "    .dataframe tbody tr th:only-of-type {\n",
       "        vertical-align: middle;\n",
       "    }\n",
       "\n",
       "    .dataframe tbody tr th {\n",
       "        vertical-align: top;\n",
       "    }\n",
       "\n",
       "    .dataframe thead th {\n",
       "        text-align: right;\n",
       "    }\n",
       "</style>\n",
       "<table border=\"1\" class=\"dataframe\">\n",
       "  <thead>\n",
       "    <tr style=\"text-align: right;\">\n",
       "      <th></th>\n",
       "      <th>MAL_ID</th>\n",
       "      <th>Name</th>\n",
       "      <th>Score</th>\n",
       "      <th>Genres</th>\n",
       "      <th>sypnopsis</th>\n",
       "    </tr>\n",
       "  </thead>\n",
       "  <tbody>\n",
       "    <tr>\n",
       "      <th>0</th>\n",
       "      <td>1</td>\n",
       "      <td>Cowboy Bebop</td>\n",
       "      <td>8.78</td>\n",
       "      <td>Action, Adventure, Comedy, Drama, Sci-Fi, Space</td>\n",
       "      <td>In the year 2071, humanity has colonized sever...</td>\n",
       "    </tr>\n",
       "    <tr>\n",
       "      <th>1</th>\n",
       "      <td>5</td>\n",
       "      <td>Cowboy Bebop: Tengoku no Tobira</td>\n",
       "      <td>8.39</td>\n",
       "      <td>Action, Drama, Mystery, Sci-Fi, Space</td>\n",
       "      <td>other day, another bounty—such is the life of ...</td>\n",
       "    </tr>\n",
       "    <tr>\n",
       "      <th>2</th>\n",
       "      <td>6</td>\n",
       "      <td>Trigun</td>\n",
       "      <td>8.24</td>\n",
       "      <td>Action, Sci-Fi, Adventure, Comedy, Drama, Shounen</td>\n",
       "      <td>Vash the Stampede is the man with a $$60,000,0...</td>\n",
       "    </tr>\n",
       "    <tr>\n",
       "      <th>3</th>\n",
       "      <td>7</td>\n",
       "      <td>Witch Hunter Robin</td>\n",
       "      <td>7.27</td>\n",
       "      <td>Action, Mystery, Police, Supernatural, Drama, ...</td>\n",
       "      <td>ches are individuals with special powers like ...</td>\n",
       "    </tr>\n",
       "    <tr>\n",
       "      <th>4</th>\n",
       "      <td>8</td>\n",
       "      <td>Bouken Ou Beet</td>\n",
       "      <td>6.98</td>\n",
       "      <td>Adventure, Fantasy, Shounen, Supernatural</td>\n",
       "      <td>It is the dark century and the people are suff...</td>\n",
       "    </tr>\n",
       "  </tbody>\n",
       "</table>\n",
       "</div>"
      ],
      "text/plain": [
       "   MAL_ID                             Name Score  \\\n",
       "0       1                     Cowboy Bebop  8.78   \n",
       "1       5  Cowboy Bebop: Tengoku no Tobira  8.39   \n",
       "2       6                           Trigun  8.24   \n",
       "3       7               Witch Hunter Robin  7.27   \n",
       "4       8                   Bouken Ou Beet  6.98   \n",
       "\n",
       "                                              Genres  \\\n",
       "0    Action, Adventure, Comedy, Drama, Sci-Fi, Space   \n",
       "1              Action, Drama, Mystery, Sci-Fi, Space   \n",
       "2  Action, Sci-Fi, Adventure, Comedy, Drama, Shounen   \n",
       "3  Action, Mystery, Police, Supernatural, Drama, ...   \n",
       "4          Adventure, Fantasy, Shounen, Supernatural   \n",
       "\n",
       "                                           sypnopsis  \n",
       "0  In the year 2071, humanity has colonized sever...  \n",
       "1  other day, another bounty—such is the life of ...  \n",
       "2  Vash the Stampede is the man with a $$60,000,0...  \n",
       "3  ches are individuals with special powers like ...  \n",
       "4  It is the dark century and the people are suff...  "
      ]
     },
     "execution_count": 11,
     "metadata": {},
     "output_type": "execute_result"
    }
   ],
   "source": [
    "synopsis = pd.read_csv(\"../data/anime_with_synopsis.csv\")\n",
    "synopsis.head()"
   ]
  },
  {
   "cell_type": "markdown",
   "id": "3ba8fb66",
   "metadata": {
    "papermill": {
     "duration": 0.097093,
     "end_time": "2023-06-01T01:21:04.033940",
     "exception": false,
     "start_time": "2023-06-01T01:21:03.936847",
     "status": "completed"
    },
    "tags": []
   },
   "source": [
    "Yep, we can see that each `MAL_ID` corresponds to a `synposis`. This could contain information that we could utilize in our recommendation system, so let's join this variable into main `anime.csv` table."
   ]
  },
  {
   "cell_type": "code",
   "execution_count": 12,
   "id": "0ac32aac",
   "metadata": {
    "execution": {
     "iopub.execute_input": "2023-06-01T01:21:04.236792Z",
     "iopub.status.busy": "2023-06-01T01:21:04.235873Z",
     "iopub.status.idle": "2023-06-01T01:21:04.294599Z",
     "shell.execute_reply": "2023-06-01T01:21:04.295111Z",
     "shell.execute_reply.started": "2023-06-01T00:34:51.370033Z"
    },
    "papermill": {
     "duration": 0.163577,
     "end_time": "2023-06-01T01:21:04.295275",
     "exception": false,
     "start_time": "2023-06-01T01:21:04.131698",
     "status": "completed"
    },
    "tags": []
   },
   "outputs": [
    {
     "data": {
      "text/html": [
       "<div>\n",
       "<style scoped>\n",
       "    .dataframe tbody tr th:only-of-type {\n",
       "        vertical-align: middle;\n",
       "    }\n",
       "\n",
       "    .dataframe tbody tr th {\n",
       "        vertical-align: top;\n",
       "    }\n",
       "\n",
       "    .dataframe thead th {\n",
       "        text-align: right;\n",
       "    }\n",
       "</style>\n",
       "<table border=\"1\" class=\"dataframe\">\n",
       "  <thead>\n",
       "    <tr style=\"text-align: right;\">\n",
       "      <th></th>\n",
       "      <th>MAL_ID</th>\n",
       "      <th>Name</th>\n",
       "      <th>Score</th>\n",
       "      <th>Genres</th>\n",
       "      <th>English name</th>\n",
       "      <th>Japanese name</th>\n",
       "      <th>Type</th>\n",
       "      <th>Episodes</th>\n",
       "      <th>Aired</th>\n",
       "      <th>Premiered</th>\n",
       "      <th>...</th>\n",
       "      <th>Score-9</th>\n",
       "      <th>Score-8</th>\n",
       "      <th>Score-7</th>\n",
       "      <th>Score-6</th>\n",
       "      <th>Score-5</th>\n",
       "      <th>Score-4</th>\n",
       "      <th>Score-3</th>\n",
       "      <th>Score-2</th>\n",
       "      <th>Score-1</th>\n",
       "      <th>sypnopsis</th>\n",
       "    </tr>\n",
       "  </thead>\n",
       "  <tbody>\n",
       "    <tr>\n",
       "      <th>0</th>\n",
       "      <td>1</td>\n",
       "      <td>Cowboy Bebop</td>\n",
       "      <td>8.78</td>\n",
       "      <td>Action, Adventure, Comedy, Drama, Sci-Fi, Space</td>\n",
       "      <td>Cowboy Bebop</td>\n",
       "      <td>カウボーイビバップ</td>\n",
       "      <td>TV</td>\n",
       "      <td>26</td>\n",
       "      <td>Apr 3, 1998 to Apr 24, 1999</td>\n",
       "      <td>Spring 1998</td>\n",
       "      <td>...</td>\n",
       "      <td>182126.0</td>\n",
       "      <td>131625.0</td>\n",
       "      <td>62330.0</td>\n",
       "      <td>20688.0</td>\n",
       "      <td>8904.0</td>\n",
       "      <td>3184.0</td>\n",
       "      <td>1357.0</td>\n",
       "      <td>741.0</td>\n",
       "      <td>1580.0</td>\n",
       "      <td>In the year 2071, humanity has colonized sever...</td>\n",
       "    </tr>\n",
       "    <tr>\n",
       "      <th>1</th>\n",
       "      <td>5</td>\n",
       "      <td>Cowboy Bebop: Tengoku no Tobira</td>\n",
       "      <td>8.39</td>\n",
       "      <td>Action, Drama, Mystery, Sci-Fi, Space</td>\n",
       "      <td>Cowboy Bebop:The Movie</td>\n",
       "      <td>カウボーイビバップ 天国の扉</td>\n",
       "      <td>Movie</td>\n",
       "      <td>1</td>\n",
       "      <td>Sep 1, 2001</td>\n",
       "      <td>Unknown</td>\n",
       "      <td>...</td>\n",
       "      <td>49201.0</td>\n",
       "      <td>49505.0</td>\n",
       "      <td>22632.0</td>\n",
       "      <td>5805.0</td>\n",
       "      <td>1877.0</td>\n",
       "      <td>577.0</td>\n",
       "      <td>221.0</td>\n",
       "      <td>109.0</td>\n",
       "      <td>379.0</td>\n",
       "      <td>other day, another bounty—such is the life of ...</td>\n",
       "    </tr>\n",
       "    <tr>\n",
       "      <th>2</th>\n",
       "      <td>6</td>\n",
       "      <td>Trigun</td>\n",
       "      <td>8.24</td>\n",
       "      <td>Action, Sci-Fi, Adventure, Comedy, Drama, Shounen</td>\n",
       "      <td>Trigun</td>\n",
       "      <td>トライガン</td>\n",
       "      <td>TV</td>\n",
       "      <td>26</td>\n",
       "      <td>Apr 1, 1998 to Sep 30, 1998</td>\n",
       "      <td>Spring 1998</td>\n",
       "      <td>...</td>\n",
       "      <td>75651.0</td>\n",
       "      <td>86142.0</td>\n",
       "      <td>49432.0</td>\n",
       "      <td>15376.0</td>\n",
       "      <td>5838.0</td>\n",
       "      <td>1965.0</td>\n",
       "      <td>664.0</td>\n",
       "      <td>316.0</td>\n",
       "      <td>533.0</td>\n",
       "      <td>Vash the Stampede is the man with a $$60,000,0...</td>\n",
       "    </tr>\n",
       "    <tr>\n",
       "      <th>3</th>\n",
       "      <td>7</td>\n",
       "      <td>Witch Hunter Robin</td>\n",
       "      <td>7.27</td>\n",
       "      <td>Action, Mystery, Police, Supernatural, Drama, ...</td>\n",
       "      <td>Witch Hunter Robin</td>\n",
       "      <td>Witch Hunter ROBIN (ウイッチハンターロビン)</td>\n",
       "      <td>TV</td>\n",
       "      <td>26</td>\n",
       "      <td>Jul 2, 2002 to Dec 24, 2002</td>\n",
       "      <td>Summer 2002</td>\n",
       "      <td>...</td>\n",
       "      <td>4806.0</td>\n",
       "      <td>10128.0</td>\n",
       "      <td>11618.0</td>\n",
       "      <td>5709.0</td>\n",
       "      <td>2920.0</td>\n",
       "      <td>1083.0</td>\n",
       "      <td>353.0</td>\n",
       "      <td>164.0</td>\n",
       "      <td>131.0</td>\n",
       "      <td>ches are individuals with special powers like ...</td>\n",
       "    </tr>\n",
       "    <tr>\n",
       "      <th>4</th>\n",
       "      <td>8</td>\n",
       "      <td>Bouken Ou Beet</td>\n",
       "      <td>6.98</td>\n",
       "      <td>Adventure, Fantasy, Shounen, Supernatural</td>\n",
       "      <td>Beet the Vandel Buster</td>\n",
       "      <td>冒険王ビィト</td>\n",
       "      <td>TV</td>\n",
       "      <td>52</td>\n",
       "      <td>Sep 30, 2004 to Sep 29, 2005</td>\n",
       "      <td>Fall 2004</td>\n",
       "      <td>...</td>\n",
       "      <td>529.0</td>\n",
       "      <td>1242.0</td>\n",
       "      <td>1713.0</td>\n",
       "      <td>1068.0</td>\n",
       "      <td>634.0</td>\n",
       "      <td>265.0</td>\n",
       "      <td>83.0</td>\n",
       "      <td>50.0</td>\n",
       "      <td>27.0</td>\n",
       "      <td>It is the dark century and the people are suff...</td>\n",
       "    </tr>\n",
       "  </tbody>\n",
       "</table>\n",
       "<p>5 rows × 36 columns</p>\n",
       "</div>"
      ],
      "text/plain": [
       "   MAL_ID                             Name Score  \\\n",
       "0       1                     Cowboy Bebop  8.78   \n",
       "1       5  Cowboy Bebop: Tengoku no Tobira  8.39   \n",
       "2       6                           Trigun  8.24   \n",
       "3       7               Witch Hunter Robin  7.27   \n",
       "4       8                   Bouken Ou Beet  6.98   \n",
       "\n",
       "                                              Genres            English name  \\\n",
       "0    Action, Adventure, Comedy, Drama, Sci-Fi, Space            Cowboy Bebop   \n",
       "1              Action, Drama, Mystery, Sci-Fi, Space  Cowboy Bebop:The Movie   \n",
       "2  Action, Sci-Fi, Adventure, Comedy, Drama, Shounen                  Trigun   \n",
       "3  Action, Mystery, Police, Supernatural, Drama, ...      Witch Hunter Robin   \n",
       "4          Adventure, Fantasy, Shounen, Supernatural  Beet the Vandel Buster   \n",
       "\n",
       "                      Japanese name   Type Episodes  \\\n",
       "0                         カウボーイビバップ     TV       26   \n",
       "1                    カウボーイビバップ 天国の扉  Movie        1   \n",
       "2                             トライガン     TV       26   \n",
       "3  Witch Hunter ROBIN (ウイッチハンターロビン)     TV       26   \n",
       "4                            冒険王ビィト     TV       52   \n",
       "\n",
       "                          Aired    Premiered  ...   Score-9   Score-8  \\\n",
       "0   Apr 3, 1998 to Apr 24, 1999  Spring 1998  ...  182126.0  131625.0   \n",
       "1                   Sep 1, 2001      Unknown  ...   49201.0   49505.0   \n",
       "2   Apr 1, 1998 to Sep 30, 1998  Spring 1998  ...   75651.0   86142.0   \n",
       "3   Jul 2, 2002 to Dec 24, 2002  Summer 2002  ...    4806.0   10128.0   \n",
       "4  Sep 30, 2004 to Sep 29, 2005    Fall 2004  ...     529.0    1242.0   \n",
       "\n",
       "   Score-7  Score-6 Score-5 Score-4 Score-3  Score-2  Score-1  \\\n",
       "0  62330.0  20688.0  8904.0  3184.0  1357.0    741.0   1580.0   \n",
       "1  22632.0   5805.0  1877.0   577.0   221.0    109.0    379.0   \n",
       "2  49432.0  15376.0  5838.0  1965.0   664.0    316.0    533.0   \n",
       "3  11618.0   5709.0  2920.0  1083.0   353.0    164.0    131.0   \n",
       "4   1713.0   1068.0   634.0   265.0    83.0     50.0     27.0   \n",
       "\n",
       "                                           sypnopsis  \n",
       "0  In the year 2071, humanity has colonized sever...  \n",
       "1  other day, another bounty—such is the life of ...  \n",
       "2  Vash the Stampede is the man with a $$60,000,0...  \n",
       "3  ches are individuals with special powers like ...  \n",
       "4  It is the dark century and the people are suff...  \n",
       "\n",
       "[5 rows x 36 columns]"
      ]
     },
     "execution_count": 12,
     "metadata": {},
     "output_type": "execute_result"
    }
   ],
   "source": [
    "#drop Name, Score and Genres\n",
    "synopsis = synopsis.drop(['Name', 'Score', 'Genres'], axis=1)\n",
    "#merge the two tables\n",
    "anime = anime.merge(synopsis, how='outer', on='MAL_ID')\n",
    "\n",
    "anime.head()"
   ]
  },
  {
   "cell_type": "markdown",
   "id": "724f9c29",
   "metadata": {
    "papermill": {
     "duration": 0.095972,
     "end_time": "2023-06-01T01:21:04.487138",
     "exception": false,
     "start_time": "2023-06-01T01:21:04.391166",
     "status": "completed"
    },
    "tags": []
   },
   "source": [
    "# Basic Data Preprocessing\n",
    "\n",
    "These two tables will work for now because we're first going to build a feature-based recommendation system. The idea behind feature-based recommendation is simple. The recommendation system takes into account of the different features of an anime and calculates the distance between these animes. For example, if we were to look at only one variable `score`. An anime that scored 9 will be closer to an anime that scored 10 than an anime that scored 8. Pretty simple right! The only difference is we take into account of multiple variables, which expands the dimension in which the distance is calculated. Anyways, let's preprocess the data that we have here."
   ]
  },
  {
   "cell_type": "markdown",
   "id": "15a976da",
   "metadata": {
    "papermill": {
     "duration": 0.095761,
     "end_time": "2023-06-01T01:21:04.679072",
     "exception": false,
     "start_time": "2023-06-01T01:21:04.583311",
     "status": "completed"
    },
    "tags": []
   },
   "source": [
    "## Episodes\n",
    "\n",
    "First, let's remove those anime with `Unknown` number of episodes at the very beginning. How do animes have `Unknown` number of episodes? Doesn't make much sense to me, so let's kick them out."
   ]
  },
  {
   "cell_type": "code",
   "execution_count": 13,
   "id": "3c330cd0",
   "metadata": {
    "execution": {
     "iopub.execute_input": "2023-06-01T01:21:04.878801Z",
     "iopub.status.busy": "2023-06-01T01:21:04.877722Z",
     "iopub.status.idle": "2023-06-01T01:21:04.905534Z",
     "shell.execute_reply": "2023-06-01T01:21:04.904944Z",
     "shell.execute_reply.started": "2023-06-01T00:34:51.422267Z"
    },
    "papermill": {
     "duration": 0.130754,
     "end_time": "2023-06-01T01:21:04.905664",
     "exception": false,
     "start_time": "2023-06-01T01:21:04.774910",
     "status": "completed"
    },
    "tags": []
   },
   "outputs": [],
   "source": [
    "#select those with Episode not NA\n",
    "anime = anime[anime['Episodes']!=\"Unknown\"]"
   ]
  },
  {
   "cell_type": "markdown",
   "id": "abfddbea",
   "metadata": {
    "papermill": {
     "duration": 0.095484,
     "end_time": "2023-06-01T01:21:05.097499",
     "exception": false,
     "start_time": "2023-06-01T01:21:05.002015",
     "status": "completed"
    },
    "tags": []
   },
   "source": [
    "## MAL_ID\n",
    "\n",
    "Just in case, let's also double check that there are no duplicate values in `MAL_ID`. Probably should've checked this earlier, but hey! No duplicate values :)."
   ]
  },
  {
   "cell_type": "code",
   "execution_count": 14,
   "id": "c8193c47",
   "metadata": {
    "execution": {
     "iopub.execute_input": "2023-06-01T01:21:05.299929Z",
     "iopub.status.busy": "2023-06-01T01:21:05.298762Z",
     "iopub.status.idle": "2023-06-01T01:21:05.305343Z",
     "shell.execute_reply": "2023-06-01T01:21:05.304708Z",
     "shell.execute_reply.started": "2023-06-01T00:34:51.453802Z"
    },
    "papermill": {
     "duration": 0.10755,
     "end_time": "2023-06-01T01:21:05.305474",
     "exception": false,
     "start_time": "2023-06-01T01:21:05.197924",
     "status": "completed"
    },
    "tags": []
   },
   "outputs": [
    {
     "data": {
      "text/plain": [
       "False"
      ]
     },
     "execution_count": 14,
     "metadata": {},
     "output_type": "execute_result"
    }
   ],
   "source": [
    "anime['MAL_ID'].duplicated().any()"
   ]
  },
  {
   "cell_type": "markdown",
   "id": "04d53f45",
   "metadata": {
    "papermill": {
     "duration": 0.096865,
     "end_time": "2023-06-01T01:21:05.505078",
     "exception": false,
     "start_time": "2023-06-01T01:21:05.408213",
     "status": "completed"
    },
    "tags": []
   },
   "source": [
    "Since we just removed the animes with `Unknown` numbers of `Episodes` from the dataset, let's reset the index in order and also assign each anime a new anime index (considering that many `MAL_ID` are now missing)."
   ]
  },
  {
   "cell_type": "code",
   "execution_count": 15,
   "id": "bfbf1e70",
   "metadata": {
    "execution": {
     "iopub.execute_input": "2023-06-01T01:21:05.721520Z",
     "iopub.status.busy": "2023-06-01T01:21:05.720522Z",
     "iopub.status.idle": "2023-06-01T01:21:05.733694Z",
     "shell.execute_reply": "2023-06-01T01:21:05.734282Z",
     "shell.execute_reply.started": "2023-06-01T00:34:51.463609Z"
    },
    "papermill": {
     "duration": 0.128406,
     "end_time": "2023-06-01T01:21:05.734479",
     "exception": false,
     "start_time": "2023-06-01T01:21:05.606073",
     "status": "completed"
    },
    "tags": []
   },
   "outputs": [
    {
     "data": {
      "text/plain": [
       "(17046, 37)"
      ]
     },
     "execution_count": 15,
     "metadata": {},
     "output_type": "execute_result"
    }
   ],
   "source": [
    "#reset the index to chronological order and drop the original index\n",
    "anime = anime.reset_index()\n",
    "anime = anime.drop(['index'], axis=1)\n",
    "\n",
    "#many MAL_indices are missing, so let's assign each anime a new MAL_ID given their order\n",
    "anime['new_anime_index'] = anime.index\n",
    "\n",
    "anime.shape"
   ]
  },
  {
   "cell_type": "markdown",
   "id": "e3f26f9b",
   "metadata": {
    "papermill": {
     "duration": 0.095628,
     "end_time": "2023-06-01T01:21:05.925453",
     "exception": false,
     "start_time": "2023-06-01T01:21:05.829825",
     "status": "completed"
    },
    "tags": []
   },
   "source": [
    "Now, we're left with 17046 animes in total. This should be enough for us to make great recommendations for all of the otakus out there."
   ]
  },
  {
   "cell_type": "markdown",
   "id": "3501d190",
   "metadata": {
    "papermill": {
     "duration": 0.096195,
     "end_time": "2023-06-01T01:21:06.117880",
     "exception": false,
     "start_time": "2023-06-01T01:21:06.021685",
     "status": "completed"
    },
    "tags": []
   },
   "source": [
    "# General Recommendations\n",
    "\n",
    "Alrighty! Let's make some recommendations now. We'll start by recommending with the most simple and straigtforward method, based on popularity and rating. Now you might be wondering \"isn't that just ranking animes using these two variables?\". Yes! You're absolutely correct. But guess what! This can be pretty effective, because these animes are the most popular and best-rated for a reason. Especially for people who don't watch anime, these recommendations could be a great start.\n",
    "\n",
    "We can derive the popularity and rating of each anime from the 10 score variables in our dataset. The rating would be the average score, and popularity would the number of score counts. But first, we have to replace the *Unknown* values by 0 and change their datatypes to numerical."
   ]
  },
  {
   "cell_type": "code",
   "execution_count": 16,
   "id": "ded13a6e",
   "metadata": {
    "execution": {
     "iopub.execute_input": "2023-06-01T01:21:06.319710Z",
     "iopub.status.busy": "2023-06-01T01:21:06.318714Z",
     "iopub.status.idle": "2023-06-01T01:21:06.463779Z",
     "shell.execute_reply": "2023-06-01T01:21:06.462988Z",
     "shell.execute_reply.started": "2023-06-01T00:34:51.486989Z"
    },
    "papermill": {
     "duration": 0.249073,
     "end_time": "2023-06-01T01:21:06.463935",
     "exception": false,
     "start_time": "2023-06-01T01:21:06.214862",
     "status": "completed"
    },
    "tags": []
   },
   "outputs": [],
   "source": [
    "#replace unknown with 0\n",
    "anime[['Score', 'Score-10','Score-9','Score-8','Score-7','Score-6','Score-5','Score-4','Score-3','Score-2','Score-1']] = anime[['Score', 'Score-10','Score-9','Score-8','Score-7','Score-6','Score-5','Score-4','Score-3','Score-2','Score-1']].replace('Unknown', 0)\n",
    "\n",
    "#change datatype\n",
    "anime[['Score', 'Score-10','Score-9','Score-8','Score-7','Score-6','Score-5','Score-4','Score-3','Score-2','Score-1']] = anime[['Score', 'Score-10','Score-9','Score-8','Score-7','Score-6','Score-5','Score-4','Score-3','Score-2','Score-1']].apply(pd.to_numeric)\n",
    "\n",
    "#find total number of scores\n",
    "anime['no_of_scores'] = anime['Score-10'] + anime['Score-9'] + anime['Score-8'] + anime['Score-7'] + anime['Score-6'] + anime['Score-5'] + anime['Score-4'] + anime['Score-3'] + anime['Score-2'] + anime['Score-1']"
   ]
  },
  {
   "cell_type": "markdown",
   "id": "a7ff899e",
   "metadata": {
    "papermill": {
     "duration": 0.098151,
     "end_time": "2023-06-01T01:21:06.659130",
     "exception": false,
     "start_time": "2023-06-01T01:21:06.560979",
     "status": "completed"
    },
    "tags": []
   },
   "source": [
    "## Most Popular Anime by Average Score\n",
    "\n",
    "Now we sort!"
   ]
  },
  {
   "cell_type": "code",
   "execution_count": 17,
   "id": "40e44527",
   "metadata": {
    "execution": {
     "iopub.execute_input": "2023-06-01T01:21:06.863147Z",
     "iopub.status.busy": "2023-06-01T01:21:06.862296Z",
     "iopub.status.idle": "2023-06-01T01:21:06.887049Z",
     "shell.execute_reply": "2023-06-01T01:21:06.887522Z",
     "shell.execute_reply.started": "2023-06-01T00:34:51.638704Z"
    },
    "papermill": {
     "duration": 0.12594,
     "end_time": "2023-06-01T01:21:06.887668",
     "exception": false,
     "start_time": "2023-06-01T01:21:06.761728",
     "status": "completed"
    },
    "tags": []
   },
   "outputs": [
    {
     "data": {
      "text/html": [
       "<div>\n",
       "<style scoped>\n",
       "    .dataframe tbody tr th:only-of-type {\n",
       "        vertical-align: middle;\n",
       "    }\n",
       "\n",
       "    .dataframe tbody tr th {\n",
       "        vertical-align: top;\n",
       "    }\n",
       "\n",
       "    .dataframe thead th {\n",
       "        text-align: right;\n",
       "    }\n",
       "</style>\n",
       "<table border=\"1\" class=\"dataframe\">\n",
       "  <thead>\n",
       "    <tr style=\"text-align: right;\">\n",
       "      <th></th>\n",
       "      <th>English name</th>\n",
       "      <th>Japanese name</th>\n",
       "      <th>Score</th>\n",
       "      <th>no_of_scores</th>\n",
       "    </tr>\n",
       "  </thead>\n",
       "  <tbody>\n",
       "    <tr>\n",
       "      <th>3964</th>\n",
       "      <td>Fullmetal Alchemist:Brotherhood</td>\n",
       "      <td>鋼の錬金術師 FULLMETAL ALCHEMIST</td>\n",
       "      <td>9.19</td>\n",
       "      <td>1438767.0</td>\n",
       "    </tr>\n",
       "    <tr>\n",
       "      <th>15740</th>\n",
       "      <td>Attack on Titan Final Season</td>\n",
       "      <td>進撃の巨人 The Final Season</td>\n",
       "      <td>9.17</td>\n",
       "      <td>288274.0</td>\n",
       "    </tr>\n",
       "    <tr>\n",
       "      <th>5672</th>\n",
       "      <td>Steins;Gate</td>\n",
       "      <td>STEINS;GATE</td>\n",
       "      <td>9.11</td>\n",
       "      <td>989905.0</td>\n",
       "    </tr>\n",
       "    <tr>\n",
       "      <th>14828</th>\n",
       "      <td>Attack on Titan Season 3 Part 2</td>\n",
       "      <td>進撃の巨人 Season3 Part.2</td>\n",
       "      <td>9.10</td>\n",
       "      <td>728435.0</td>\n",
       "    </tr>\n",
       "    <tr>\n",
       "      <th>9892</th>\n",
       "      <td>Gintama Season 4</td>\n",
       "      <td>銀魂°</td>\n",
       "      <td>9.10</td>\n",
       "      <td>161812.0</td>\n",
       "    </tr>\n",
       "    <tr>\n",
       "      <th>6462</th>\n",
       "      <td>Hunter x Hunter</td>\n",
       "      <td>HUNTER×HUNTER（ハンター×ハンター）</td>\n",
       "      <td>9.10</td>\n",
       "      <td>1026866.0</td>\n",
       "    </tr>\n",
       "    <tr>\n",
       "      <th>5995</th>\n",
       "      <td>Gintama Season 2</td>\n",
       "      <td>銀魂'</td>\n",
       "      <td>9.08</td>\n",
       "      <td>162866.0</td>\n",
       "    </tr>\n",
       "    <tr>\n",
       "      <th>739</th>\n",
       "      <td>Legend of the Galactic Heroes</td>\n",
       "      <td>銀河英雄伝説</td>\n",
       "      <td>9.07</td>\n",
       "      <td>58655.0</td>\n",
       "    </tr>\n",
       "    <tr>\n",
       "      <th>7249</th>\n",
       "      <td>Gintama:Enchousen</td>\n",
       "      <td>銀魂' 延長戦</td>\n",
       "      <td>9.04</td>\n",
       "      <td>113662.0</td>\n",
       "    </tr>\n",
       "    <tr>\n",
       "      <th>9865</th>\n",
       "      <td>A Silent Voice</td>\n",
       "      <td>聲の形</td>\n",
       "      <td>9.00</td>\n",
       "      <td>940843.0</td>\n",
       "    </tr>\n",
       "  </tbody>\n",
       "</table>\n",
       "</div>"
      ],
      "text/plain": [
       "                          English name               Japanese name  Score  \\\n",
       "3964   Fullmetal Alchemist:Brotherhood  鋼の錬金術師 FULLMETAL ALCHEMIST   9.19   \n",
       "15740     Attack on Titan Final Season      進撃の巨人 The Final Season   9.17   \n",
       "5672                       Steins;Gate                 STEINS;GATE   9.11   \n",
       "14828  Attack on Titan Season 3 Part 2        進撃の巨人 Season3 Part.2   9.10   \n",
       "9892                  Gintama Season 4                         銀魂°   9.10   \n",
       "6462                   Hunter x Hunter    HUNTER×HUNTER（ハンター×ハンター）   9.10   \n",
       "5995                  Gintama Season 2                         銀魂'   9.08   \n",
       "739      Legend of the Galactic Heroes                      銀河英雄伝説   9.07   \n",
       "7249                 Gintama:Enchousen                     銀魂' 延長戦   9.04   \n",
       "9865                    A Silent Voice                         聲の形   9.00   \n",
       "\n",
       "       no_of_scores  \n",
       "3964      1438767.0  \n",
       "15740      288274.0  \n",
       "5672       989905.0  \n",
       "14828      728435.0  \n",
       "9892       161812.0  \n",
       "6462      1026866.0  \n",
       "5995       162866.0  \n",
       "739         58655.0  \n",
       "7249       113662.0  \n",
       "9865       940843.0  "
      ]
     },
     "execution_count": 17,
     "metadata": {},
     "output_type": "execute_result"
    }
   ],
   "source": [
    "top10_score = anime.sort_values('Score', ascending=False).iloc[:10][['English name', 'Japanese name', 'Score', 'no_of_scores']]\n",
    "top10_score"
   ]
  },
  {
   "cell_type": "markdown",
   "id": "eda4fd61",
   "metadata": {
    "papermill": {
     "duration": 0.09638,
     "end_time": "2023-06-01T01:21:07.081949",
     "exception": false,
     "start_time": "2023-06-01T01:21:06.985569",
     "status": "completed"
    },
    "tags": []
   },
   "source": [
    "The top rated (on average) animes are listed above. We can see that many are very famous animes, including *Attack on Titan*, *Gintama* and *Hunter*. *Fullmetal Alchemist:Brotherhood* came out on top with the highest rating. And yes! Please watch it! It's a crazy good anime!"
   ]
  },
  {
   "cell_type": "markdown",
   "id": "71ffc942",
   "metadata": {
    "papermill": {
     "duration": 0.09619,
     "end_time": "2023-06-01T01:21:07.276736",
     "exception": false,
     "start_time": "2023-06-01T01:21:07.180546",
     "status": "completed"
    },
    "tags": []
   },
   "source": [
    "## Most Popular Anime by Popularity\n",
    "\n",
    "We do the same thing for popularity (by `no_of_scores`)"
   ]
  },
  {
   "cell_type": "code",
   "execution_count": 18,
   "id": "d085f746",
   "metadata": {
    "execution": {
     "iopub.execute_input": "2023-06-01T01:21:07.477712Z",
     "iopub.status.busy": "2023-06-01T01:21:07.476880Z",
     "iopub.status.idle": "2023-06-01T01:21:07.502119Z",
     "shell.execute_reply": "2023-06-01T01:21:07.502709Z",
     "shell.execute_reply.started": "2023-06-01T00:34:51.673415Z"
    },
    "papermill": {
     "duration": 0.128275,
     "end_time": "2023-06-01T01:21:07.502885",
     "exception": false,
     "start_time": "2023-06-01T01:21:07.374610",
     "status": "completed"
    },
    "tags": []
   },
   "outputs": [
    {
     "data": {
      "text/html": [
       "<div>\n",
       "<style scoped>\n",
       "    .dataframe tbody tr th:only-of-type {\n",
       "        vertical-align: middle;\n",
       "    }\n",
       "\n",
       "    .dataframe tbody tr th {\n",
       "        vertical-align: top;\n",
       "    }\n",
       "\n",
       "    .dataframe thead th {\n",
       "        text-align: right;\n",
       "    }\n",
       "</style>\n",
       "<table border=\"1\" class=\"dataframe\">\n",
       "  <thead>\n",
       "    <tr style=\"text-align: right;\">\n",
       "      <th></th>\n",
       "      <th>English name</th>\n",
       "      <th>Japanese name</th>\n",
       "      <th>Score</th>\n",
       "      <th>no_of_scores</th>\n",
       "    </tr>\n",
       "  </thead>\n",
       "  <tbody>\n",
       "    <tr>\n",
       "      <th>1389</th>\n",
       "      <td>Death Note</td>\n",
       "      <td>デスノート</td>\n",
       "      <td>8.63</td>\n",
       "      <td>1826691.0</td>\n",
       "    </tr>\n",
       "    <tr>\n",
       "      <th>7437</th>\n",
       "      <td>Attack on Titan</td>\n",
       "      <td>進撃の巨人</td>\n",
       "      <td>8.48</td>\n",
       "      <td>1791099.0</td>\n",
       "    </tr>\n",
       "    <tr>\n",
       "      <th>6602</th>\n",
       "      <td>Sword Art Online</td>\n",
       "      <td>ソードアート・オンライン</td>\n",
       "      <td>7.25</td>\n",
       "      <td>1574372.0</td>\n",
       "    </tr>\n",
       "    <tr>\n",
       "      <th>10420</th>\n",
       "      <td>One Punch Man</td>\n",
       "      <td>ワンパンマン</td>\n",
       "      <td>8.57</td>\n",
       "      <td>1478645.0</td>\n",
       "    </tr>\n",
       "    <tr>\n",
       "      <th>3964</th>\n",
       "      <td>Fullmetal Alchemist:Brotherhood</td>\n",
       "      <td>鋼の錬金術師 FULLMETAL ALCHEMIST</td>\n",
       "      <td>9.19</td>\n",
       "      <td>1438767.0</td>\n",
       "    </tr>\n",
       "    <tr>\n",
       "      <th>11147</th>\n",
       "      <td>My Hero Academia</td>\n",
       "      <td>僕のヒーローアカデミア</td>\n",
       "      <td>8.11</td>\n",
       "      <td>1305467.0</td>\n",
       "    </tr>\n",
       "    <tr>\n",
       "      <th>10</th>\n",
       "      <td>Naruto</td>\n",
       "      <td>ナルト</td>\n",
       "      <td>7.91</td>\n",
       "      <td>1268593.0</td>\n",
       "    </tr>\n",
       "    <tr>\n",
       "      <th>8633</th>\n",
       "      <td>Tokyo Ghoul</td>\n",
       "      <td>東京喰種-トーキョーグール-</td>\n",
       "      <td>7.81</td>\n",
       "      <td>1260191.0</td>\n",
       "    </tr>\n",
       "    <tr>\n",
       "      <th>11269</th>\n",
       "      <td>Your Name.</td>\n",
       "      <td>君の名は。</td>\n",
       "      <td>8.96</td>\n",
       "      <td>1190759.0</td>\n",
       "    </tr>\n",
       "    <tr>\n",
       "      <th>8135</th>\n",
       "      <td>No Game, No Life</td>\n",
       "      <td>ノーゲーム・ノーライフ</td>\n",
       "      <td>8.20</td>\n",
       "      <td>1137376.0</td>\n",
       "    </tr>\n",
       "  </tbody>\n",
       "</table>\n",
       "</div>"
      ],
      "text/plain": [
       "                          English name               Japanese name  Score  \\\n",
       "1389                        Death Note                       デスノート   8.63   \n",
       "7437                   Attack on Titan                       進撃の巨人   8.48   \n",
       "6602                  Sword Art Online                ソードアート・オンライン   7.25   \n",
       "10420                    One Punch Man                      ワンパンマン   8.57   \n",
       "3964   Fullmetal Alchemist:Brotherhood  鋼の錬金術師 FULLMETAL ALCHEMIST   9.19   \n",
       "11147                 My Hero Academia                 僕のヒーローアカデミア   8.11   \n",
       "10                              Naruto                         ナルト   7.91   \n",
       "8633                       Tokyo Ghoul              東京喰種-トーキョーグール-   7.81   \n",
       "11269                       Your Name.                       君の名は。   8.96   \n",
       "8135                  No Game, No Life                 ノーゲーム・ノーライフ   8.20   \n",
       "\n",
       "       no_of_scores  \n",
       "1389      1826691.0  \n",
       "7437      1791099.0  \n",
       "6602      1574372.0  \n",
       "10420     1478645.0  \n",
       "3964      1438767.0  \n",
       "11147     1305467.0  \n",
       "10        1268593.0  \n",
       "8633      1260191.0  \n",
       "11269     1190759.0  \n",
       "8135      1137376.0  "
      ]
     },
     "execution_count": 18,
     "metadata": {},
     "output_type": "execute_result"
    }
   ],
   "source": [
    "top10_score_count = anime.sort_values('no_of_scores', ascending=False).iloc[:10][['English name', 'Japanese name', 'Score', 'no_of_scores']]\n",
    "top10_score_count"
   ]
  },
  {
   "cell_type": "markdown",
   "id": "38a7029e",
   "metadata": {
    "papermill": {
     "duration": 0.102165,
     "end_time": "2023-06-01T01:21:07.703621",
     "exception": false,
     "start_time": "2023-06-01T01:21:07.601456",
     "status": "completed"
    },
    "tags": []
   },
   "source": [
    "These animes accumulated the most number of reviews, which is an indication of their popularity. *Death Note*, *Attack on Titan* and *Sword Art Online* came out in the top three spots. "
   ]
  },
  {
   "cell_type": "markdown",
   "id": "8fa9ff04",
   "metadata": {
    "papermill": {
     "duration": 0.097769,
     "end_time": "2023-06-01T01:21:07.901472",
     "exception": false,
     "start_time": "2023-06-01T01:21:07.803703",
     "status": "completed"
    },
    "tags": []
   },
   "source": [
    "# Content-based Recommendation"
   ]
  },
  {
   "cell_type": "markdown",
   "id": "ac04231f",
   "metadata": {
    "papermill": {
     "duration": 0.098813,
     "end_time": "2023-06-01T01:21:08.101121",
     "exception": false,
     "start_time": "2023-06-01T01:21:08.002308",
     "status": "completed"
    },
    "tags": []
   },
   "source": [
    "Okay! Now that we have a general sense of the top most popular animes by `Score` (rating) and `no_of_scores` (popularity), let's get more technical. Let's create a recommendation system that is based off of the different features of the anime. In the database, we have different information about the anime's `Genres`, `Producers`, `Episodes` and `Duration`. We'll be using these features to make recommendations."
   ]
  },
  {
   "cell_type": "code",
   "execution_count": 19,
   "id": "0c07dc54",
   "metadata": {
    "execution": {
     "iopub.execute_input": "2023-06-01T01:21:08.306028Z",
     "iopub.status.busy": "2023-06-01T01:21:08.305035Z",
     "iopub.status.idle": "2023-06-01T01:21:08.322137Z",
     "shell.execute_reply": "2023-06-01T01:21:08.321639Z",
     "shell.execute_reply.started": "2023-06-01T00:34:51.701421Z"
    },
    "papermill": {
     "duration": 0.120128,
     "end_time": "2023-06-01T01:21:08.322266",
     "exception": false,
     "start_time": "2023-06-01T01:21:08.202138",
     "status": "completed"
    },
    "tags": []
   },
   "outputs": [
    {
     "data": {
      "text/html": [
       "<div>\n",
       "<style scoped>\n",
       "    .dataframe tbody tr th:only-of-type {\n",
       "        vertical-align: middle;\n",
       "    }\n",
       "\n",
       "    .dataframe tbody tr th {\n",
       "        vertical-align: top;\n",
       "    }\n",
       "\n",
       "    .dataframe thead th {\n",
       "        text-align: right;\n",
       "    }\n",
       "</style>\n",
       "<table border=\"1\" class=\"dataframe\">\n",
       "  <thead>\n",
       "    <tr style=\"text-align: right;\">\n",
       "      <th></th>\n",
       "      <th>new_anime_index</th>\n",
       "      <th>Name</th>\n",
       "      <th>Type</th>\n",
       "      <th>Episodes</th>\n",
       "      <th>Aired</th>\n",
       "      <th>Premiered</th>\n",
       "      <th>Producers</th>\n",
       "      <th>Licensors</th>\n",
       "      <th>Studios</th>\n",
       "      <th>Source</th>\n",
       "      <th>Duration</th>\n",
       "      <th>Genres</th>\n",
       "    </tr>\n",
       "  </thead>\n",
       "  <tbody>\n",
       "    <tr>\n",
       "      <th>0</th>\n",
       "      <td>0</td>\n",
       "      <td>Cowboy Bebop</td>\n",
       "      <td>TV</td>\n",
       "      <td>26</td>\n",
       "      <td>Apr 3, 1998 to Apr 24, 1999</td>\n",
       "      <td>Spring 1998</td>\n",
       "      <td>Bandai Visual</td>\n",
       "      <td>Funimation, Bandai Entertainment</td>\n",
       "      <td>Sunrise</td>\n",
       "      <td>Original</td>\n",
       "      <td>24 min. per ep.</td>\n",
       "      <td>Action, Adventure, Comedy, Drama, Sci-Fi, Space</td>\n",
       "    </tr>\n",
       "    <tr>\n",
       "      <th>1</th>\n",
       "      <td>1</td>\n",
       "      <td>Cowboy Bebop: Tengoku no Tobira</td>\n",
       "      <td>Movie</td>\n",
       "      <td>1</td>\n",
       "      <td>Sep 1, 2001</td>\n",
       "      <td>Unknown</td>\n",
       "      <td>Sunrise, Bandai Visual</td>\n",
       "      <td>Sony Pictures Entertainment</td>\n",
       "      <td>Bones</td>\n",
       "      <td>Original</td>\n",
       "      <td>1 hr. 55 min.</td>\n",
       "      <td>Action, Drama, Mystery, Sci-Fi, Space</td>\n",
       "    </tr>\n",
       "    <tr>\n",
       "      <th>2</th>\n",
       "      <td>2</td>\n",
       "      <td>Trigun</td>\n",
       "      <td>TV</td>\n",
       "      <td>26</td>\n",
       "      <td>Apr 1, 1998 to Sep 30, 1998</td>\n",
       "      <td>Spring 1998</td>\n",
       "      <td>Victor Entertainment</td>\n",
       "      <td>Funimation, Geneon Entertainment USA</td>\n",
       "      <td>Madhouse</td>\n",
       "      <td>Manga</td>\n",
       "      <td>24 min. per ep.</td>\n",
       "      <td>Action, Sci-Fi, Adventure, Comedy, Drama, Shounen</td>\n",
       "    </tr>\n",
       "    <tr>\n",
       "      <th>3</th>\n",
       "      <td>3</td>\n",
       "      <td>Witch Hunter Robin</td>\n",
       "      <td>TV</td>\n",
       "      <td>26</td>\n",
       "      <td>Jul 2, 2002 to Dec 24, 2002</td>\n",
       "      <td>Summer 2002</td>\n",
       "      <td>TV Tokyo, Bandai Visual, Dentsu, Victor Entert...</td>\n",
       "      <td>Funimation, Bandai Entertainment</td>\n",
       "      <td>Sunrise</td>\n",
       "      <td>Original</td>\n",
       "      <td>25 min. per ep.</td>\n",
       "      <td>Action, Mystery, Police, Supernatural, Drama, ...</td>\n",
       "    </tr>\n",
       "    <tr>\n",
       "      <th>4</th>\n",
       "      <td>4</td>\n",
       "      <td>Bouken Ou Beet</td>\n",
       "      <td>TV</td>\n",
       "      <td>52</td>\n",
       "      <td>Sep 30, 2004 to Sep 29, 2005</td>\n",
       "      <td>Fall 2004</td>\n",
       "      <td>TV Tokyo, Dentsu</td>\n",
       "      <td>Unknown</td>\n",
       "      <td>Toei Animation</td>\n",
       "      <td>Manga</td>\n",
       "      <td>23 min. per ep.</td>\n",
       "      <td>Adventure, Fantasy, Shounen, Supernatural</td>\n",
       "    </tr>\n",
       "  </tbody>\n",
       "</table>\n",
       "</div>"
      ],
      "text/plain": [
       "   new_anime_index                             Name   Type Episodes  \\\n",
       "0                0                     Cowboy Bebop     TV       26   \n",
       "1                1  Cowboy Bebop: Tengoku no Tobira  Movie        1   \n",
       "2                2                           Trigun     TV       26   \n",
       "3                3               Witch Hunter Robin     TV       26   \n",
       "4                4                   Bouken Ou Beet     TV       52   \n",
       "\n",
       "                          Aired    Premiered  \\\n",
       "0   Apr 3, 1998 to Apr 24, 1999  Spring 1998   \n",
       "1                   Sep 1, 2001      Unknown   \n",
       "2   Apr 1, 1998 to Sep 30, 1998  Spring 1998   \n",
       "3   Jul 2, 2002 to Dec 24, 2002  Summer 2002   \n",
       "4  Sep 30, 2004 to Sep 29, 2005    Fall 2004   \n",
       "\n",
       "                                           Producers  \\\n",
       "0                                      Bandai Visual   \n",
       "1                             Sunrise, Bandai Visual   \n",
       "2                               Victor Entertainment   \n",
       "3  TV Tokyo, Bandai Visual, Dentsu, Victor Entert...   \n",
       "4                                   TV Tokyo, Dentsu   \n",
       "\n",
       "                              Licensors         Studios    Source  \\\n",
       "0      Funimation, Bandai Entertainment         Sunrise  Original   \n",
       "1           Sony Pictures Entertainment           Bones  Original   \n",
       "2  Funimation, Geneon Entertainment USA        Madhouse     Manga   \n",
       "3      Funimation, Bandai Entertainment         Sunrise  Original   \n",
       "4                               Unknown  Toei Animation     Manga   \n",
       "\n",
       "          Duration                                             Genres  \n",
       "0  24 min. per ep.    Action, Adventure, Comedy, Drama, Sci-Fi, Space  \n",
       "1    1 hr. 55 min.              Action, Drama, Mystery, Sci-Fi, Space  \n",
       "2  24 min. per ep.  Action, Sci-Fi, Adventure, Comedy, Drama, Shounen  \n",
       "3  25 min. per ep.  Action, Mystery, Police, Supernatural, Drama, ...  \n",
       "4  23 min. per ep.          Adventure, Fantasy, Shounen, Supernatural  "
      ]
     },
     "execution_count": 19,
     "metadata": {},
     "output_type": "execute_result"
    }
   ],
   "source": [
    "#extract the anime features\n",
    "anime_features = anime[['new_anime_index', 'Name', 'Type', 'Episodes', 'Aired', 'Premiered', 'Producers', 'Licensors', 'Studios', 'Source', 'Duration' ,'Genres']]\n",
    "anime_features.head()"
   ]
  },
  {
   "cell_type": "markdown",
   "id": "afa28d67",
   "metadata": {
    "papermill": {
     "duration": 0.098917,
     "end_time": "2023-06-01T01:21:08.519922",
     "exception": false,
     "start_time": "2023-06-01T01:21:08.421005",
     "status": "completed"
    },
    "tags": []
   },
   "source": [
    "Based on my domain knowledge of animes, I realized that some of these features are of less importance or have coincided with another feature. Let's drop the more useless ones.\n",
    "\n",
    "* **Premiered**: Somewhat coincides with the Aired date, with many unknown values\n",
    "* **Producers**: Not a very important variable. Anime viewers tend to be more concerned about the production studio.\n",
    "* **Licensors**: Also not a very important variable for the viewers\n",
    "* **Duration**: Somewhat coincides with the episode variable. An anime with 1 episode tends to be a movie with duration of at least 1 hour. Most other animes are around 20-25 mins long. So it's not a particularly very important variable."
   ]
  },
  {
   "cell_type": "code",
   "execution_count": 20,
   "id": "539a3580",
   "metadata": {
    "execution": {
     "iopub.execute_input": "2023-06-01T01:21:08.730553Z",
     "iopub.status.busy": "2023-06-01T01:21:08.729871Z",
     "iopub.status.idle": "2023-06-01T01:21:08.743923Z",
     "shell.execute_reply": "2023-06-01T01:21:08.744532Z",
     "shell.execute_reply.started": "2023-06-01T00:34:51.726755Z"
    },
    "papermill": {
     "duration": 0.121485,
     "end_time": "2023-06-01T01:21:08.744686",
     "exception": false,
     "start_time": "2023-06-01T01:21:08.623201",
     "status": "completed"
    },
    "tags": []
   },
   "outputs": [
    {
     "data": {
      "text/html": [
       "<div>\n",
       "<style scoped>\n",
       "    .dataframe tbody tr th:only-of-type {\n",
       "        vertical-align: middle;\n",
       "    }\n",
       "\n",
       "    .dataframe tbody tr th {\n",
       "        vertical-align: top;\n",
       "    }\n",
       "\n",
       "    .dataframe thead th {\n",
       "        text-align: right;\n",
       "    }\n",
       "</style>\n",
       "<table border=\"1\" class=\"dataframe\">\n",
       "  <thead>\n",
       "    <tr style=\"text-align: right;\">\n",
       "      <th></th>\n",
       "      <th>new_anime_index</th>\n",
       "      <th>Name</th>\n",
       "      <th>Type</th>\n",
       "      <th>Episodes</th>\n",
       "      <th>Aired</th>\n",
       "      <th>Studios</th>\n",
       "      <th>Source</th>\n",
       "      <th>Genres</th>\n",
       "    </tr>\n",
       "  </thead>\n",
       "  <tbody>\n",
       "    <tr>\n",
       "      <th>0</th>\n",
       "      <td>0</td>\n",
       "      <td>Cowboy Bebop</td>\n",
       "      <td>TV</td>\n",
       "      <td>26</td>\n",
       "      <td>Apr 3, 1998 to Apr 24, 1999</td>\n",
       "      <td>Sunrise</td>\n",
       "      <td>Original</td>\n",
       "      <td>Action, Adventure, Comedy, Drama, Sci-Fi, Space</td>\n",
       "    </tr>\n",
       "    <tr>\n",
       "      <th>1</th>\n",
       "      <td>1</td>\n",
       "      <td>Cowboy Bebop: Tengoku no Tobira</td>\n",
       "      <td>Movie</td>\n",
       "      <td>1</td>\n",
       "      <td>Sep 1, 2001</td>\n",
       "      <td>Bones</td>\n",
       "      <td>Original</td>\n",
       "      <td>Action, Drama, Mystery, Sci-Fi, Space</td>\n",
       "    </tr>\n",
       "    <tr>\n",
       "      <th>2</th>\n",
       "      <td>2</td>\n",
       "      <td>Trigun</td>\n",
       "      <td>TV</td>\n",
       "      <td>26</td>\n",
       "      <td>Apr 1, 1998 to Sep 30, 1998</td>\n",
       "      <td>Madhouse</td>\n",
       "      <td>Manga</td>\n",
       "      <td>Action, Sci-Fi, Adventure, Comedy, Drama, Shounen</td>\n",
       "    </tr>\n",
       "    <tr>\n",
       "      <th>3</th>\n",
       "      <td>3</td>\n",
       "      <td>Witch Hunter Robin</td>\n",
       "      <td>TV</td>\n",
       "      <td>26</td>\n",
       "      <td>Jul 2, 2002 to Dec 24, 2002</td>\n",
       "      <td>Sunrise</td>\n",
       "      <td>Original</td>\n",
       "      <td>Action, Mystery, Police, Supernatural, Drama, ...</td>\n",
       "    </tr>\n",
       "    <tr>\n",
       "      <th>4</th>\n",
       "      <td>4</td>\n",
       "      <td>Bouken Ou Beet</td>\n",
       "      <td>TV</td>\n",
       "      <td>52</td>\n",
       "      <td>Sep 30, 2004 to Sep 29, 2005</td>\n",
       "      <td>Toei Animation</td>\n",
       "      <td>Manga</td>\n",
       "      <td>Adventure, Fantasy, Shounen, Supernatural</td>\n",
       "    </tr>\n",
       "  </tbody>\n",
       "</table>\n",
       "</div>"
      ],
      "text/plain": [
       "   new_anime_index                             Name   Type Episodes  \\\n",
       "0                0                     Cowboy Bebop     TV       26   \n",
       "1                1  Cowboy Bebop: Tengoku no Tobira  Movie        1   \n",
       "2                2                           Trigun     TV       26   \n",
       "3                3               Witch Hunter Robin     TV       26   \n",
       "4                4                   Bouken Ou Beet     TV       52   \n",
       "\n",
       "                          Aired         Studios    Source  \\\n",
       "0   Apr 3, 1998 to Apr 24, 1999         Sunrise  Original   \n",
       "1                   Sep 1, 2001           Bones  Original   \n",
       "2   Apr 1, 1998 to Sep 30, 1998        Madhouse     Manga   \n",
       "3   Jul 2, 2002 to Dec 24, 2002         Sunrise  Original   \n",
       "4  Sep 30, 2004 to Sep 29, 2005  Toei Animation     Manga   \n",
       "\n",
       "                                              Genres  \n",
       "0    Action, Adventure, Comedy, Drama, Sci-Fi, Space  \n",
       "1              Action, Drama, Mystery, Sci-Fi, Space  \n",
       "2  Action, Sci-Fi, Adventure, Comedy, Drama, Shounen  \n",
       "3  Action, Mystery, Police, Supernatural, Drama, ...  \n",
       "4          Adventure, Fantasy, Shounen, Supernatural  "
      ]
     },
     "execution_count": 20,
     "metadata": {},
     "output_type": "execute_result"
    }
   ],
   "source": [
    "#drop the useless variables\n",
    "anime_features = anime_features.drop(['Premiered', 'Producers', 'Licensors', 'Duration'], axis=1)\n",
    "anime_features.head()"
   ]
  },
  {
   "cell_type": "markdown",
   "id": "b5a60d5c",
   "metadata": {
    "papermill": {
     "duration": 0.103352,
     "end_time": "2023-06-01T01:21:08.951290",
     "exception": false,
     "start_time": "2023-06-01T01:21:08.847938",
     "status": "completed"
    },
    "tags": []
   },
   "source": [
    "Now we're left with 6 variables. Let's take a deeper dive into each of these variables and see if they require any data preprocessing."
   ]
  },
  {
   "cell_type": "code",
   "execution_count": 21,
   "id": "d9e96beb",
   "metadata": {
    "execution": {
     "iopub.execute_input": "2023-06-01T01:21:09.170563Z",
     "iopub.status.busy": "2023-06-01T01:21:09.169616Z",
     "iopub.status.idle": "2023-06-01T01:21:09.179811Z",
     "shell.execute_reply": "2023-06-01T01:21:09.180391Z",
     "shell.execute_reply.started": "2023-06-01T00:34:51.745791Z"
    },
    "papermill": {
     "duration": 0.127964,
     "end_time": "2023-06-01T01:21:09.180592",
     "exception": false,
     "start_time": "2023-06-01T01:21:09.052628",
     "status": "completed"
    },
    "tags": []
   },
   "outputs": [
    {
     "name": "stdout",
     "output_type": "stream",
     "text": [
      "<class 'pandas.core.frame.DataFrame'>\n",
      "RangeIndex: 17046 entries, 0 to 17045\n",
      "Data columns (total 8 columns):\n",
      " #   Column           Non-Null Count  Dtype \n",
      "---  ------           --------------  ----- \n",
      " 0   new_anime_index  17046 non-null  int64 \n",
      " 1   Name             17046 non-null  object\n",
      " 2   Type             17046 non-null  object\n",
      " 3   Episodes         17046 non-null  object\n",
      " 4   Aired            17046 non-null  object\n",
      " 5   Studios          17046 non-null  object\n",
      " 6   Source           17046 non-null  object\n",
      " 7   Genres           17046 non-null  object\n",
      "dtypes: int64(1), object(7)\n",
      "memory usage: 1.0+ MB\n"
     ]
    }
   ],
   "source": [
    "anime_features.info()"
   ]
  },
  {
   "cell_type": "markdown",
   "id": "7ee5a031",
   "metadata": {
    "papermill": {
     "duration": 0.099461,
     "end_time": "2023-06-01T01:21:09.379588",
     "exception": false,
     "start_time": "2023-06-01T01:21:09.280127",
     "status": "completed"
    },
    "tags": []
   },
   "source": [
    "## Anime Type\n",
    "\n",
    "There's nothing really special about the anime `Type`. It's a categorical variable that takes on seven values. We just have to encode it."
   ]
  },
  {
   "cell_type": "code",
   "execution_count": 22,
   "id": "6ea0fffe",
   "metadata": {
    "execution": {
     "iopub.execute_input": "2023-06-01T01:21:09.586624Z",
     "iopub.status.busy": "2023-06-01T01:21:09.585653Z",
     "iopub.status.idle": "2023-06-01T01:21:09.590928Z",
     "shell.execute_reply": "2023-06-01T01:21:09.590366Z",
     "shell.execute_reply.started": "2023-06-01T00:34:51.770087Z"
    },
    "papermill": {
     "duration": 0.112064,
     "end_time": "2023-06-01T01:21:09.591063",
     "exception": false,
     "start_time": "2023-06-01T01:21:09.478999",
     "status": "completed"
    },
    "tags": []
   },
   "outputs": [
    {
     "data": {
      "text/plain": [
       "array(['TV', 'Movie', 'OVA', 'Special', 'ONA', 'Music', 'Unknown'],\n",
       "      dtype=object)"
      ]
     },
     "execution_count": 22,
     "metadata": {},
     "output_type": "execute_result"
    }
   ],
   "source": [
    "anime_features.Type.unique()"
   ]
  },
  {
   "cell_type": "markdown",
   "id": "e7634905",
   "metadata": {
    "papermill": {
     "duration": 0.17225,
     "end_time": "2023-06-01T01:21:09.871455",
     "exception": false,
     "start_time": "2023-06-01T01:21:09.699205",
     "status": "completed"
    },
    "tags": []
   },
   "source": [
    "## Episodes\n",
    "\n",
    "`Episodes` is an interesting one. Considering that we have over 17000 animes in our dataset, the number of episodes will inevitably vary. Based on my knowledge on animes, we can group these into a few categories."
   ]
  },
  {
   "cell_type": "code",
   "execution_count": 23,
   "id": "1dc42408",
   "metadata": {
    "execution": {
     "iopub.execute_input": "2023-06-01T01:21:10.101776Z",
     "iopub.status.busy": "2023-06-01T01:21:10.100896Z",
     "iopub.status.idle": "2023-06-01T01:21:10.106361Z",
     "shell.execute_reply": "2023-06-01T01:21:10.106952Z",
     "shell.execute_reply.started": "2023-06-01T00:34:51.780258Z"
    },
    "papermill": {
     "duration": 0.111516,
     "end_time": "2023-06-01T01:21:10.107110",
     "exception": false,
     "start_time": "2023-06-01T01:21:09.995594",
     "status": "completed"
    },
    "tags": []
   },
   "outputs": [
    {
     "data": {
      "text/plain": [
       "array(['26', '1', '52', '145', '24', '74', '220', '178', '12', '22', '69',\n",
       "       '25', '4', '94', '5', '3', '13', '23', '43', '6', '50', '47', '51',\n",
       "       '49', '39', '8', '7', '75', '62', '14', '44', '45', '64', '101',\n",
       "       '27', '161', '2', '153', '70', '78', '42', '11', '167', '150',\n",
       "       '366', '9', '16', '38', '48', '10', '76', '40', '20', '37', '41',\n",
       "       '112', '224', '180', '296', '358', '63', '276', '46', '54', '15',\n",
       "       '21', '35', '124', '86', '102', '36', '67', '291', '110', '29',\n",
       "       '55', '201', '142', '109', '34', '136', '32', '73', '114', '19',\n",
       "       '195', '58', '155', '96', '103', '113', '104', '192', '191', '203',\n",
       "       '56', '500', '80', '172', '65', '117', '28', '61', '30', '148',\n",
       "       '128', '100', '17', '243', '92', '105', '79', '31', '1787', '53',\n",
       "       '33', '130', '18', '97', '193', '115', '170', '66', '330', '108',\n",
       "       '68', '119', '95', '137', '60', '77', '72', '127', '99', '373',\n",
       "       '300', '163', '91', '88', '154', '156', '694', '87', '225', '164',\n",
       "       '215', '59', '182', '305', '365', '1471', '331', '175', '143',\n",
       "       '200', '510', '151', '1428', '84', '726', '140', '83', '3057',\n",
       "       '147', '1006', '425', '85', '260', '526', '1818', '258', '398',\n",
       "       '431', '312', '263', '237', '214', '93', '132', '162', '90', '240',\n",
       "       '283', '773', '199', '1274', '1565', '71', '125', '131', '139',\n",
       "       '475', '1306', '89', '744', '120', '146', '122', '135', '160'],\n",
       "      dtype=object)"
      ]
     },
     "execution_count": 23,
     "metadata": {},
     "output_type": "execute_result"
    }
   ],
   "source": [
    "anime_features.Episodes.unique()"
   ]
  },
  {
   "cell_type": "code",
   "execution_count": 24,
   "id": "412220d5",
   "metadata": {
    "execution": {
     "iopub.execute_input": "2023-06-01T01:21:10.330125Z",
     "iopub.status.busy": "2023-06-01T01:21:10.329060Z",
     "iopub.status.idle": "2023-06-01T01:21:10.332962Z",
     "shell.execute_reply": "2023-06-01T01:21:10.333479Z",
     "shell.execute_reply.started": "2023-06-01T00:34:51.792217Z"
    },
    "papermill": {
     "duration": 0.122892,
     "end_time": "2023-06-01T01:21:10.333623",
     "exception": false,
     "start_time": "2023-06-01T01:21:10.210731",
     "status": "completed"
    },
    "tags": []
   },
   "outputs": [],
   "source": [
    "#change datatype\n",
    "anime_features['Episodes'] = pd.to_numeric(anime_features['Episodes'].copy())"
   ]
  },
  {
   "cell_type": "markdown",
   "id": "ccd48112",
   "metadata": {
    "papermill": {
     "duration": 0.100771,
     "end_time": "2023-06-01T01:21:10.536088",
     "exception": false,
     "start_time": "2023-06-01T01:21:10.435317",
     "status": "completed"
    },
    "tags": []
   },
   "source": [
    "Typically, animes are released by seasons in January, April, July and October. Most individual season last three months with approximately 12 episodes. Some go longer to about 24 episodes (which lasts two seasons, or 6 months. So, we'll be categorizing the animes based on these time periods."
   ]
  },
  {
   "cell_type": "code",
   "execution_count": 25,
   "id": "fe0d9558",
   "metadata": {
    "execution": {
     "iopub.execute_input": "2023-06-01T01:21:10.757236Z",
     "iopub.status.busy": "2023-06-01T01:21:10.756171Z",
     "iopub.status.idle": "2023-06-01T01:21:13.278874Z",
     "shell.execute_reply": "2023-06-01T01:21:13.280001Z",
     "shell.execute_reply.started": "2023-06-01T00:34:51.813008Z"
    },
    "papermill": {
     "duration": 2.641098,
     "end_time": "2023-06-01T01:21:13.280247",
     "exception": false,
     "start_time": "2023-06-01T01:21:10.639149",
     "status": "completed"
    },
    "tags": []
   },
   "outputs": [
    {
     "data": {
      "text/plain": [
       "array(['6-months', 'One Episode', 'Very Long', '3-months', 'Short',\n",
       "       'Long', '4-5-months'], dtype=object)"
      ]
     },
     "execution_count": 25,
     "metadata": {},
     "output_type": "execute_result"
    }
   ],
   "source": [
    "#find the maximum number of episode\n",
    "max_episodes = anime_features['Episodes'].max()\n",
    "\n",
    "#put episodes into categories\n",
    "anime_features['Episodes'] = anime_features['Episodes'].copy().replace(1, \"One Episode\")\n",
    "anime_features['Episodes'] = anime_features['Episodes'].copy().replace(range(2,11), \"Short\")\n",
    "anime_features['Episodes'] = anime_features['Episodes'].copy().replace(range(11,15), \"3-months\")\n",
    "anime_features['Episodes'] = anime_features['Episodes'].copy().replace(range(15,21), \"4-5-months\")\n",
    "anime_features['Episodes'] = anime_features['Episodes'].copy().replace(range(21,27), \"6-months\")\n",
    "anime_features['Episodes'] = anime_features['Episodes'].copy().replace(range(27,51), \"Long\")\n",
    "anime_features['Episodes'] = anime_features['Episodes'].copy().replace(range(51,max_episodes+1), \"Very Long\")\n",
    "\n",
    "anime_features.Episodes.unique()"
   ]
  },
  {
   "cell_type": "markdown",
   "id": "354ed2cf",
   "metadata": {
    "papermill": {
     "duration": 0.144117,
     "end_time": "2023-06-01T01:21:13.566758",
     "exception": false,
     "start_time": "2023-06-01T01:21:13.422641",
     "status": "completed"
    },
    "tags": []
   },
   "source": [
    "## Aired Time\n",
    "\n",
    "Next, `Aired Time`. We'll be extracting the year value from `Aired Time` and then categorize the year based on how old it is. To be honest, I struggled a bit trying to extract the year value, so I ended up using error handling. The code works but it's not pretty and so if you have a better solution, please help me out. "
   ]
  },
  {
   "cell_type": "code",
   "execution_count": 26,
   "id": "da495ff4",
   "metadata": {
    "execution": {
     "iopub.execute_input": "2023-06-01T01:21:13.853652Z",
     "iopub.status.busy": "2023-06-01T01:21:13.852859Z",
     "iopub.status.idle": "2023-06-01T01:21:14.233914Z",
     "shell.execute_reply": "2023-06-01T01:21:14.235040Z",
     "shell.execute_reply.started": "2023-06-01T00:34:54.563785Z"
    },
    "papermill": {
     "duration": 0.530084,
     "end_time": "2023-06-01T01:21:14.235262",
     "exception": false,
     "start_time": "2023-06-01T01:21:13.705178",
     "status": "completed"
    },
    "tags": []
   },
   "outputs": [],
   "source": [
    "from datetime import datetime\n",
    "\n",
    "lstAired = []\n",
    "\n",
    "for date in anime_features.Aired:\n",
    "    \n",
    "    #seperate the date\n",
    "    x = date.split(' to ')\n",
    "    \n",
    "    #if the date follows the following format: eg. Jan 01, 2000\n",
    "    try:\n",
    "        date_object = datetime.strptime(x[0], \"%b %d, %Y\")\n",
    "    except:\n",
    "        \n",
    "        #if the date follows the following format: eg. Jan, 2000\n",
    "        try:\n",
    "            date_object = datetime.strptime(x[0], \"%b, %Y\")\n",
    "        except:\n",
    "            \n",
    "            #if the date follows the following format: eg. 2000\n",
    "            try:\n",
    "                date_object = datetime.strptime(x[0], \"%Y\")\n",
    "            except:\n",
    "                \n",
    "                #append unknown values to the list\n",
    "                lstAired.append(x[0])\n",
    "                continue\n",
    "    \n",
    "    #append the year value to the list\n",
    "    lstAired.append(date_object.year)"
   ]
  },
  {
   "cell_type": "markdown",
   "id": "b8efd738",
   "metadata": {
    "papermill": {
     "duration": 0.100126,
     "end_time": "2023-06-01T01:21:14.468367",
     "exception": false,
     "start_time": "2023-06-01T01:21:14.368241",
     "status": "completed"
    },
    "tags": []
   },
   "source": [
    "The year value is then categorized into intervals of five years. "
   ]
  },
  {
   "cell_type": "code",
   "execution_count": 27,
   "id": "93c0a0a1",
   "metadata": {
    "execution": {
     "iopub.execute_input": "2023-06-01T01:21:14.703508Z",
     "iopub.status.busy": "2023-06-01T01:21:14.690162Z",
     "iopub.status.idle": "2023-06-01T01:21:14.707296Z",
     "shell.execute_reply": "2023-06-01T01:21:14.708039Z",
     "shell.execute_reply.started": "2023-06-01T00:34:54.832791Z"
    },
    "papermill": {
     "duration": 0.13608,
     "end_time": "2023-06-01T01:21:14.708191",
     "exception": false,
     "start_time": "2023-06-01T01:21:14.572111",
     "status": "completed"
    },
    "tags": []
   },
   "outputs": [
    {
     "data": {
      "text/html": [
       "<div>\n",
       "<style scoped>\n",
       "    .dataframe tbody tr th:only-of-type {\n",
       "        vertical-align: middle;\n",
       "    }\n",
       "\n",
       "    .dataframe tbody tr th {\n",
       "        vertical-align: top;\n",
       "    }\n",
       "\n",
       "    .dataframe thead th {\n",
       "        text-align: right;\n",
       "    }\n",
       "</style>\n",
       "<table border=\"1\" class=\"dataframe\">\n",
       "  <thead>\n",
       "    <tr style=\"text-align: right;\">\n",
       "      <th></th>\n",
       "      <th>new_anime_index</th>\n",
       "      <th>Name</th>\n",
       "      <th>Type</th>\n",
       "      <th>Episodes</th>\n",
       "      <th>Aired</th>\n",
       "      <th>Studios</th>\n",
       "      <th>Source</th>\n",
       "      <th>Genres</th>\n",
       "      <th>Era</th>\n",
       "    </tr>\n",
       "  </thead>\n",
       "  <tbody>\n",
       "    <tr>\n",
       "      <th>0</th>\n",
       "      <td>0</td>\n",
       "      <td>Cowboy Bebop</td>\n",
       "      <td>TV</td>\n",
       "      <td>6-months</td>\n",
       "      <td>Apr 3, 1998 to Apr 24, 1999</td>\n",
       "      <td>Sunrise</td>\n",
       "      <td>Original</td>\n",
       "      <td>Action, Adventure, Comedy, Drama, Sci-Fi, Space</td>\n",
       "      <td>Very Old</td>\n",
       "    </tr>\n",
       "    <tr>\n",
       "      <th>1</th>\n",
       "      <td>1</td>\n",
       "      <td>Cowboy Bebop: Tengoku no Tobira</td>\n",
       "      <td>Movie</td>\n",
       "      <td>One Episode</td>\n",
       "      <td>Sep 1, 2001</td>\n",
       "      <td>Bones</td>\n",
       "      <td>Original</td>\n",
       "      <td>Action, Drama, Mystery, Sci-Fi, Space</td>\n",
       "      <td>Old</td>\n",
       "    </tr>\n",
       "    <tr>\n",
       "      <th>2</th>\n",
       "      <td>2</td>\n",
       "      <td>Trigun</td>\n",
       "      <td>TV</td>\n",
       "      <td>6-months</td>\n",
       "      <td>Apr 1, 1998 to Sep 30, 1998</td>\n",
       "      <td>Madhouse</td>\n",
       "      <td>Manga</td>\n",
       "      <td>Action, Sci-Fi, Adventure, Comedy, Drama, Shounen</td>\n",
       "      <td>Very Old</td>\n",
       "    </tr>\n",
       "    <tr>\n",
       "      <th>3</th>\n",
       "      <td>3</td>\n",
       "      <td>Witch Hunter Robin</td>\n",
       "      <td>TV</td>\n",
       "      <td>6-months</td>\n",
       "      <td>Jul 2, 2002 to Dec 24, 2002</td>\n",
       "      <td>Sunrise</td>\n",
       "      <td>Original</td>\n",
       "      <td>Action, Mystery, Police, Supernatural, Drama, ...</td>\n",
       "      <td>Old</td>\n",
       "    </tr>\n",
       "    <tr>\n",
       "      <th>4</th>\n",
       "      <td>4</td>\n",
       "      <td>Bouken Ou Beet</td>\n",
       "      <td>TV</td>\n",
       "      <td>Very Long</td>\n",
       "      <td>Sep 30, 2004 to Sep 29, 2005</td>\n",
       "      <td>Toei Animation</td>\n",
       "      <td>Manga</td>\n",
       "      <td>Adventure, Fantasy, Shounen, Supernatural</td>\n",
       "      <td>Old</td>\n",
       "    </tr>\n",
       "    <tr>\n",
       "      <th>...</th>\n",
       "      <td>...</td>\n",
       "      <td>...</td>\n",
       "      <td>...</td>\n",
       "      <td>...</td>\n",
       "      <td>...</td>\n",
       "      <td>...</td>\n",
       "      <td>...</td>\n",
       "      <td>...</td>\n",
       "      <td>...</td>\n",
       "    </tr>\n",
       "    <tr>\n",
       "      <th>17041</th>\n",
       "      <td>17041</td>\n",
       "      <td>Kitarou Tanjou: Gegege no Nazo</td>\n",
       "      <td>Movie</td>\n",
       "      <td>One Episode</td>\n",
       "      <td>Unknown</td>\n",
       "      <td>Unknown</td>\n",
       "      <td>Manga</td>\n",
       "      <td>Comedy, Demons, Supernatural, Shounen</td>\n",
       "      <td>Unknown</td>\n",
       "    </tr>\n",
       "    <tr>\n",
       "      <th>17042</th>\n",
       "      <td>17042</td>\n",
       "      <td>The Sun, Moon and Stars</td>\n",
       "      <td>Music</td>\n",
       "      <td>One Episode</td>\n",
       "      <td>Jan 18, 2021</td>\n",
       "      <td>Unknown</td>\n",
       "      <td>Other</td>\n",
       "      <td>Music</td>\n",
       "      <td>New</td>\n",
       "    </tr>\n",
       "    <tr>\n",
       "      <th>17043</th>\n",
       "      <td>17043</td>\n",
       "      <td>Mahoutsukai no Yome: Nishi no Shounen to Seira...</td>\n",
       "      <td>OVA</td>\n",
       "      <td>Short</td>\n",
       "      <td>Sep 10, 2021 to ?</td>\n",
       "      <td>Studio Kafka</td>\n",
       "      <td>Manga</td>\n",
       "      <td>Slice of Life, Magic, Fantasy, Shounen</td>\n",
       "      <td>New</td>\n",
       "    </tr>\n",
       "    <tr>\n",
       "      <th>17044</th>\n",
       "      <td>17044</td>\n",
       "      <td>SK∞: Crazy Rock Jam</td>\n",
       "      <td>Special</td>\n",
       "      <td>One Episode</td>\n",
       "      <td>Mar 14, 2021</td>\n",
       "      <td>Bones</td>\n",
       "      <td>Original</td>\n",
       "      <td>Comedy, Sports</td>\n",
       "      <td>New</td>\n",
       "    </tr>\n",
       "    <tr>\n",
       "      <th>17045</th>\n",
       "      <td>17045</td>\n",
       "      <td>Wan Jie Shen Zhu 3rd Season</td>\n",
       "      <td>ONA</td>\n",
       "      <td>Long</td>\n",
       "      <td>Mar 17, 2021 to ?</td>\n",
       "      <td>Unknown</td>\n",
       "      <td>Manga</td>\n",
       "      <td>Adventure, Fantasy</td>\n",
       "      <td>New</td>\n",
       "    </tr>\n",
       "  </tbody>\n",
       "</table>\n",
       "<p>17046 rows × 9 columns</p>\n",
       "</div>"
      ],
      "text/plain": [
       "       new_anime_index                                               Name  \\\n",
       "0                    0                                       Cowboy Bebop   \n",
       "1                    1                    Cowboy Bebop: Tengoku no Tobira   \n",
       "2                    2                                             Trigun   \n",
       "3                    3                                 Witch Hunter Robin   \n",
       "4                    4                                     Bouken Ou Beet   \n",
       "...                ...                                                ...   \n",
       "17041            17041                     Kitarou Tanjou: Gegege no Nazo   \n",
       "17042            17042                            The Sun, Moon and Stars   \n",
       "17043            17043  Mahoutsukai no Yome: Nishi no Shounen to Seira...   \n",
       "17044            17044                                SK∞: Crazy Rock Jam   \n",
       "17045            17045                        Wan Jie Shen Zhu 3rd Season   \n",
       "\n",
       "          Type     Episodes                         Aired         Studios  \\\n",
       "0           TV     6-months   Apr 3, 1998 to Apr 24, 1999         Sunrise   \n",
       "1        Movie  One Episode                   Sep 1, 2001           Bones   \n",
       "2           TV     6-months   Apr 1, 1998 to Sep 30, 1998        Madhouse   \n",
       "3           TV     6-months   Jul 2, 2002 to Dec 24, 2002         Sunrise   \n",
       "4           TV    Very Long  Sep 30, 2004 to Sep 29, 2005  Toei Animation   \n",
       "...        ...          ...                           ...             ...   \n",
       "17041    Movie  One Episode                       Unknown         Unknown   \n",
       "17042    Music  One Episode                  Jan 18, 2021         Unknown   \n",
       "17043      OVA        Short             Sep 10, 2021 to ?    Studio Kafka   \n",
       "17044  Special  One Episode                  Mar 14, 2021           Bones   \n",
       "17045      ONA         Long             Mar 17, 2021 to ?         Unknown   \n",
       "\n",
       "         Source                                             Genres       Era  \n",
       "0      Original    Action, Adventure, Comedy, Drama, Sci-Fi, Space  Very Old  \n",
       "1      Original              Action, Drama, Mystery, Sci-Fi, Space       Old  \n",
       "2         Manga  Action, Sci-Fi, Adventure, Comedy, Drama, Shounen  Very Old  \n",
       "3      Original  Action, Mystery, Police, Supernatural, Drama, ...       Old  \n",
       "4         Manga          Adventure, Fantasy, Shounen, Supernatural       Old  \n",
       "...         ...                                                ...       ...  \n",
       "17041     Manga              Comedy, Demons, Supernatural, Shounen   Unknown  \n",
       "17042     Other                                              Music       New  \n",
       "17043     Manga             Slice of Life, Magic, Fantasy, Shounen       New  \n",
       "17044  Original                                     Comedy, Sports       New  \n",
       "17045     Manga                                 Adventure, Fantasy       New  \n",
       "\n",
       "[17046 rows x 9 columns]"
      ]
     },
     "execution_count": 27,
     "metadata": {},
     "output_type": "execute_result"
    }
   ],
   "source": [
    "#categorize the animes' aired year\n",
    "lstEra = []\n",
    "\n",
    "for t in lstAired:\n",
    "    \n",
    "    if t == 'Unknown':\n",
    "        lstEra.append(\"Unknown\")\n",
    "        continue\n",
    "        \n",
    "    if t < 2000:\n",
    "        lstEra.append(\"Very Old\")\n",
    "    elif t < 2005:\n",
    "        lstEra.append(\"Old\")\n",
    "    elif t < 2010:\n",
    "        lstEra.append(\"Modern\")\n",
    "    elif t < 2015:\n",
    "        lstEra.append(\"Recent\")\n",
    "    else: \n",
    "        lstEra.append(\"New\")\n",
    "\n",
    "anime_features['Era'] = lstEra\n",
    "anime_features"
   ]
  },
  {
   "cell_type": "markdown",
   "id": "4d30f8c6",
   "metadata": {
    "papermill": {
     "duration": 0.100588,
     "end_time": "2023-06-01T01:21:14.911001",
     "exception": false,
     "start_time": "2023-06-01T01:21:14.810413",
     "status": "completed"
    },
    "tags": []
   },
   "source": [
    "## Source\n",
    "\n",
    "The `Source` of the anime is also just another categorical variable, so all we have to do is encode it."
   ]
  },
  {
   "cell_type": "code",
   "execution_count": 28,
   "id": "7d710788",
   "metadata": {
    "execution": {
     "iopub.execute_input": "2023-06-01T01:21:15.126550Z",
     "iopub.status.busy": "2023-06-01T01:21:15.125911Z",
     "iopub.status.idle": "2023-06-01T01:21:15.131928Z",
     "shell.execute_reply": "2023-06-01T01:21:15.132469Z",
     "shell.execute_reply.started": "2023-06-01T00:34:54.866062Z"
    },
    "papermill": {
     "duration": 0.117795,
     "end_time": "2023-06-01T01:21:15.132618",
     "exception": false,
     "start_time": "2023-06-01T01:21:15.014823",
     "status": "completed"
    },
    "tags": []
   },
   "outputs": [
    {
     "data": {
      "text/plain": [
       "array(['Original', 'Manga', 'Light novel', 'Game', 'Visual novel',\n",
       "       '4-koma manga', 'Novel', 'Unknown', 'Other', 'Picture book',\n",
       "       'Web manga', 'Music', 'Radio', 'Book', 'Card game',\n",
       "       'Digital manga'], dtype=object)"
      ]
     },
     "execution_count": 28,
     "metadata": {},
     "output_type": "execute_result"
    }
   ],
   "source": [
    "anime_features.Source.unique()"
   ]
  },
  {
   "cell_type": "markdown",
   "id": "3997bf5c",
   "metadata": {
    "papermill": {
     "duration": 0.103392,
     "end_time": "2023-06-01T01:21:15.340910",
     "exception": false,
     "start_time": "2023-06-01T01:21:15.237518",
     "status": "completed"
    },
    "tags": []
   },
   "source": [
    "## Studios\n",
    "\n",
    "The values of `Studios` (and `Genres`) are structured in almost a list format. Many animes are created by more than 1 studio (or more than 1 genre). This may seem hard to encode, but we can actually use the `Multilabelbinarizer` in sklearn to encode this type of data. First, we have to break the `Studios` (`Genres`) down into a list."
   ]
  },
  {
   "cell_type": "code",
   "execution_count": 29,
   "id": "53cbffd9",
   "metadata": {
    "execution": {
     "iopub.execute_input": "2023-06-01T01:21:15.554062Z",
     "iopub.status.busy": "2023-06-01T01:21:15.548882Z",
     "iopub.status.idle": "2023-06-01T01:21:15.566755Z",
     "shell.execute_reply": "2023-06-01T01:21:15.566268Z",
     "shell.execute_reply.started": "2023-06-01T00:34:54.883661Z"
    },
    "papermill": {
     "duration": 0.124478,
     "end_time": "2023-06-01T01:21:15.566917",
     "exception": false,
     "start_time": "2023-06-01T01:21:15.442439",
     "status": "completed"
    },
    "tags": []
   },
   "outputs": [],
   "source": [
    "#break studios into lists within a list\n",
    "studio_breakdown = []\n",
    "\n",
    "for studio in anime_features.Studios:\n",
    "    studio_lst = studio.split(', ')\n",
    "    studio_breakdown.append(studio_lst)"
   ]
  },
  {
   "cell_type": "code",
   "execution_count": 30,
   "id": "4782f050",
   "metadata": {
    "execution": {
     "iopub.execute_input": "2023-06-01T01:21:15.783015Z",
     "iopub.status.busy": "2023-06-01T01:21:15.782225Z",
     "iopub.status.idle": "2023-06-01T01:21:15.785486Z",
     "shell.execute_reply": "2023-06-01T01:21:15.786006Z",
     "shell.execute_reply.started": "2023-06-01T00:34:54.904040Z"
    },
    "papermill": {
     "duration": 0.115514,
     "end_time": "2023-06-01T01:21:15.786171",
     "exception": false,
     "start_time": "2023-06-01T01:21:15.670657",
     "status": "completed"
    },
    "tags": []
   },
   "outputs": [
    {
     "data": {
      "text/plain": [
       "[['Sunrise'],\n",
       " ['Bones'],\n",
       " ['Madhouse'],\n",
       " ['Sunrise'],\n",
       " ['Toei Animation'],\n",
       " ['Gallop'],\n",
       " ['J.C.Staff'],\n",
       " ['Nippon Animation'],\n",
       " ['A.C.G.T.'],\n",
       " ['Madhouse'],\n",
       " ['Studio Pierrot'],\n",
       " ['Trans Arts'],\n",
       " ['Toei Animation'],\n",
       " ['Studio Comet'],\n",
       " ['Gonzo'],\n",
       " ['Madhouse'],\n",
       " ['Gonzo'],\n",
       " ['Sunrise'],\n",
       " ['Studio Deen'],\n",
       " ['Gainax', 'Tatsunoko Production']]"
      ]
     },
     "execution_count": 30,
     "metadata": {},
     "output_type": "execute_result"
    }
   ],
   "source": [
    "studio_breakdown[0:20]"
   ]
  },
  {
   "cell_type": "markdown",
   "id": "6744eec0",
   "metadata": {
    "papermill": {
     "duration": 0.105073,
     "end_time": "2023-06-01T01:21:15.995538",
     "exception": false,
     "start_time": "2023-06-01T01:21:15.890465",
     "status": "completed"
    },
    "tags": []
   },
   "source": [
    "## Genres\n",
    "\n",
    "We do the same for `Genres`."
   ]
  },
  {
   "cell_type": "code",
   "execution_count": 31,
   "id": "3e35d1f1",
   "metadata": {
    "execution": {
     "iopub.execute_input": "2023-06-01T01:21:16.330038Z",
     "iopub.status.busy": "2023-06-01T01:21:16.329170Z",
     "iopub.status.idle": "2023-06-01T01:21:16.332576Z",
     "shell.execute_reply": "2023-06-01T01:21:16.332015Z",
     "shell.execute_reply.started": "2023-06-01T00:34:54.919303Z"
    },
    "papermill": {
     "duration": 0.230774,
     "end_time": "2023-06-01T01:21:16.332714",
     "exception": false,
     "start_time": "2023-06-01T01:21:16.101940",
     "status": "completed"
    },
    "tags": []
   },
   "outputs": [],
   "source": [
    "#break genres into lists within a list\n",
    "genres_breakdown = []\n",
    "\n",
    "for genre in anime_features.Genres:\n",
    "    genre_lst = genre.split(', ')\n",
    "    genres_breakdown.append(genre_lst)"
   ]
  },
  {
   "cell_type": "code",
   "execution_count": 32,
   "id": "bc880bcc",
   "metadata": {
    "execution": {
     "iopub.execute_input": "2023-06-01T01:21:16.553057Z",
     "iopub.status.busy": "2023-06-01T01:21:16.552283Z",
     "iopub.status.idle": "2023-06-01T01:21:16.555401Z",
     "shell.execute_reply": "2023-06-01T01:21:16.555899Z",
     "shell.execute_reply.started": "2023-06-01T00:34:55.038657Z"
    },
    "papermill": {
     "duration": 0.117352,
     "end_time": "2023-06-01T01:21:16.556052",
     "exception": false,
     "start_time": "2023-06-01T01:21:16.438700",
     "status": "completed"
    },
    "tags": []
   },
   "outputs": [
    {
     "data": {
      "text/plain": [
       "[['Action', 'Adventure', 'Comedy', 'Drama', 'Sci-Fi', 'Space'],\n",
       " ['Action', 'Drama', 'Mystery', 'Sci-Fi', 'Space'],\n",
       " ['Action', 'Sci-Fi', 'Adventure', 'Comedy', 'Drama', 'Shounen'],\n",
       " ['Action', 'Mystery', 'Police', 'Supernatural', 'Drama', 'Magic'],\n",
       " ['Adventure', 'Fantasy', 'Shounen', 'Supernatural']]"
      ]
     },
     "execution_count": 32,
     "metadata": {},
     "output_type": "execute_result"
    }
   ],
   "source": [
    "genres_breakdown[0:5]"
   ]
  },
  {
   "cell_type": "markdown",
   "id": "adb0feff",
   "metadata": {
    "papermill": {
     "duration": 0.11472,
     "end_time": "2023-06-01T01:21:16.782424",
     "exception": false,
     "start_time": "2023-06-01T01:21:16.667704",
     "status": "completed"
    },
    "tags": []
   },
   "source": [
    "And then, we can apply the lists to the `MultiLabelBinarizer`."
   ]
  },
  {
   "cell_type": "code",
   "execution_count": 33,
   "id": "b11a964b",
   "metadata": {
    "execution": {
     "iopub.execute_input": "2023-06-01T01:21:17.020559Z",
     "iopub.status.busy": "2023-06-01T01:21:17.010322Z",
     "iopub.status.idle": "2023-06-01T01:21:17.083738Z",
     "shell.execute_reply": "2023-06-01T01:21:17.084324Z",
     "shell.execute_reply.started": "2023-06-01T00:34:55.047814Z"
    },
    "papermill": {
     "duration": 0.197899,
     "end_time": "2023-06-01T01:21:17.084488",
     "exception": false,
     "start_time": "2023-06-01T01:21:16.886589",
     "status": "completed"
    },
    "tags": []
   },
   "outputs": [
    {
     "data": {
      "text/html": [
       "<div>\n",
       "<style scoped>\n",
       "    .dataframe tbody tr th:only-of-type {\n",
       "        vertical-align: middle;\n",
       "    }\n",
       "\n",
       "    .dataframe tbody tr th {\n",
       "        vertical-align: top;\n",
       "    }\n",
       "\n",
       "    .dataframe thead th {\n",
       "        text-align: right;\n",
       "    }\n",
       "</style>\n",
       "<table border=\"1\" class=\"dataframe\">\n",
       "  <thead>\n",
       "    <tr style=\"text-align: right;\">\n",
       "      <th></th>\n",
       "      <th>10Gauge</th>\n",
       "      <th>1IN</th>\n",
       "      <th>2:10 AM Animation</th>\n",
       "      <th>33 Collective</th>\n",
       "      <th>3xCube</th>\n",
       "      <th>81 Produce</th>\n",
       "      <th>8bit</th>\n",
       "      <th>A-1 Pictures</th>\n",
       "      <th>A-Line</th>\n",
       "      <th>A-Real</th>\n",
       "      <th>...</th>\n",
       "      <th>foodunited.</th>\n",
       "      <th>helo.inc</th>\n",
       "      <th>iDRAGONS Creative Studio</th>\n",
       "      <th>ixtl</th>\n",
       "      <th>l-a-unch・BOX</th>\n",
       "      <th>monofilmo</th>\n",
       "      <th>pH Studio</th>\n",
       "      <th>production doA</th>\n",
       "      <th>teamKG</th>\n",
       "      <th>ufotable</th>\n",
       "    </tr>\n",
       "  </thead>\n",
       "  <tbody>\n",
       "    <tr>\n",
       "      <th>0</th>\n",
       "      <td>0</td>\n",
       "      <td>0</td>\n",
       "      <td>0</td>\n",
       "      <td>0</td>\n",
       "      <td>0</td>\n",
       "      <td>0</td>\n",
       "      <td>0</td>\n",
       "      <td>0</td>\n",
       "      <td>0</td>\n",
       "      <td>0</td>\n",
       "      <td>...</td>\n",
       "      <td>0</td>\n",
       "      <td>0</td>\n",
       "      <td>0</td>\n",
       "      <td>0</td>\n",
       "      <td>0</td>\n",
       "      <td>0</td>\n",
       "      <td>0</td>\n",
       "      <td>0</td>\n",
       "      <td>0</td>\n",
       "      <td>0</td>\n",
       "    </tr>\n",
       "    <tr>\n",
       "      <th>1</th>\n",
       "      <td>0</td>\n",
       "      <td>0</td>\n",
       "      <td>0</td>\n",
       "      <td>0</td>\n",
       "      <td>0</td>\n",
       "      <td>0</td>\n",
       "      <td>0</td>\n",
       "      <td>0</td>\n",
       "      <td>0</td>\n",
       "      <td>0</td>\n",
       "      <td>...</td>\n",
       "      <td>0</td>\n",
       "      <td>0</td>\n",
       "      <td>0</td>\n",
       "      <td>0</td>\n",
       "      <td>0</td>\n",
       "      <td>0</td>\n",
       "      <td>0</td>\n",
       "      <td>0</td>\n",
       "      <td>0</td>\n",
       "      <td>0</td>\n",
       "    </tr>\n",
       "    <tr>\n",
       "      <th>2</th>\n",
       "      <td>0</td>\n",
       "      <td>0</td>\n",
       "      <td>0</td>\n",
       "      <td>0</td>\n",
       "      <td>0</td>\n",
       "      <td>0</td>\n",
       "      <td>0</td>\n",
       "      <td>0</td>\n",
       "      <td>0</td>\n",
       "      <td>0</td>\n",
       "      <td>...</td>\n",
       "      <td>0</td>\n",
       "      <td>0</td>\n",
       "      <td>0</td>\n",
       "      <td>0</td>\n",
       "      <td>0</td>\n",
       "      <td>0</td>\n",
       "      <td>0</td>\n",
       "      <td>0</td>\n",
       "      <td>0</td>\n",
       "      <td>0</td>\n",
       "    </tr>\n",
       "    <tr>\n",
       "      <th>3</th>\n",
       "      <td>0</td>\n",
       "      <td>0</td>\n",
       "      <td>0</td>\n",
       "      <td>0</td>\n",
       "      <td>0</td>\n",
       "      <td>0</td>\n",
       "      <td>0</td>\n",
       "      <td>0</td>\n",
       "      <td>0</td>\n",
       "      <td>0</td>\n",
       "      <td>...</td>\n",
       "      <td>0</td>\n",
       "      <td>0</td>\n",
       "      <td>0</td>\n",
       "      <td>0</td>\n",
       "      <td>0</td>\n",
       "      <td>0</td>\n",
       "      <td>0</td>\n",
       "      <td>0</td>\n",
       "      <td>0</td>\n",
       "      <td>0</td>\n",
       "    </tr>\n",
       "    <tr>\n",
       "      <th>4</th>\n",
       "      <td>0</td>\n",
       "      <td>0</td>\n",
       "      <td>0</td>\n",
       "      <td>0</td>\n",
       "      <td>0</td>\n",
       "      <td>0</td>\n",
       "      <td>0</td>\n",
       "      <td>0</td>\n",
       "      <td>0</td>\n",
       "      <td>0</td>\n",
       "      <td>...</td>\n",
       "      <td>0</td>\n",
       "      <td>0</td>\n",
       "      <td>0</td>\n",
       "      <td>0</td>\n",
       "      <td>0</td>\n",
       "      <td>0</td>\n",
       "      <td>0</td>\n",
       "      <td>0</td>\n",
       "      <td>0</td>\n",
       "      <td>0</td>\n",
       "    </tr>\n",
       "  </tbody>\n",
       "</table>\n",
       "<p>5 rows × 708 columns</p>\n",
       "</div>"
      ],
      "text/plain": [
       "   10Gauge  1IN  2:10 AM Animation  33 Collective  3xCube  81 Produce  8bit  \\\n",
       "0        0    0                  0              0       0           0     0   \n",
       "1        0    0                  0              0       0           0     0   \n",
       "2        0    0                  0              0       0           0     0   \n",
       "3        0    0                  0              0       0           0     0   \n",
       "4        0    0                  0              0       0           0     0   \n",
       "\n",
       "   A-1 Pictures  A-Line  A-Real  ...  foodunited.  helo.inc  \\\n",
       "0             0       0       0  ...            0         0   \n",
       "1             0       0       0  ...            0         0   \n",
       "2             0       0       0  ...            0         0   \n",
       "3             0       0       0  ...            0         0   \n",
       "4             0       0       0  ...            0         0   \n",
       "\n",
       "   iDRAGONS Creative Studio  ixtl  l-a-unch・BOX  monofilmo  pH Studio  \\\n",
       "0                         0     0             0          0          0   \n",
       "1                         0     0             0          0          0   \n",
       "2                         0     0             0          0          0   \n",
       "3                         0     0             0          0          0   \n",
       "4                         0     0             0          0          0   \n",
       "\n",
       "   production doA  teamKG  ufotable  \n",
       "0               0       0         0  \n",
       "1               0       0         0  \n",
       "2               0       0         0  \n",
       "3               0       0         0  \n",
       "4               0       0         0  \n",
       "\n",
       "[5 rows x 708 columns]"
      ]
     },
     "execution_count": 33,
     "metadata": {},
     "output_type": "execute_result"
    }
   ],
   "source": [
    "#encode studio\n",
    "mlb_studio = MultiLabelBinarizer()\n",
    "\n",
    "studio_breakdown_series = pd.Series(studio_breakdown)\n",
    "\n",
    "studio_encoded = pd.DataFrame(mlb_studio.fit_transform(studio_breakdown_series),\n",
    "                   columns=mlb_studio.classes_,\n",
    "                   index=studio_breakdown_series.index)\n",
    "\n",
    "studio_encoded.head()"
   ]
  },
  {
   "cell_type": "markdown",
   "id": "b41b8dca",
   "metadata": {
    "papermill": {
     "duration": 0.103429,
     "end_time": "2023-06-01T01:21:17.297953",
     "exception": false,
     "start_time": "2023-06-01T01:21:17.194524",
     "status": "completed"
    },
    "tags": []
   },
   "source": [
    "We concatenate the encoded `Studios` variable back to our main dataset and we do the same thing for `Genres`."
   ]
  },
  {
   "cell_type": "code",
   "execution_count": 34,
   "id": "4b2ddf35",
   "metadata": {
    "execution": {
     "iopub.execute_input": "2023-06-01T01:21:17.519071Z",
     "iopub.status.busy": "2023-06-01T01:21:17.517997Z",
     "iopub.status.idle": "2023-06-01T01:21:17.668453Z",
     "shell.execute_reply": "2023-06-01T01:21:17.667765Z",
     "shell.execute_reply.started": "2023-06-01T00:34:55.136381Z"
    },
    "papermill": {
     "duration": 0.261545,
     "end_time": "2023-06-01T01:21:17.668611",
     "exception": false,
     "start_time": "2023-06-01T01:21:17.407066",
     "status": "completed"
    },
    "tags": []
   },
   "outputs": [],
   "source": [
    "anime_features = pd.concat([anime_features, studio_encoded], axis=1)"
   ]
  },
  {
   "cell_type": "code",
   "execution_count": 35,
   "id": "597e917b",
   "metadata": {
    "execution": {
     "iopub.execute_input": "2023-06-01T01:21:17.888600Z",
     "iopub.status.busy": "2023-06-01T01:21:17.886733Z",
     "iopub.status.idle": "2023-06-01T01:21:17.979658Z",
     "shell.execute_reply": "2023-06-01T01:21:17.979090Z",
     "shell.execute_reply.started": "2023-06-01T00:34:55.283022Z"
    },
    "papermill": {
     "duration": 0.203124,
     "end_time": "2023-06-01T01:21:17.979830",
     "exception": false,
     "start_time": "2023-06-01T01:21:17.776706",
     "status": "completed"
    },
    "tags": []
   },
   "outputs": [],
   "source": [
    "#encode genre\n",
    "mlb_genre = MultiLabelBinarizer()\n",
    "\n",
    "genre_breakdown_series = pd.Series(genres_breakdown)\n",
    "\n",
    "genre_encoded = pd.DataFrame(mlb_genre.fit_transform(genre_breakdown_series),\n",
    "                   columns=mlb_genre.classes_,\n",
    "                   index=genre_breakdown_series.index)\n",
    "\n",
    "#concatenate anime feature dataframe with the genre encoded dataframe\n",
    "anime_features = pd.concat([anime_features, genre_encoded], axis=1)"
   ]
  },
  {
   "cell_type": "markdown",
   "id": "7961aa93",
   "metadata": {
    "papermill": {
     "duration": 0.109795,
     "end_time": "2023-06-01T01:21:18.194097",
     "exception": false,
     "start_time": "2023-06-01T01:21:18.084302",
     "status": "completed"
    },
    "tags": []
   },
   "source": [
    "Awesome! With both `Studios` and `Genres` encoded, all we're left to do is to encode the remaining variables."
   ]
  },
  {
   "cell_type": "code",
   "execution_count": 36,
   "id": "5d1949c0",
   "metadata": {
    "execution": {
     "iopub.execute_input": "2023-06-01T01:21:18.415248Z",
     "iopub.status.busy": "2023-06-01T01:21:18.413910Z",
     "iopub.status.idle": "2023-06-01T01:21:18.568315Z",
     "shell.execute_reply": "2023-06-01T01:21:18.567706Z",
     "shell.execute_reply.started": "2023-06-01T00:34:55.379380Z"
    },
    "papermill": {
     "duration": 0.270851,
     "end_time": "2023-06-01T01:21:18.568455",
     "exception": false,
     "start_time": "2023-06-01T01:21:18.297604",
     "status": "completed"
    },
    "tags": []
   },
   "outputs": [],
   "source": [
    "#encode the remaining variables\n",
    "cat_variables = anime_features[['Type','Episodes', 'Source', 'Era']]\n",
    "cat_dummies = pd.get_dummies(cat_variables)\n",
    "\n",
    "#drop the original variables\n",
    "anime_features = anime_features.drop(['Type','Episodes', 'Aired', 'Studios', 'Source', 'Era', 'Genres'], axis=1)\n",
    "anime_features = pd.concat([anime_features, cat_dummies], axis=1)"
   ]
  },
  {
   "cell_type": "markdown",
   "id": "01e84adb",
   "metadata": {
    "papermill": {
     "duration": 0.103278,
     "end_time": "2023-06-01T01:21:18.778946",
     "exception": false,
     "start_time": "2023-06-01T01:21:18.675668",
     "status": "completed"
    },
    "tags": []
   },
   "source": [
    "Perfect! Now we have processed all of the features."
   ]
  },
  {
   "cell_type": "code",
   "execution_count": 37,
   "id": "de8e19e3",
   "metadata": {
    "execution": {
     "iopub.execute_input": "2023-06-01T01:21:18.989851Z",
     "iopub.status.busy": "2023-06-01T01:21:18.989005Z",
     "iopub.status.idle": "2023-06-01T01:21:19.007503Z",
     "shell.execute_reply": "2023-06-01T01:21:19.006993Z",
     "shell.execute_reply.started": "2023-06-01T00:34:55.540251Z"
    },
    "papermill": {
     "duration": 0.124999,
     "end_time": "2023-06-01T01:21:19.007629",
     "exception": false,
     "start_time": "2023-06-01T01:21:18.882630",
     "status": "completed"
    },
    "tags": []
   },
   "outputs": [
    {
     "data": {
      "text/html": [
       "<div>\n",
       "<style scoped>\n",
       "    .dataframe tbody tr th:only-of-type {\n",
       "        vertical-align: middle;\n",
       "    }\n",
       "\n",
       "    .dataframe tbody tr th {\n",
       "        vertical-align: top;\n",
       "    }\n",
       "\n",
       "    .dataframe thead th {\n",
       "        text-align: right;\n",
       "    }\n",
       "</style>\n",
       "<table border=\"1\" class=\"dataframe\">\n",
       "  <thead>\n",
       "    <tr style=\"text-align: right;\">\n",
       "      <th></th>\n",
       "      <th>new_anime_index</th>\n",
       "      <th>Name</th>\n",
       "      <th>10Gauge</th>\n",
       "      <th>1IN</th>\n",
       "      <th>2:10 AM Animation</th>\n",
       "      <th>33 Collective</th>\n",
       "      <th>3xCube</th>\n",
       "      <th>81 Produce</th>\n",
       "      <th>8bit</th>\n",
       "      <th>A-1 Pictures</th>\n",
       "      <th>...</th>\n",
       "      <th>Source_Radio</th>\n",
       "      <th>Source_Unknown</th>\n",
       "      <th>Source_Visual novel</th>\n",
       "      <th>Source_Web manga</th>\n",
       "      <th>Era_Modern</th>\n",
       "      <th>Era_New</th>\n",
       "      <th>Era_Old</th>\n",
       "      <th>Era_Recent</th>\n",
       "      <th>Era_Unknown</th>\n",
       "      <th>Era_Very Old</th>\n",
       "    </tr>\n",
       "  </thead>\n",
       "  <tbody>\n",
       "    <tr>\n",
       "      <th>0</th>\n",
       "      <td>0</td>\n",
       "      <td>Cowboy Bebop</td>\n",
       "      <td>0</td>\n",
       "      <td>0</td>\n",
       "      <td>0</td>\n",
       "      <td>0</td>\n",
       "      <td>0</td>\n",
       "      <td>0</td>\n",
       "      <td>0</td>\n",
       "      <td>0</td>\n",
       "      <td>...</td>\n",
       "      <td>False</td>\n",
       "      <td>False</td>\n",
       "      <td>False</td>\n",
       "      <td>False</td>\n",
       "      <td>False</td>\n",
       "      <td>False</td>\n",
       "      <td>False</td>\n",
       "      <td>False</td>\n",
       "      <td>False</td>\n",
       "      <td>True</td>\n",
       "    </tr>\n",
       "    <tr>\n",
       "      <th>1</th>\n",
       "      <td>1</td>\n",
       "      <td>Cowboy Bebop: Tengoku no Tobira</td>\n",
       "      <td>0</td>\n",
       "      <td>0</td>\n",
       "      <td>0</td>\n",
       "      <td>0</td>\n",
       "      <td>0</td>\n",
       "      <td>0</td>\n",
       "      <td>0</td>\n",
       "      <td>0</td>\n",
       "      <td>...</td>\n",
       "      <td>False</td>\n",
       "      <td>False</td>\n",
       "      <td>False</td>\n",
       "      <td>False</td>\n",
       "      <td>False</td>\n",
       "      <td>False</td>\n",
       "      <td>True</td>\n",
       "      <td>False</td>\n",
       "      <td>False</td>\n",
       "      <td>False</td>\n",
       "    </tr>\n",
       "    <tr>\n",
       "      <th>2</th>\n",
       "      <td>2</td>\n",
       "      <td>Trigun</td>\n",
       "      <td>0</td>\n",
       "      <td>0</td>\n",
       "      <td>0</td>\n",
       "      <td>0</td>\n",
       "      <td>0</td>\n",
       "      <td>0</td>\n",
       "      <td>0</td>\n",
       "      <td>0</td>\n",
       "      <td>...</td>\n",
       "      <td>False</td>\n",
       "      <td>False</td>\n",
       "      <td>False</td>\n",
       "      <td>False</td>\n",
       "      <td>False</td>\n",
       "      <td>False</td>\n",
       "      <td>False</td>\n",
       "      <td>False</td>\n",
       "      <td>False</td>\n",
       "      <td>True</td>\n",
       "    </tr>\n",
       "    <tr>\n",
       "      <th>3</th>\n",
       "      <td>3</td>\n",
       "      <td>Witch Hunter Robin</td>\n",
       "      <td>0</td>\n",
       "      <td>0</td>\n",
       "      <td>0</td>\n",
       "      <td>0</td>\n",
       "      <td>0</td>\n",
       "      <td>0</td>\n",
       "      <td>0</td>\n",
       "      <td>0</td>\n",
       "      <td>...</td>\n",
       "      <td>False</td>\n",
       "      <td>False</td>\n",
       "      <td>False</td>\n",
       "      <td>False</td>\n",
       "      <td>False</td>\n",
       "      <td>False</td>\n",
       "      <td>True</td>\n",
       "      <td>False</td>\n",
       "      <td>False</td>\n",
       "      <td>False</td>\n",
       "    </tr>\n",
       "    <tr>\n",
       "      <th>4</th>\n",
       "      <td>4</td>\n",
       "      <td>Bouken Ou Beet</td>\n",
       "      <td>0</td>\n",
       "      <td>0</td>\n",
       "      <td>0</td>\n",
       "      <td>0</td>\n",
       "      <td>0</td>\n",
       "      <td>0</td>\n",
       "      <td>0</td>\n",
       "      <td>0</td>\n",
       "      <td>...</td>\n",
       "      <td>False</td>\n",
       "      <td>False</td>\n",
       "      <td>False</td>\n",
       "      <td>False</td>\n",
       "      <td>False</td>\n",
       "      <td>False</td>\n",
       "      <td>True</td>\n",
       "      <td>False</td>\n",
       "      <td>False</td>\n",
       "      <td>False</td>\n",
       "    </tr>\n",
       "  </tbody>\n",
       "</table>\n",
       "<p>5 rows × 790 columns</p>\n",
       "</div>"
      ],
      "text/plain": [
       "   new_anime_index                             Name  10Gauge  1IN  \\\n",
       "0                0                     Cowboy Bebop        0    0   \n",
       "1                1  Cowboy Bebop: Tengoku no Tobira        0    0   \n",
       "2                2                           Trigun        0    0   \n",
       "3                3               Witch Hunter Robin        0    0   \n",
       "4                4                   Bouken Ou Beet        0    0   \n",
       "\n",
       "   2:10 AM Animation  33 Collective  3xCube  81 Produce  8bit  A-1 Pictures  \\\n",
       "0                  0              0       0           0     0             0   \n",
       "1                  0              0       0           0     0             0   \n",
       "2                  0              0       0           0     0             0   \n",
       "3                  0              0       0           0     0             0   \n",
       "4                  0              0       0           0     0             0   \n",
       "\n",
       "   ...  Source_Radio  Source_Unknown  Source_Visual novel  Source_Web manga  \\\n",
       "0  ...         False           False                False             False   \n",
       "1  ...         False           False                False             False   \n",
       "2  ...         False           False                False             False   \n",
       "3  ...         False           False                False             False   \n",
       "4  ...         False           False                False             False   \n",
       "\n",
       "   Era_Modern  Era_New  Era_Old  Era_Recent  Era_Unknown  Era_Very Old  \n",
       "0       False    False    False       False        False          True  \n",
       "1       False    False     True       False        False         False  \n",
       "2       False    False    False       False        False          True  \n",
       "3       False    False     True       False        False         False  \n",
       "4       False    False     True       False        False         False  \n",
       "\n",
       "[5 rows x 790 columns]"
      ]
     },
     "execution_count": 37,
     "metadata": {},
     "output_type": "execute_result"
    }
   ],
   "source": [
    "anime_features.head()"
   ]
  },
  {
   "cell_type": "markdown",
   "id": "44bf87c2",
   "metadata": {
    "papermill": {
     "duration": 0.106197,
     "end_time": "2023-06-01T01:21:19.220193",
     "exception": false,
     "start_time": "2023-06-01T01:21:19.113996",
     "status": "completed"
    },
    "tags": []
   },
   "source": [
    "Before we move on to build our recommendation system, we want to remove `new_anime_index` and `Name` from our dataset. We only want the features to remain. For now, we'll have to identify each anime through its row index."
   ]
  },
  {
   "cell_type": "code",
   "execution_count": 38,
   "id": "738874fa",
   "metadata": {
    "execution": {
     "iopub.execute_input": "2023-06-01T01:21:19.437524Z",
     "iopub.status.busy": "2023-06-01T01:21:19.436233Z",
     "iopub.status.idle": "2023-06-01T01:21:19.551395Z",
     "shell.execute_reply": "2023-06-01T01:21:19.551918Z",
     "shell.execute_reply.started": "2023-06-01T00:34:55.562211Z"
    },
    "papermill": {
     "duration": 0.228032,
     "end_time": "2023-06-01T01:21:19.552128",
     "exception": false,
     "start_time": "2023-06-01T01:21:19.324096",
     "status": "completed"
    },
    "tags": []
   },
   "outputs": [
    {
     "data": {
      "text/html": [
       "<div>\n",
       "<style scoped>\n",
       "    .dataframe tbody tr th:only-of-type {\n",
       "        vertical-align: middle;\n",
       "    }\n",
       "\n",
       "    .dataframe tbody tr th {\n",
       "        vertical-align: top;\n",
       "    }\n",
       "\n",
       "    .dataframe thead th {\n",
       "        text-align: right;\n",
       "    }\n",
       "</style>\n",
       "<table border=\"1\" class=\"dataframe\">\n",
       "  <thead>\n",
       "    <tr style=\"text-align: right;\">\n",
       "      <th></th>\n",
       "      <th>10Gauge</th>\n",
       "      <th>1IN</th>\n",
       "      <th>2:10 AM Animation</th>\n",
       "      <th>33 Collective</th>\n",
       "      <th>3xCube</th>\n",
       "      <th>81 Produce</th>\n",
       "      <th>8bit</th>\n",
       "      <th>A-1 Pictures</th>\n",
       "      <th>A-Line</th>\n",
       "      <th>A-Real</th>\n",
       "      <th>...</th>\n",
       "      <th>Source_Radio</th>\n",
       "      <th>Source_Unknown</th>\n",
       "      <th>Source_Visual novel</th>\n",
       "      <th>Source_Web manga</th>\n",
       "      <th>Era_Modern</th>\n",
       "      <th>Era_New</th>\n",
       "      <th>Era_Old</th>\n",
       "      <th>Era_Recent</th>\n",
       "      <th>Era_Unknown</th>\n",
       "      <th>Era_Very Old</th>\n",
       "    </tr>\n",
       "  </thead>\n",
       "  <tbody>\n",
       "    <tr>\n",
       "      <th>0</th>\n",
       "      <td>0</td>\n",
       "      <td>0</td>\n",
       "      <td>0</td>\n",
       "      <td>0</td>\n",
       "      <td>0</td>\n",
       "      <td>0</td>\n",
       "      <td>0</td>\n",
       "      <td>0</td>\n",
       "      <td>0</td>\n",
       "      <td>0</td>\n",
       "      <td>...</td>\n",
       "      <td>False</td>\n",
       "      <td>False</td>\n",
       "      <td>False</td>\n",
       "      <td>False</td>\n",
       "      <td>False</td>\n",
       "      <td>False</td>\n",
       "      <td>False</td>\n",
       "      <td>False</td>\n",
       "      <td>False</td>\n",
       "      <td>True</td>\n",
       "    </tr>\n",
       "    <tr>\n",
       "      <th>1</th>\n",
       "      <td>0</td>\n",
       "      <td>0</td>\n",
       "      <td>0</td>\n",
       "      <td>0</td>\n",
       "      <td>0</td>\n",
       "      <td>0</td>\n",
       "      <td>0</td>\n",
       "      <td>0</td>\n",
       "      <td>0</td>\n",
       "      <td>0</td>\n",
       "      <td>...</td>\n",
       "      <td>False</td>\n",
       "      <td>False</td>\n",
       "      <td>False</td>\n",
       "      <td>False</td>\n",
       "      <td>False</td>\n",
       "      <td>False</td>\n",
       "      <td>True</td>\n",
       "      <td>False</td>\n",
       "      <td>False</td>\n",
       "      <td>False</td>\n",
       "    </tr>\n",
       "    <tr>\n",
       "      <th>2</th>\n",
       "      <td>0</td>\n",
       "      <td>0</td>\n",
       "      <td>0</td>\n",
       "      <td>0</td>\n",
       "      <td>0</td>\n",
       "      <td>0</td>\n",
       "      <td>0</td>\n",
       "      <td>0</td>\n",
       "      <td>0</td>\n",
       "      <td>0</td>\n",
       "      <td>...</td>\n",
       "      <td>False</td>\n",
       "      <td>False</td>\n",
       "      <td>False</td>\n",
       "      <td>False</td>\n",
       "      <td>False</td>\n",
       "      <td>False</td>\n",
       "      <td>False</td>\n",
       "      <td>False</td>\n",
       "      <td>False</td>\n",
       "      <td>True</td>\n",
       "    </tr>\n",
       "    <tr>\n",
       "      <th>3</th>\n",
       "      <td>0</td>\n",
       "      <td>0</td>\n",
       "      <td>0</td>\n",
       "      <td>0</td>\n",
       "      <td>0</td>\n",
       "      <td>0</td>\n",
       "      <td>0</td>\n",
       "      <td>0</td>\n",
       "      <td>0</td>\n",
       "      <td>0</td>\n",
       "      <td>...</td>\n",
       "      <td>False</td>\n",
       "      <td>False</td>\n",
       "      <td>False</td>\n",
       "      <td>False</td>\n",
       "      <td>False</td>\n",
       "      <td>False</td>\n",
       "      <td>True</td>\n",
       "      <td>False</td>\n",
       "      <td>False</td>\n",
       "      <td>False</td>\n",
       "    </tr>\n",
       "    <tr>\n",
       "      <th>4</th>\n",
       "      <td>0</td>\n",
       "      <td>0</td>\n",
       "      <td>0</td>\n",
       "      <td>0</td>\n",
       "      <td>0</td>\n",
       "      <td>0</td>\n",
       "      <td>0</td>\n",
       "      <td>0</td>\n",
       "      <td>0</td>\n",
       "      <td>0</td>\n",
       "      <td>...</td>\n",
       "      <td>False</td>\n",
       "      <td>False</td>\n",
       "      <td>False</td>\n",
       "      <td>False</td>\n",
       "      <td>False</td>\n",
       "      <td>False</td>\n",
       "      <td>True</td>\n",
       "      <td>False</td>\n",
       "      <td>False</td>\n",
       "      <td>False</td>\n",
       "    </tr>\n",
       "  </tbody>\n",
       "</table>\n",
       "<p>5 rows × 788 columns</p>\n",
       "</div>"
      ],
      "text/plain": [
       "   10Gauge  1IN  2:10 AM Animation  33 Collective  3xCube  81 Produce  8bit  \\\n",
       "0        0    0                  0              0       0           0     0   \n",
       "1        0    0                  0              0       0           0     0   \n",
       "2        0    0                  0              0       0           0     0   \n",
       "3        0    0                  0              0       0           0     0   \n",
       "4        0    0                  0              0       0           0     0   \n",
       "\n",
       "   A-1 Pictures  A-Line  A-Real  ...  Source_Radio  Source_Unknown  \\\n",
       "0             0       0       0  ...         False           False   \n",
       "1             0       0       0  ...         False           False   \n",
       "2             0       0       0  ...         False           False   \n",
       "3             0       0       0  ...         False           False   \n",
       "4             0       0       0  ...         False           False   \n",
       "\n",
       "   Source_Visual novel  Source_Web manga  Era_Modern  Era_New  Era_Old  \\\n",
       "0                False             False       False    False    False   \n",
       "1                False             False       False    False     True   \n",
       "2                False             False       False    False    False   \n",
       "3                False             False       False    False     True   \n",
       "4                False             False       False    False     True   \n",
       "\n",
       "   Era_Recent  Era_Unknown  Era_Very Old  \n",
       "0       False        False          True  \n",
       "1       False        False         False  \n",
       "2       False        False          True  \n",
       "3       False        False         False  \n",
       "4       False        False         False  \n",
       "\n",
       "[5 rows x 788 columns]"
      ]
     },
     "execution_count": 38,
     "metadata": {},
     "output_type": "execute_result"
    }
   ],
   "source": [
    "#drop new_anime_index and Name\n",
    "content_variables = anime_features.drop(['Name', 'new_anime_index'], axis=1)\n",
    "\n",
    "content_variables.head()"
   ]
  },
  {
   "cell_type": "markdown",
   "id": "0834792a",
   "metadata": {
    "papermill": {
     "duration": 0.109474,
     "end_time": "2023-06-01T01:21:19.767840",
     "exception": false,
     "start_time": "2023-06-01T01:21:19.658366",
     "status": "completed"
    },
    "tags": []
   },
   "source": [
    "# Get Recommendation Function\n",
    "\n",
    "With our feature table all preprocessed and settled, we can use it to find the cosine similarity between each and every row. Let's define a function to perform this step. Using the `cosine_similarity` function from `sklearn`, we can easily build a matrix that composes the cosine similarity between all rows of anime."
   ]
  },
  {
   "cell_type": "code",
   "execution_count": 39,
   "id": "bdafa538",
   "metadata": {
    "execution": {
     "iopub.execute_input": "2023-06-01T01:21:19.987225Z",
     "iopub.status.busy": "2023-06-01T01:21:19.985906Z",
     "iopub.status.idle": "2023-06-01T01:21:28.300652Z",
     "shell.execute_reply": "2023-06-01T01:21:28.302056Z",
     "shell.execute_reply.started": "2023-06-01T00:34:55.684299Z"
    },
    "papermill": {
     "duration": 8.427451,
     "end_time": "2023-06-01T01:21:28.302357",
     "exception": false,
     "start_time": "2023-06-01T01:21:19.874906",
     "status": "completed"
    },
    "tags": []
   },
   "outputs": [
    {
     "data": {
      "text/plain": [
       "(17046, 17046)"
      ]
     },
     "execution_count": 39,
     "metadata": {},
     "output_type": "execute_result"
    }
   ],
   "source": [
    "#find cosine similarity\n",
    "cosine_sim_content = cosine_similarity(content_variables, content_variables)\n",
    "\n",
    "cosine_sim_content.shape"
   ]
  },
  {
   "cell_type": "markdown",
   "id": "76c881c6",
   "metadata": {
    "papermill": {
     "duration": 0.10727,
     "end_time": "2023-06-01T01:21:28.578368",
     "exception": false,
     "start_time": "2023-06-01T01:21:28.471098",
     "status": "completed"
    },
    "tags": []
   },
   "source": [
    "Then, we build another series with the anime `Name` as the index and the `anime_index` as the value. This series will help us extract the top n closest anime by cosine similarity."
   ]
  },
  {
   "cell_type": "code",
   "execution_count": 40,
   "id": "ffdbcb0a",
   "metadata": {
    "execution": {
     "iopub.execute_input": "2023-06-01T01:21:28.799418Z",
     "iopub.status.busy": "2023-06-01T01:21:28.798520Z",
     "iopub.status.idle": "2023-06-01T01:21:28.807316Z",
     "shell.execute_reply": "2023-06-01T01:21:28.807807Z",
     "shell.execute_reply.started": "2023-06-01T00:35:03.615641Z"
    },
    "papermill": {
     "duration": 0.123072,
     "end_time": "2023-06-01T01:21:28.807961",
     "exception": false,
     "start_time": "2023-06-01T01:21:28.684889",
     "status": "completed"
    },
    "tags": []
   },
   "outputs": [
    {
     "data": {
      "text/plain": [
       "Name\n",
       "Cowboy Bebop                                                    0\n",
       "Cowboy Bebop: Tengoku no Tobira                                 1\n",
       "Trigun                                                          2\n",
       "Witch Hunter Robin                                              3\n",
       "Bouken Ou Beet                                                  4\n",
       "                                                            ...  \n",
       "Kitarou Tanjou: Gegege no Nazo                              17041\n",
       "The Sun, Moon and Stars                                     17042\n",
       "Mahoutsukai no Yome: Nishi no Shounen to Seiran no Kishi    17043\n",
       "SK∞: Crazy Rock Jam                                         17044\n",
       "Wan Jie Shen Zhu 3rd Season                                 17045\n",
       "Length: 17046, dtype: int64"
      ]
     },
     "execution_count": 40,
     "metadata": {},
     "output_type": "execute_result"
    }
   ],
   "source": [
    "#Construct a reverse map of indices and movie titles\n",
    "indices = pd.Series(anime_features.index, index=anime_features['Name']).drop_duplicates()\n",
    "indices"
   ]
  },
  {
   "cell_type": "markdown",
   "id": "012b27c4",
   "metadata": {
    "papermill": {
     "duration": 0.106449,
     "end_time": "2023-06-01T01:21:29.021051",
     "exception": false,
     "start_time": "2023-06-01T01:21:28.914602",
     "status": "completed"
    },
    "tags": []
   },
   "source": [
    "Finally, we build the function that takes in an *anime title* and the *cosine similarity matrix*. The function will output the top 10 most similar animes to the anime title given using the cosine similarity matrix."
   ]
  },
  {
   "cell_type": "code",
   "execution_count": 41,
   "id": "96b50a9a",
   "metadata": {
    "execution": {
     "iopub.execute_input": "2023-06-01T01:21:29.244177Z",
     "iopub.status.busy": "2023-06-01T01:21:29.243536Z",
     "iopub.status.idle": "2023-06-01T01:21:29.247680Z",
     "shell.execute_reply": "2023-06-01T01:21:29.247077Z",
     "shell.execute_reply.started": "2023-06-01T00:35:03.636079Z"
    },
    "papermill": {
     "duration": 0.118903,
     "end_time": "2023-06-01T01:21:29.247826",
     "exception": false,
     "start_time": "2023-06-01T01:21:29.128923",
     "status": "completed"
    },
    "tags": []
   },
   "outputs": [],
   "source": [
    "# Function that takes in anime title and similarity matrix as input and outputs most similar movies\n",
    "def get_recommendations(title, cosine_sim):\n",
    "\n",
    "    # Get the index of the input anime\n",
    "    idx = indices[title]\n",
    "\n",
    "    # Get the similarity scores of all movies with that anime\n",
    "    sim_scores = list(enumerate(cosine_sim[idx]))\n",
    "\n",
    "    # Sort the animes based on the similarity scores\n",
    "    sim_scores = sorted(sim_scores, key=lambda x: x[1], reverse=True)\n",
    "\n",
    "    # Get the scores of the 10 most similar animes, sim_scores[0] would be the anime itself\n",
    "    sim_scores = sim_scores[1:11]\n",
    "\n",
    "    # Get the anime indices\n",
    "    anime_indices = [i[0] for i in sim_scores]\n",
    "\n",
    "    # Return the top 10 most similar movies\n",
    "    return anime_features['Name'].iloc[anime_indices]"
   ]
  },
  {
   "cell_type": "markdown",
   "id": "0b20ee92",
   "metadata": {
    "papermill": {
     "duration": 0.106903,
     "end_time": "2023-06-01T01:21:29.463184",
     "exception": false,
     "start_time": "2023-06-01T01:21:29.356281",
     "status": "completed"
    },
    "tags": []
   },
   "source": [
    "We can test this function by feeding in *Shingeki no Kyojin* (*Attack on Titans*), and we can see that the results are quite accurate. The different seasons of *Attack on Titans* took 8 out of the 10 most similar spots. For those who are huge *Attack on Titans* fans, maybe you can try out *Zetsuen no Tempest* and *Akame ga Kill!* which also landed in the top 10 spots."
   ]
  },
  {
   "cell_type": "code",
   "execution_count": 42,
   "id": "ae39a41c",
   "metadata": {
    "execution": {
     "iopub.execute_input": "2023-06-01T01:21:29.701518Z",
     "iopub.status.busy": "2023-06-01T01:21:29.700840Z",
     "iopub.status.idle": "2023-06-01T01:21:29.706195Z",
     "shell.execute_reply": "2023-06-01T01:21:29.705670Z",
     "shell.execute_reply.started": "2023-06-01T00:35:03.646011Z"
    },
    "papermill": {
     "duration": 0.134928,
     "end_time": "2023-06-01T01:21:29.706323",
     "exception": false,
     "start_time": "2023-06-01T01:21:29.571395",
     "status": "completed"
    },
    "tags": []
   },
   "outputs": [
    {
     "data": {
      "text/plain": [
       "9363                     Shingeki no Kyojin Season 2\n",
       "13163                    Shingeki no Kyojin Season 3\n",
       "14828             Shingeki no Kyojin Season 3 Part 2\n",
       "7077                              Zetsuen no Tempest\n",
       "15740           Shingeki no Kyojin: The Final Season\n",
       "16533                  Shingeki no Kyojin: Chronicle\n",
       "7867                          Shingeki no Kyojin OVA\n",
       "8039                 Shingeki no Kyojin: Ano Hi Kara\n",
       "8612                                  Akame ga Kill!\n",
       "9002     Shingeki no Kyojin Movie 1: Guren no Yumiya\n",
       "Name: Name, dtype: object"
      ]
     },
     "execution_count": 42,
     "metadata": {},
     "output_type": "execute_result"
    }
   ],
   "source": [
    "get_recommendations('Shingeki no Kyojin', cosine_sim_content)"
   ]
  },
  {
   "cell_type": "markdown",
   "id": "caf2c9bd",
   "metadata": {
    "papermill": {
     "duration": 0.11079,
     "end_time": "2023-06-01T01:21:29.923901",
     "exception": false,
     "start_time": "2023-06-01T01:21:29.813111",
     "status": "completed"
    },
    "tags": []
   },
   "source": [
    "# Recommedation Based on Synopsis\n",
    "\n",
    "That was pretty simple right? Next, let's do something slightly more complicated. Let's build another similarity matrix using the synposis of the anime. But how does that work?"
   ]
  },
  {
   "cell_type": "code",
   "execution_count": 43,
   "id": "ea284ae1",
   "metadata": {
    "execution": {
     "iopub.execute_input": "2023-06-01T01:21:30.151331Z",
     "iopub.status.busy": "2023-06-01T01:21:30.150320Z",
     "iopub.status.idle": "2023-06-01T01:21:30.161343Z",
     "shell.execute_reply": "2023-06-01T01:21:30.161880Z",
     "shell.execute_reply.started": "2023-06-01T00:35:03.688670Z"
    },
    "papermill": {
     "duration": 0.127031,
     "end_time": "2023-06-01T01:21:30.162039",
     "exception": false,
     "start_time": "2023-06-01T01:21:30.035008",
     "status": "completed"
    },
    "tags": []
   },
   "outputs": [
    {
     "data": {
      "text/html": [
       "<div>\n",
       "<style scoped>\n",
       "    .dataframe tbody tr th:only-of-type {\n",
       "        vertical-align: middle;\n",
       "    }\n",
       "\n",
       "    .dataframe tbody tr th {\n",
       "        vertical-align: top;\n",
       "    }\n",
       "\n",
       "    .dataframe thead th {\n",
       "        text-align: right;\n",
       "    }\n",
       "</style>\n",
       "<table border=\"1\" class=\"dataframe\">\n",
       "  <thead>\n",
       "    <tr style=\"text-align: right;\">\n",
       "      <th></th>\n",
       "      <th>new_anime_index</th>\n",
       "      <th>Name</th>\n",
       "      <th>English name</th>\n",
       "      <th>Japanese name</th>\n",
       "      <th>sypnopsis</th>\n",
       "    </tr>\n",
       "  </thead>\n",
       "  <tbody>\n",
       "    <tr>\n",
       "      <th>0</th>\n",
       "      <td>0</td>\n",
       "      <td>Cowboy Bebop</td>\n",
       "      <td>Cowboy Bebop</td>\n",
       "      <td>カウボーイビバップ</td>\n",
       "      <td>In the year 2071, humanity has colonized sever...</td>\n",
       "    </tr>\n",
       "    <tr>\n",
       "      <th>1</th>\n",
       "      <td>1</td>\n",
       "      <td>Cowboy Bebop: Tengoku no Tobira</td>\n",
       "      <td>Cowboy Bebop:The Movie</td>\n",
       "      <td>カウボーイビバップ 天国の扉</td>\n",
       "      <td>other day, another bounty—such is the life of ...</td>\n",
       "    </tr>\n",
       "    <tr>\n",
       "      <th>2</th>\n",
       "      <td>2</td>\n",
       "      <td>Trigun</td>\n",
       "      <td>Trigun</td>\n",
       "      <td>トライガン</td>\n",
       "      <td>Vash the Stampede is the man with a $$60,000,0...</td>\n",
       "    </tr>\n",
       "    <tr>\n",
       "      <th>3</th>\n",
       "      <td>3</td>\n",
       "      <td>Witch Hunter Robin</td>\n",
       "      <td>Witch Hunter Robin</td>\n",
       "      <td>Witch Hunter ROBIN (ウイッチハンターロビン)</td>\n",
       "      <td>ches are individuals with special powers like ...</td>\n",
       "    </tr>\n",
       "    <tr>\n",
       "      <th>4</th>\n",
       "      <td>4</td>\n",
       "      <td>Bouken Ou Beet</td>\n",
       "      <td>Beet the Vandel Buster</td>\n",
       "      <td>冒険王ビィト</td>\n",
       "      <td>It is the dark century and the people are suff...</td>\n",
       "    </tr>\n",
       "  </tbody>\n",
       "</table>\n",
       "</div>"
      ],
      "text/plain": [
       "   new_anime_index                             Name            English name  \\\n",
       "0                0                     Cowboy Bebop            Cowboy Bebop   \n",
       "1                1  Cowboy Bebop: Tengoku no Tobira  Cowboy Bebop:The Movie   \n",
       "2                2                           Trigun                  Trigun   \n",
       "3                3               Witch Hunter Robin      Witch Hunter Robin   \n",
       "4                4                   Bouken Ou Beet  Beet the Vandel Buster   \n",
       "\n",
       "                      Japanese name  \\\n",
       "0                         カウボーイビバップ   \n",
       "1                    カウボーイビバップ 天国の扉   \n",
       "2                             トライガン   \n",
       "3  Witch Hunter ROBIN (ウイッチハンターロビン)   \n",
       "4                            冒険王ビィト   \n",
       "\n",
       "                                           sypnopsis  \n",
       "0  In the year 2071, humanity has colonized sever...  \n",
       "1  other day, another bounty—such is the life of ...  \n",
       "2  Vash the Stampede is the man with a $$60,000,0...  \n",
       "3  ches are individuals with special powers like ...  \n",
       "4  It is the dark century and the people are suff...  "
      ]
     },
     "execution_count": 43,
     "metadata": {},
     "output_type": "execute_result"
    }
   ],
   "source": [
    "anime_synopsis = anime[['new_anime_index', 'Name', 'English name', 'Japanese name', 'sypnopsis']]\n",
    "anime_synopsis.head()"
   ]
  },
  {
   "cell_type": "code",
   "execution_count": 44,
   "id": "ce99f17c",
   "metadata": {
    "execution": {
     "iopub.execute_input": "2023-06-01T01:21:30.382476Z",
     "iopub.status.busy": "2023-06-01T01:21:30.381721Z",
     "iopub.status.idle": "2023-06-01T01:21:30.384696Z",
     "shell.execute_reply": "2023-06-01T01:21:30.385192Z",
     "shell.execute_reply.started": "2023-06-01T00:35:03.710119Z"
    },
    "papermill": {
     "duration": 0.116308,
     "end_time": "2023-06-01T01:21:30.385340",
     "exception": false,
     "start_time": "2023-06-01T01:21:30.269032",
     "status": "completed"
    },
    "tags": []
   },
   "outputs": [
    {
     "data": {
      "text/plain": [
       "(17046, 5)"
      ]
     },
     "execution_count": 44,
     "metadata": {},
     "output_type": "execute_result"
    }
   ],
   "source": [
    "anime_synopsis.shape"
   ]
  },
  {
   "cell_type": "markdown",
   "id": "0a46bdb4",
   "metadata": {
    "papermill": {
     "duration": 0.109374,
     "end_time": "2023-06-01T01:21:30.601259",
     "exception": false,
     "start_time": "2023-06-01T01:21:30.491885",
     "status": "completed"
    },
    "tags": []
   },
   "source": [
    "We'll use the **TF-IDF (Term Frequency-Inverse Document Frequency) Vectorizer** to vectorize the synopsis. Essentially, it is a technique that weighs the importance of each word in a document based on its frequency in the document and its rarity in the corpus."
   ]
  },
  {
   "cell_type": "code",
   "execution_count": 45,
   "id": "f75bc56d",
   "metadata": {
    "execution": {
     "iopub.execute_input": "2023-06-01T01:21:30.829862Z",
     "iopub.status.busy": "2023-06-01T01:21:30.829104Z",
     "iopub.status.idle": "2023-06-01T01:21:32.063534Z",
     "shell.execute_reply": "2023-06-01T01:21:32.062718Z",
     "shell.execute_reply.started": "2023-06-01T00:35:03.717736Z"
    },
    "papermill": {
     "duration": 1.353492,
     "end_time": "2023-06-01T01:21:32.063668",
     "exception": false,
     "start_time": "2023-06-01T01:21:30.710176",
     "status": "completed"
    },
    "tags": []
   },
   "outputs": [
    {
     "name": "stderr",
     "output_type": "stream",
     "text": [
      "/var/folders/_z/fqc2y1zs5nxfts7kcfj9y20w0000gn/T/ipykernel_48395/3985389554.py:8: SettingWithCopyWarning: \n",
      "A value is trying to be set on a copy of a slice from a DataFrame.\n",
      "Try using .loc[row_indexer,col_indexer] = value instead\n",
      "\n",
      "See the caveats in the documentation: https://pandas.pydata.org/pandas-docs/stable/user_guide/indexing.html#returning-a-view-versus-a-copy\n",
      "  anime_synopsis['sypnopsis'] = anime_synopsis['sypnopsis'].fillna('')\n"
     ]
    },
    {
     "data": {
      "text/plain": [
       "(17046, 44477)"
      ]
     },
     "execution_count": 45,
     "metadata": {},
     "output_type": "execute_result"
    }
   ],
   "source": [
    "#Import TfIdfVectorizer from scikit-learn\n",
    "from sklearn.feature_extraction.text import TfidfVectorizer\n",
    "\n",
    "#Define a TF-IDF Vectorizer Object. Remove all english stop words such as 'the', 'a'\n",
    "tfidf = TfidfVectorizer(stop_words='english')\n",
    "\n",
    "#Replace NaN with an empty string\n",
    "anime_synopsis['sypnopsis'] = anime_synopsis['sypnopsis'].fillna('')\n",
    "\n",
    "#Construct the required TF-IDF matrix by fitting and transforming the data\n",
    "tfidf_matrix = tfidf.fit_transform(anime_synopsis['sypnopsis'])\n",
    "\n",
    "#Output the shape of tfidf_matrix\n",
    "tfidf_matrix.shape"
   ]
  },
  {
   "cell_type": "markdown",
   "id": "4c84327b",
   "metadata": {
    "papermill": {
     "duration": 0.113005,
     "end_time": "2023-06-01T01:21:32.289010",
     "exception": false,
     "start_time": "2023-06-01T01:21:32.176005",
     "status": "completed"
    },
    "tags": []
   },
   "source": [
    "We can then use this TF-IDF matrix to build another cosine similarity matrix. Notice here, that we derive the cosine similarity matrix using the `linear_kernel()` function. Both `cosine_similarity()` and `linear_kernel()` can be used to calculate the cosine similiarity of a matrix. Which one you should use really depends on the use case. Typically, `cosine_similarity()` is preferred when working with text data, while `linear_kernel()` is preferred when working with other types of data."
   ]
  },
  {
   "cell_type": "code",
   "execution_count": 46,
   "id": "72eb3525",
   "metadata": {
    "execution": {
     "iopub.execute_input": "2023-06-01T01:21:32.512986Z",
     "iopub.status.busy": "2023-06-01T01:21:32.511993Z",
     "iopub.status.idle": "2023-06-01T01:21:37.764220Z",
     "shell.execute_reply": "2023-06-01T01:21:37.763607Z",
     "shell.execute_reply.started": "2023-06-01T00:35:04.845373Z"
    },
    "papermill": {
     "duration": 5.365558,
     "end_time": "2023-06-01T01:21:37.764373",
     "exception": false,
     "start_time": "2023-06-01T01:21:32.398815",
     "status": "completed"
    },
    "tags": []
   },
   "outputs": [],
   "source": [
    "# Compute the cosine similarity matrix (linear_kernel returns the same thing as cosine_similarity but faster, so its common practice to use linear_kernel when dealing with tfidf matrices)\n",
    "cosine_sim_synopsis = linear_kernel(tfidf_matrix, tfidf_matrix)"
   ]
  },
  {
   "cell_type": "markdown",
   "id": "08e8e9bc",
   "metadata": {
    "papermill": {
     "duration": 0.115592,
     "end_time": "2023-06-01T01:21:37.992498",
     "exception": false,
     "start_time": "2023-06-01T01:21:37.876906",
     "status": "completed"
    },
    "tags": []
   },
   "source": [
    "Finally, we can apply the function built previously on the animes' features to find which animes are most similar, except we feed in the cosine similarity matrix by synopsis this time. If we search *Sword Art Online*, we can see that the top ten most similar animes are all part of the SAO franchise. This makes sense because the synopsis for all of the SAO anime are likely to contain similar keywords."
   ]
  },
  {
   "cell_type": "code",
   "execution_count": 47,
   "id": "ee5e69c5",
   "metadata": {
    "execution": {
     "iopub.execute_input": "2023-06-01T01:21:38.246796Z",
     "iopub.status.busy": "2023-06-01T01:21:38.246059Z",
     "iopub.status.idle": "2023-06-01T01:21:38.249382Z",
     "shell.execute_reply": "2023-06-01T01:21:38.249889Z",
     "shell.execute_reply.started": "2023-06-01T00:35:09.911829Z"
    },
    "papermill": {
     "duration": 0.140716,
     "end_time": "2023-06-01T01:21:38.250045",
     "exception": false,
     "start_time": "2023-06-01T01:21:38.109329",
     "status": "completed"
    },
    "tags": []
   },
   "outputs": [
    {
     "data": {
      "text/plain": [
       "16816    Sword Art Online: Progressive Movie - Hoshi Na...\n",
       "11072                Sword Art Online Movie: Ordinal Scale\n",
       "8538                                   Sword Art Online II\n",
       "8193                       Sword Art Online: Extra Edition\n",
       "16007    Sword Art Online: Alicization - War of Underwo...\n",
       "6517                   .hack//The Movie: Sekai no Mukou ni\n",
       "15531    Sword Art Online: Alicization - War of Underworld\n",
       "15985    Sword Art Online: Alicization - War of Underwo...\n",
       "13919                                      Hana Ichi Monme\n",
       "13554        Sword Art Online Alternative: Gun Gale Online\n",
       "Name: Name, dtype: object"
      ]
     },
     "execution_count": 47,
     "metadata": {},
     "output_type": "execute_result"
    }
   ],
   "source": [
    "get_recommendations('Sword Art Online', cosine_sim_synopsis)"
   ]
  },
  {
   "cell_type": "markdown",
   "id": "21fcb0bd",
   "metadata": {
    "papermill": {
     "duration": 0.109178,
     "end_time": "2023-06-01T01:21:38.470996",
     "exception": false,
     "start_time": "2023-06-01T01:21:38.361818",
     "status": "completed"
    },
    "tags": []
   },
   "source": [
    "# Collaborative Filtering\n",
    "\n",
    "Now that we're done with content-based filtering, let's move on to **collaborative filtering**. For content-based recommendation, our goal was to recommend animes based on distance and similarity. However, our goal here is to predict the ratings of users on anime (kind of like regression). We'll be using the `surprise` module along with the *rating_complete.csv* file. The file contains the ratings of certain *user_ids* on certain *anime_id*. Since, we've made some new changes to the *anime_id*, let's map the original *anime_id* in the file to their new *anime_new_index*."
   ]
  },
  {
   "cell_type": "code",
   "execution_count": 48,
   "id": "bda1acf5",
   "metadata": {
    "execution": {
     "iopub.execute_input": "2023-06-01T01:21:38.704255Z",
     "iopub.status.busy": "2023-06-01T01:21:38.703461Z",
     "iopub.status.idle": "2023-06-01T01:21:38.706649Z",
     "shell.execute_reply": "2023-06-01T01:21:38.707120Z",
     "shell.execute_reply.started": "2023-06-01T00:35:09.938727Z"
    },
    "papermill": {
     "duration": 0.125761,
     "end_time": "2023-06-01T01:21:38.707265",
     "exception": false,
     "start_time": "2023-06-01T01:21:38.581504",
     "status": "completed"
    },
    "tags": []
   },
   "outputs": [
    {
     "data": {
      "text/html": [
       "<div>\n",
       "<style scoped>\n",
       "    .dataframe tbody tr th:only-of-type {\n",
       "        vertical-align: middle;\n",
       "    }\n",
       "\n",
       "    .dataframe tbody tr th {\n",
       "        vertical-align: top;\n",
       "    }\n",
       "\n",
       "    .dataframe thead th {\n",
       "        text-align: right;\n",
       "    }\n",
       "</style>\n",
       "<table border=\"1\" class=\"dataframe\">\n",
       "  <thead>\n",
       "    <tr style=\"text-align: right;\">\n",
       "      <th></th>\n",
       "      <th>MAL_ID</th>\n",
       "      <th>new_anime_index</th>\n",
       "    </tr>\n",
       "  </thead>\n",
       "  <tbody>\n",
       "    <tr>\n",
       "      <th>0</th>\n",
       "      <td>1</td>\n",
       "      <td>0</td>\n",
       "    </tr>\n",
       "    <tr>\n",
       "      <th>1</th>\n",
       "      <td>5</td>\n",
       "      <td>1</td>\n",
       "    </tr>\n",
       "    <tr>\n",
       "      <th>2</th>\n",
       "      <td>6</td>\n",
       "      <td>2</td>\n",
       "    </tr>\n",
       "    <tr>\n",
       "      <th>3</th>\n",
       "      <td>7</td>\n",
       "      <td>3</td>\n",
       "    </tr>\n",
       "    <tr>\n",
       "      <th>4</th>\n",
       "      <td>8</td>\n",
       "      <td>4</td>\n",
       "    </tr>\n",
       "  </tbody>\n",
       "</table>\n",
       "</div>"
      ],
      "text/plain": [
       "   MAL_ID  new_anime_index\n",
       "0       1                0\n",
       "1       5                1\n",
       "2       6                2\n",
       "3       7                3\n",
       "4       8                4"
      ]
     },
     "execution_count": 48,
     "metadata": {},
     "output_type": "execute_result"
    }
   ],
   "source": [
    "#anime_id and new_anime_index\n",
    "anime_index_df = anime[['MAL_ID', 'new_anime_index']]\n",
    "anime_index_df.head()"
   ]
  },
  {
   "cell_type": "code",
   "execution_count": 50,
   "id": "ffeb799d",
   "metadata": {
    "execution": {
     "iopub.execute_input": "2023-06-01T01:21:38.928791Z",
     "iopub.status.busy": "2023-06-01T01:21:38.927859Z",
     "iopub.status.idle": "2023-06-01T01:21:57.953268Z",
     "shell.execute_reply": "2023-06-01T01:21:57.952705Z",
     "shell.execute_reply.started": "2023-06-01T00:35:09.953455Z"
    },
    "papermill": {
     "duration": 19.136672,
     "end_time": "2023-06-01T01:21:57.953413",
     "exception": false,
     "start_time": "2023-06-01T01:21:38.816741",
     "status": "completed"
    },
    "tags": []
   },
   "outputs": [
    {
     "data": {
      "text/html": [
       "<div>\n",
       "<style scoped>\n",
       "    .dataframe tbody tr th:only-of-type {\n",
       "        vertical-align: middle;\n",
       "    }\n",
       "\n",
       "    .dataframe tbody tr th {\n",
       "        vertical-align: top;\n",
       "    }\n",
       "\n",
       "    .dataframe thead th {\n",
       "        text-align: right;\n",
       "    }\n",
       "</style>\n",
       "<table border=\"1\" class=\"dataframe\">\n",
       "  <thead>\n",
       "    <tr style=\"text-align: right;\">\n",
       "      <th></th>\n",
       "      <th>user_id</th>\n",
       "      <th>anime_id</th>\n",
       "      <th>rating</th>\n",
       "    </tr>\n",
       "  </thead>\n",
       "  <tbody>\n",
       "    <tr>\n",
       "      <th>0</th>\n",
       "      <td>0</td>\n",
       "      <td>430</td>\n",
       "      <td>9</td>\n",
       "    </tr>\n",
       "    <tr>\n",
       "      <th>1</th>\n",
       "      <td>0</td>\n",
       "      <td>1004</td>\n",
       "      <td>5</td>\n",
       "    </tr>\n",
       "    <tr>\n",
       "      <th>2</th>\n",
       "      <td>0</td>\n",
       "      <td>3010</td>\n",
       "      <td>7</td>\n",
       "    </tr>\n",
       "    <tr>\n",
       "      <th>3</th>\n",
       "      <td>0</td>\n",
       "      <td>570</td>\n",
       "      <td>7</td>\n",
       "    </tr>\n",
       "    <tr>\n",
       "      <th>4</th>\n",
       "      <td>0</td>\n",
       "      <td>2762</td>\n",
       "      <td>9</td>\n",
       "    </tr>\n",
       "  </tbody>\n",
       "</table>\n",
       "</div>"
      ],
      "text/plain": [
       "   user_id  anime_id  rating\n",
       "0        0       430       9\n",
       "1        0      1004       5\n",
       "2        0      3010       7\n",
       "3        0       570       7\n",
       "4        0      2762       9"
      ]
     },
     "execution_count": 50,
     "metadata": {},
     "output_type": "execute_result"
    }
   ],
   "source": [
    "anime_rating = pd.read_csv(\"../data/rating_complete.csv\")\n",
    "anime_rating.head()"
   ]
  },
  {
   "cell_type": "code",
   "execution_count": 51,
   "id": "b472feee",
   "metadata": {
    "execution": {
     "iopub.execute_input": "2023-06-01T01:21:58.189856Z",
     "iopub.status.busy": "2023-06-01T01:21:58.188632Z",
     "iopub.status.idle": "2023-06-01T01:22:07.638246Z",
     "shell.execute_reply": "2023-06-01T01:22:07.637685Z",
     "shell.execute_reply.started": "2023-06-01T00:35:30.345835Z"
    },
    "papermill": {
     "duration": 9.571634,
     "end_time": "2023-06-01T01:22:07.638383",
     "exception": false,
     "start_time": "2023-06-01T01:21:58.066749",
     "status": "completed"
    },
    "tags": []
   },
   "outputs": [
    {
     "data": {
      "text/html": [
       "<div>\n",
       "<style scoped>\n",
       "    .dataframe tbody tr th:only-of-type {\n",
       "        vertical-align: middle;\n",
       "    }\n",
       "\n",
       "    .dataframe tbody tr th {\n",
       "        vertical-align: top;\n",
       "    }\n",
       "\n",
       "    .dataframe thead th {\n",
       "        text-align: right;\n",
       "    }\n",
       "</style>\n",
       "<table border=\"1\" class=\"dataframe\">\n",
       "  <thead>\n",
       "    <tr style=\"text-align: right;\">\n",
       "      <th></th>\n",
       "      <th>user_id</th>\n",
       "      <th>anime_id</th>\n",
       "      <th>rating</th>\n",
       "      <th>MAL_ID</th>\n",
       "      <th>new_anime_index</th>\n",
       "    </tr>\n",
       "  </thead>\n",
       "  <tbody>\n",
       "    <tr>\n",
       "      <th>0</th>\n",
       "      <td>0</td>\n",
       "      <td>430</td>\n",
       "      <td>9</td>\n",
       "      <td>430.0</td>\n",
       "      <td>401.0</td>\n",
       "    </tr>\n",
       "    <tr>\n",
       "      <th>1</th>\n",
       "      <td>0</td>\n",
       "      <td>1004</td>\n",
       "      <td>5</td>\n",
       "      <td>1004.0</td>\n",
       "      <td>906.0</td>\n",
       "    </tr>\n",
       "    <tr>\n",
       "      <th>2</th>\n",
       "      <td>0</td>\n",
       "      <td>3010</td>\n",
       "      <td>7</td>\n",
       "      <td>3010.0</td>\n",
       "      <td>2739.0</td>\n",
       "    </tr>\n",
       "    <tr>\n",
       "      <th>3</th>\n",
       "      <td>0</td>\n",
       "      <td>570</td>\n",
       "      <td>7</td>\n",
       "      <td>570.0</td>\n",
       "      <td>533.0</td>\n",
       "    </tr>\n",
       "    <tr>\n",
       "      <th>4</th>\n",
       "      <td>0</td>\n",
       "      <td>2762</td>\n",
       "      <td>9</td>\n",
       "      <td>2762.0</td>\n",
       "      <td>2538.0</td>\n",
       "    </tr>\n",
       "  </tbody>\n",
       "</table>\n",
       "</div>"
      ],
      "text/plain": [
       "   user_id  anime_id  rating  MAL_ID  new_anime_index\n",
       "0        0       430       9   430.0            401.0\n",
       "1        0      1004       5  1004.0            906.0\n",
       "2        0      3010       7  3010.0           2739.0\n",
       "3        0       570       7   570.0            533.0\n",
       "4        0      2762       9  2762.0           2538.0"
      ]
     },
     "execution_count": 51,
     "metadata": {},
     "output_type": "execute_result"
    }
   ],
   "source": [
    "#merge dataframe\n",
    "anime_rating = anime_rating.merge(anime_index_df, how='left', left_on='anime_id', right_on='MAL_ID')\n",
    "anime_rating.head()"
   ]
  },
  {
   "cell_type": "markdown",
   "id": "0f18d4b2",
   "metadata": {
    "papermill": {
     "duration": 0.111597,
     "end_time": "2023-06-01T01:22:07.864455",
     "exception": false,
     "start_time": "2023-06-01T01:22:07.752858",
     "status": "completed"
    },
    "tags": []
   },
   "source": [
    "We'll drop the excessive variables (*anime_id* and *MAL_ID*) and we're left with the only three variables that we need: *user_id*, *rating* and *new_anime_index*."
   ]
  },
  {
   "cell_type": "code",
   "execution_count": 52,
   "id": "b964a476",
   "metadata": {
    "execution": {
     "iopub.execute_input": "2023-06-01T01:22:08.464087Z",
     "iopub.status.busy": "2023-06-01T01:22:08.462820Z",
     "iopub.status.idle": "2023-06-01T01:22:08.945452Z",
     "shell.execute_reply": "2023-06-01T01:22:08.944643Z",
     "shell.execute_reply.started": "2023-06-01T00:35:39.530773Z"
    },
    "papermill": {
     "duration": 0.967314,
     "end_time": "2023-06-01T01:22:08.945589",
     "exception": false,
     "start_time": "2023-06-01T01:22:07.978275",
     "status": "completed"
    },
    "tags": []
   },
   "outputs": [
    {
     "data": {
      "text/html": [
       "<div>\n",
       "<style scoped>\n",
       "    .dataframe tbody tr th:only-of-type {\n",
       "        vertical-align: middle;\n",
       "    }\n",
       "\n",
       "    .dataframe tbody tr th {\n",
       "        vertical-align: top;\n",
       "    }\n",
       "\n",
       "    .dataframe thead th {\n",
       "        text-align: right;\n",
       "    }\n",
       "</style>\n",
       "<table border=\"1\" class=\"dataframe\">\n",
       "  <thead>\n",
       "    <tr style=\"text-align: right;\">\n",
       "      <th></th>\n",
       "      <th>user_id</th>\n",
       "      <th>rating</th>\n",
       "      <th>new_anime_index</th>\n",
       "    </tr>\n",
       "  </thead>\n",
       "  <tbody>\n",
       "    <tr>\n",
       "      <th>0</th>\n",
       "      <td>0</td>\n",
       "      <td>9</td>\n",
       "      <td>401.0</td>\n",
       "    </tr>\n",
       "    <tr>\n",
       "      <th>1</th>\n",
       "      <td>0</td>\n",
       "      <td>5</td>\n",
       "      <td>906.0</td>\n",
       "    </tr>\n",
       "    <tr>\n",
       "      <th>2</th>\n",
       "      <td>0</td>\n",
       "      <td>7</td>\n",
       "      <td>2739.0</td>\n",
       "    </tr>\n",
       "    <tr>\n",
       "      <th>3</th>\n",
       "      <td>0</td>\n",
       "      <td>7</td>\n",
       "      <td>533.0</td>\n",
       "    </tr>\n",
       "    <tr>\n",
       "      <th>4</th>\n",
       "      <td>0</td>\n",
       "      <td>9</td>\n",
       "      <td>2538.0</td>\n",
       "    </tr>\n",
       "  </tbody>\n",
       "</table>\n",
       "</div>"
      ],
      "text/plain": [
       "   user_id  rating  new_anime_index\n",
       "0        0       9            401.0\n",
       "1        0       5            906.0\n",
       "2        0       7           2739.0\n",
       "3        0       7            533.0\n",
       "4        0       9           2538.0"
      ]
     },
     "execution_count": 52,
     "metadata": {},
     "output_type": "execute_result"
    }
   ],
   "source": [
    "anime_rating = anime_rating.drop(['anime_id', 'MAL_ID'], axis=1)\n",
    "anime_rating.head()"
   ]
  },
  {
   "cell_type": "markdown",
   "id": "0b052b2b",
   "metadata": {
    "papermill": {
     "duration": 0.114538,
     "end_time": "2023-06-01T01:22:09.173169",
     "exception": false,
     "start_time": "2023-06-01T01:22:09.058631",
     "status": "completed"
    },
    "tags": []
   },
   "source": [
    "Perfect! Now that the *anime_id* is updated, we can use this data to build our model. But first, let's limit our data to only 6000 *user_ids*. The size of the entire data will cost large computational time and memory, and so let's cut that down first. Maybe one day when I get a better computer, I'll be able to use the entirety of the data XD."
   ]
  },
  {
   "cell_type": "code",
   "execution_count": 53,
   "id": "514d9676",
   "metadata": {
    "execution": {
     "iopub.execute_input": "2023-06-01T01:22:09.411631Z",
     "iopub.status.busy": "2023-06-01T01:22:09.410765Z",
     "iopub.status.idle": "2023-06-01T01:22:10.154647Z",
     "shell.execute_reply": "2023-06-01T01:22:10.153666Z",
     "shell.execute_reply.started": "2023-06-01T00:35:40.350859Z"
    },
    "papermill": {
     "duration": 0.86786,
     "end_time": "2023-06-01T01:22:10.154828",
     "exception": false,
     "start_time": "2023-06-01T01:22:09.286968",
     "status": "completed"
    },
    "tags": []
   },
   "outputs": [],
   "source": [
    "#use only the ratings by the top 6000 user_ids\n",
    "anime_rating_cut = anime_rating[anime_rating['user_id'].isin(list(range(0,6000)))]"
   ]
  },
  {
   "cell_type": "markdown",
   "id": "2b4b05d0",
   "metadata": {
    "papermill": {
     "duration": 0.114188,
     "end_time": "2023-06-01T01:22:10.380852",
     "exception": false,
     "start_time": "2023-06-01T01:22:10.266664",
     "status": "completed"
    },
    "tags": []
   },
   "source": [
    "Here, we can see that we're down to only 931,948 ratings. We can also see that there seems to be some missing values in *new_anime_index*. This is because we removed some *anime_ids* (`episode = 0`) in the beginning of this notebook. Therefore, we can remove these rows with missing values. We should also change the data type for *new_anime_index* back to `int`."
   ]
  },
  {
   "cell_type": "code",
   "execution_count": 54,
   "id": "0147adec",
   "metadata": {
    "execution": {
     "iopub.execute_input": "2023-06-01T01:22:10.616047Z",
     "iopub.status.busy": "2023-06-01T01:22:10.614974Z",
     "iopub.status.idle": "2023-06-01T01:22:10.628477Z",
     "shell.execute_reply": "2023-06-01T01:22:10.629177Z",
     "shell.execute_reply.started": "2023-06-01T00:35:41.047328Z"
    },
    "papermill": {
     "duration": 0.133899,
     "end_time": "2023-06-01T01:22:10.629341",
     "exception": false,
     "start_time": "2023-06-01T01:22:10.495442",
     "status": "completed"
    },
    "tags": []
   },
   "outputs": [
    {
     "name": "stdout",
     "output_type": "stream",
     "text": [
      "<class 'pandas.core.frame.DataFrame'>\n",
      "Index: 931948 entries, 0 to 931947\n",
      "Data columns (total 3 columns):\n",
      " #   Column           Non-Null Count   Dtype  \n",
      "---  ------           --------------   -----  \n",
      " 0   user_id          931948 non-null  int64  \n",
      " 1   rating           931948 non-null  int64  \n",
      " 2   new_anime_index  931946 non-null  float64\n",
      "dtypes: float64(1), int64(2)\n",
      "memory usage: 28.4 MB\n"
     ]
    }
   ],
   "source": [
    "anime_rating_cut.info()"
   ]
  },
  {
   "cell_type": "code",
   "execution_count": 55,
   "id": "26ef4678",
   "metadata": {
    "execution": {
     "iopub.execute_input": "2023-06-01T01:22:10.859860Z",
     "iopub.status.busy": "2023-06-01T01:22:10.859018Z",
     "iopub.status.idle": "2023-06-01T01:22:10.870346Z",
     "shell.execute_reply": "2023-06-01T01:22:10.869873Z",
     "shell.execute_reply.started": "2023-06-01T00:35:41.066700Z"
    },
    "papermill": {
     "duration": 0.127099,
     "end_time": "2023-06-01T01:22:10.870506",
     "exception": false,
     "start_time": "2023-06-01T01:22:10.743407",
     "status": "completed"
    },
    "tags": []
   },
   "outputs": [
    {
     "data": {
      "text/html": [
       "<div>\n",
       "<style scoped>\n",
       "    .dataframe tbody tr th:only-of-type {\n",
       "        vertical-align: middle;\n",
       "    }\n",
       "\n",
       "    .dataframe tbody tr th {\n",
       "        vertical-align: top;\n",
       "    }\n",
       "\n",
       "    .dataframe thead th {\n",
       "        text-align: right;\n",
       "    }\n",
       "</style>\n",
       "<table border=\"1\" class=\"dataframe\">\n",
       "  <thead>\n",
       "    <tr style=\"text-align: right;\">\n",
       "      <th></th>\n",
       "      <th>user_id</th>\n",
       "      <th>rating</th>\n",
       "      <th>new_anime_index</th>\n",
       "    </tr>\n",
       "  </thead>\n",
       "  <tbody>\n",
       "    <tr>\n",
       "      <th>155111</th>\n",
       "      <td>943</td>\n",
       "      <td>7</td>\n",
       "      <td>NaN</td>\n",
       "    </tr>\n",
       "    <tr>\n",
       "      <th>742432</th>\n",
       "      <td>4892</td>\n",
       "      <td>5</td>\n",
       "      <td>NaN</td>\n",
       "    </tr>\n",
       "  </tbody>\n",
       "</table>\n",
       "</div>"
      ],
      "text/plain": [
       "        user_id  rating  new_anime_index\n",
       "155111      943       7              NaN\n",
       "742432     4892       5              NaN"
      ]
     },
     "execution_count": 55,
     "metadata": {},
     "output_type": "execute_result"
    }
   ],
   "source": [
    "#animes with missing new_anime_index, these animes were removed from the dataframe in the start for having 0 episodes\n",
    "anime_rating_cut[anime_rating_cut['new_anime_index'].isna()]"
   ]
  },
  {
   "cell_type": "code",
   "execution_count": 56,
   "id": "26efe9b0",
   "metadata": {
    "execution": {
     "iopub.execute_input": "2023-06-01T01:22:11.104872Z",
     "iopub.status.busy": "2023-06-01T01:22:11.103862Z",
     "iopub.status.idle": "2023-06-01T01:22:11.187436Z",
     "shell.execute_reply": "2023-06-01T01:22:11.186824Z",
     "shell.execute_reply.started": "2023-06-01T00:35:41.080033Z"
    },
    "papermill": {
     "duration": 0.203123,
     "end_time": "2023-06-01T01:22:11.187573",
     "exception": false,
     "start_time": "2023-06-01T01:22:10.984450",
     "status": "completed"
    },
    "tags": []
   },
   "outputs": [],
   "source": [
    "#select the rows where there are no missing value\n",
    "anime_rating_cut = anime_rating_cut.loc[anime_rating_cut['new_anime_index'].notnull()]\n",
    "#chagne data type\n",
    "anime_rating_cut['new_anime_index'] = anime_rating_cut['new_anime_index'].astype(int)"
   ]
  },
  {
   "cell_type": "markdown",
   "id": "e537c9c7",
   "metadata": {
    "papermill": {
     "duration": 0.11389,
     "end_time": "2023-06-01T01:22:11.416372",
     "exception": false,
     "start_time": "2023-06-01T01:22:11.302482",
     "status": "completed"
    },
    "tags": []
   },
   "source": [
    "# Surprise\n",
    "\n",
    "With no more missing values, our data is ready for collaborative filtering. We can implement collaborative filtering easily with the `surprise` module. Don't be SURPRISED by the power of it! (LOL)\n",
    "\n",
    "To use the surprise module, we need a `Reader` object to define the `rating_scale` and load the data from the dataframe such that the surprise module can handle it. We define the `rating_scale` as `(1, 10)` because that is the range of rating viewers can give to an anime. When loading the data from the dataframe, it's also important to make sure that columns in the dataframe are ordered as 1) user ID, 2) product ID and 3) rating."
   ]
  },
  {
   "cell_type": "code",
   "execution_count": 57,
   "id": "bedf8086",
   "metadata": {
    "execution": {
     "iopub.execute_input": "2023-06-01T01:22:11.654697Z",
     "iopub.status.busy": "2023-06-01T01:22:11.653151Z",
     "iopub.status.idle": "2023-06-01T01:22:13.110950Z",
     "shell.execute_reply": "2023-06-01T01:22:13.110329Z",
     "shell.execute_reply.started": "2023-06-01T00:35:41.119215Z"
    },
    "papermill": {
     "duration": 1.580684,
     "end_time": "2023-06-01T01:22:13.111107",
     "exception": false,
     "start_time": "2023-06-01T01:22:11.530423",
     "status": "completed"
    },
    "tags": []
   },
   "outputs": [],
   "source": [
    "#define rating scale\n",
    "reader = Reader(rating_scale=(1, 10))\n",
    "\n",
    "# The columns must correspond to user id, item id and ratings (in that order).\n",
    "data = Dataset.load_from_df(anime_rating_cut[[\"user_id\", \"new_anime_index\", \"rating\"]], reader)"
   ]
  },
  {
   "cell_type": "markdown",
   "id": "5f8235ba",
   "metadata": {
    "papermill": {
     "duration": 0.118761,
     "end_time": "2023-06-01T01:22:13.352323",
     "exception": false,
     "start_time": "2023-06-01T01:22:13.233562",
     "status": "completed"
    },
    "tags": []
   },
   "source": [
    "Then, we'll split our data into training set and testing set to facilitate model comparison."
   ]
  },
  {
   "cell_type": "code",
   "execution_count": 58,
   "id": "33c77210",
   "metadata": {
    "execution": {
     "iopub.execute_input": "2023-06-01T01:22:13.591271Z",
     "iopub.status.busy": "2023-06-01T01:22:13.590496Z",
     "iopub.status.idle": "2023-06-01T01:22:15.108911Z",
     "shell.execute_reply": "2023-06-01T01:22:15.108309Z",
     "shell.execute_reply.started": "2023-06-01T00:35:42.612672Z"
    },
    "papermill": {
     "duration": 1.640702,
     "end_time": "2023-06-01T01:22:15.109072",
     "exception": false,
     "start_time": "2023-06-01T01:22:13.468370",
     "status": "completed"
    },
    "tags": []
   },
   "outputs": [],
   "source": [
    "trainset, testset = train_test_split(data, test_size=0.25)"
   ]
  },
  {
   "cell_type": "markdown",
   "id": "fc14240d",
   "metadata": {
    "papermill": {
     "duration": 0.112262,
     "end_time": "2023-06-01T01:22:15.338709",
     "exception": false,
     "start_time": "2023-06-01T01:22:15.226447",
     "status": "completed"
    },
    "tags": []
   },
   "source": [
    "# Model Comparison\n",
    "\n",
    "Now, we can feed the data into the different models available in the `surprise` module. There are many other models available for use, but we'll stick to the more popular ones. \n",
    "\n",
    "## Baseline Models\n",
    "\n",
    "`NormalPredictor` and `BaselineOnly` are both baseline models that provide a naive prediction strategy based on the statistical properties of the data. The `NormalPredictor` predicts a rating for a given user-item pair by drawing a random rating from a normal distribution that is estimated from the training data. The `BaselineOnly`, on the other hand, predicts a rating for a given user-item pair based on the baseline estimate and user/item biases. The **baseline estimate** is a global average rating for all items in the dataset, and the **user/item biases** are learned from the training data and represent how much each user/item deviates from the global average rating. The predicted rating is the sum of the baseline estimate, the user bias, and the item bias.\n",
    "\n",
    "## KNN-based Models\n",
    "\n",
    "`KNNBasic` and `KNNBaseline` are KNN-based models. You should have an idea of how these models work if you're familiar with the kNN algorithm. The `KNNBasic` models uses a simple nearest neighbor approach to make predictions. For a given user-item pair, the model finds the k most similar users or items in the training set, based on the cosine similarity between their rating vectors. The model then computes a weighted average of the k nearest neighbor ratings to make a prediction for the user-item pair. The `KNNBaseline` model is similar to KNNBasic, but incorporates a baseline estimate for each user and item. The baseline estimate is a global average rating for all items in the dataset, plus user and item biases that represent how much each user/item deviates from the global average rating. The model then computes the cosine similarity between the baseline-corrected rating vectors of users or items to find the k nearest neighbors, and makes a prediction using a weighted average of the k nearest neighbor ratings.\n",
    "\n",
    "## Matrix Factorization-based Model\n",
    "\n",
    "`SVD` (Singular Value Decomposition) is a matrix factorization-based model and is also one of the most popular. In essence, `SVD` breaks down the rating matrix into three matrices: 1) user-feature matrix, 2) item-feature matrix and 3) feature-feature matrix. These features are latent variables and the number of them is a hyperparameter that can be decided by you. It's a little hard to express how SVD works in words, so I recommend you to watch this [youtube video](http://https://www.youtube.com/watch?v=ZspR5PZemcs&t=840s), which clarifies how matrix factorization works in recommendation systems. The SVD algorithm learns the optimal values of the matrices by minimizing the sum of squared errors between the predicted ratings and the actual ratings in the training set, subject to regularization constraints that prevent overfitting. The predicted rating for a given user-item pair is computed as the dot product of the user-feature vector and the item-feature vector.\n",
    "\n",
    "We'll be using cross validation to get a sense of how each model compares with each other. "
   ]
  },
  {
   "cell_type": "code",
   "execution_count": 60,
   "id": "8f18d40b",
   "metadata": {
    "execution": {
     "iopub.execute_input": "2023-06-01T01:22:15.573437Z",
     "iopub.status.busy": "2023-06-01T01:22:15.565734Z",
     "iopub.status.idle": "2023-06-01T01:46:05.448135Z",
     "shell.execute_reply": "2023-06-01T01:46:05.446551Z",
     "shell.execute_reply.started": "2023-06-01T00:35:44.179723Z"
    },
    "papermill": {
     "duration": 1429.998167,
     "end_time": "2023-06-01T01:46:05.448280",
     "exception": false,
     "start_time": "2023-06-01T01:22:15.450113",
     "status": "completed"
    },
    "tags": []
   },
   "outputs": [
    {
     "name": "stderr",
     "output_type": "stream",
     "text": [
      "  0%|          | 0/5 [00:00<?, ?it/s]/var/folders/_z/fqc2y1zs5nxfts7kcfj9y20w0000gn/T/ipykernel_48395/4032042647.py:18: FutureWarning: The behavior of DataFrame concatenation with empty or all-NA entries is deprecated. In a future version, this will no longer exclude empty or all-NA columns when determining the result dtypes. To retain the old behavior, exclude the relevant entries before the concat operation.\n",
      "  model_comparison_df = pd.concat([model_comparison_df, pd.DataFrame([{'model_name': algo_name,\n",
      " 20%|██        | 1/5 [00:12<00:50, 12.60s/it]"
     ]
    },
    {
     "name": "stdout",
     "output_type": "stream",
     "text": [
      "Estimating biases using als...\n",
      "Estimating biases using als...\n",
      "Estimating biases using als...\n"
     ]
    },
    {
     "name": "stderr",
     "output_type": "stream",
     "text": [
      " 40%|████      | 2/5 [00:28<00:43, 14.64s/it]"
     ]
    },
    {
     "name": "stdout",
     "output_type": "stream",
     "text": [
      "Computing the msd similarity matrix...\n",
      "Done computing similarity matrix.\n",
      "Computing the msd similarity matrix...\n",
      "Done computing similarity matrix.\n",
      "Computing the msd similarity matrix...\n",
      "Done computing similarity matrix.\n"
     ]
    },
    {
     "name": "stderr",
     "output_type": "stream",
     "text": [
      " 60%|██████    | 3/5 [05:21<04:43, 141.71s/it]"
     ]
    },
    {
     "name": "stdout",
     "output_type": "stream",
     "text": [
      "Estimating biases using als...\n",
      "Computing the msd similarity matrix...\n",
      "Done computing similarity matrix.\n",
      "Estimating biases using als...\n",
      "Computing the msd similarity matrix...\n",
      "Done computing similarity matrix.\n",
      "Estimating biases using als...\n",
      "Computing the msd similarity matrix...\n",
      "Done computing similarity matrix.\n"
     ]
    },
    {
     "name": "stderr",
     "output_type": "stream",
     "text": [
      "100%|██████████| 5/5 [11:04<00:00, 132.85s/it]\n"
     ]
    }
   ],
   "source": [
    "#instantiate our models and put them into a dictionary\n",
    "models = {\"Normal Predictor\": NormalPredictor(),\n",
    "          \"Baseline Only\": BaselineOnly(),\n",
    "          \"KNNBasic\": KNNBasic(),\n",
    "          \"KNNBaseline\": KNNBaseline(),\n",
    "          \"SVD\": SVD()}\n",
    "\n",
    "#create dataframe to save results\n",
    "model_comparison_df = pd.DataFrame(columns=['model_name', 'test_rmse', 'test_mae', 'fit_time', 'test_time'])\n",
    "\n",
    "#loop over each algorithm\n",
    "for algo_name, algo in tqdm(models.items()):\n",
    "    \n",
    "    #perform cross validation\n",
    "    cv_dict = cross_validate(algo, data, cv=3)\n",
    "    \n",
    "    #save results into dataframe\n",
    "    model_comparison_df = pd.concat([model_comparison_df, pd.DataFrame([{'model_name': algo_name, \n",
    "                                                                         'test_rmse': np.mean(cv_dict['test_rmse']),\n",
    "                                                                         'test_mae': np.mean(cv_dict['test_mae']),\n",
    "                                                                         'fit_time': np.mean(cv_dict['fit_time']),\n",
    "                                                                         'test_time': np.mean(cv_dict['test_time'])}])], ignore_index=True)\n"
   ]
  },
  {
   "cell_type": "code",
   "execution_count": 61,
   "id": "d4736f6a",
   "metadata": {
    "execution": {
     "iopub.execute_input": "2023-06-01T01:46:05.769718Z",
     "iopub.status.busy": "2023-06-01T01:46:05.768701Z",
     "iopub.status.idle": "2023-06-01T01:46:05.773381Z",
     "shell.execute_reply": "2023-06-01T01:46:05.773843Z",
     "shell.execute_reply.started": "2023-06-01T00:59:03.740546Z"
    },
    "papermill": {
     "duration": 0.205957,
     "end_time": "2023-06-01T01:46:05.774063",
     "exception": false,
     "start_time": "2023-06-01T01:46:05.568106",
     "status": "completed"
    },
    "tags": []
   },
   "outputs": [
    {
     "data": {
      "text/html": [
       "<div>\n",
       "<style scoped>\n",
       "    .dataframe tbody tr th:only-of-type {\n",
       "        vertical-align: middle;\n",
       "    }\n",
       "\n",
       "    .dataframe tbody tr th {\n",
       "        vertical-align: top;\n",
       "    }\n",
       "\n",
       "    .dataframe thead th {\n",
       "        text-align: right;\n",
       "    }\n",
       "</style>\n",
       "<table border=\"1\" class=\"dataframe\">\n",
       "  <thead>\n",
       "    <tr style=\"text-align: right;\">\n",
       "      <th></th>\n",
       "      <th>model_name</th>\n",
       "      <th>test_rmse</th>\n",
       "      <th>test_mae</th>\n",
       "      <th>fit_time</th>\n",
       "      <th>test_time</th>\n",
       "    </tr>\n",
       "  </thead>\n",
       "  <tbody>\n",
       "    <tr>\n",
       "      <th>0</th>\n",
       "      <td>Normal Predictor</td>\n",
       "      <td>2.303970</td>\n",
       "      <td>1.824872</td>\n",
       "      <td>0.817205</td>\n",
       "      <td>1.666014</td>\n",
       "    </tr>\n",
       "    <tr>\n",
       "      <th>1</th>\n",
       "      <td>Baseline Only</td>\n",
       "      <td>1.249828</td>\n",
       "      <td>0.944354</td>\n",
       "      <td>1.861716</td>\n",
       "      <td>1.854364</td>\n",
       "    </tr>\n",
       "    <tr>\n",
       "      <th>2</th>\n",
       "      <td>KNNBasic</td>\n",
       "      <td>1.329197</td>\n",
       "      <td>0.991563</td>\n",
       "      <td>9.459602</td>\n",
       "      <td>86.500420</td>\n",
       "    </tr>\n",
       "    <tr>\n",
       "      <th>3</th>\n",
       "      <td>KNNBaseline</td>\n",
       "      <td>1.224685</td>\n",
       "      <td>0.922603</td>\n",
       "      <td>11.117616</td>\n",
       "      <td>89.767520</td>\n",
       "    </tr>\n",
       "    <tr>\n",
       "      <th>4</th>\n",
       "      <td>SVD</td>\n",
       "      <td>1.222993</td>\n",
       "      <td>0.919167</td>\n",
       "      <td>7.301846</td>\n",
       "      <td>2.663356</td>\n",
       "    </tr>\n",
       "  </tbody>\n",
       "</table>\n",
       "</div>"
      ],
      "text/plain": [
       "         model_name  test_rmse  test_mae   fit_time  test_time\n",
       "0  Normal Predictor   2.303970  1.824872   0.817205   1.666014\n",
       "1     Baseline Only   1.249828  0.944354   1.861716   1.854364\n",
       "2          KNNBasic   1.329197  0.991563   9.459602  86.500420\n",
       "3       KNNBaseline   1.224685  0.922603  11.117616  89.767520\n",
       "4               SVD   1.222993  0.919167   7.301846   2.663356"
      ]
     },
     "execution_count": 61,
     "metadata": {},
     "output_type": "execute_result"
    }
   ],
   "source": [
    "#visualize model comparison results\n",
    "model_comparison_df"
   ]
  },
  {
   "cell_type": "markdown",
   "id": "ae40a618",
   "metadata": {
    "papermill": {
     "duration": 0.120517,
     "end_time": "2023-06-01T01:46:06.078170",
     "exception": false,
     "start_time": "2023-06-01T01:46:05.957653",
     "status": "completed"
    },
    "tags": []
   },
   "source": [
    "After performing cross validation using our different algorithms, it appears that `SVD` performed the best. This is expected since both the baseline and KNN-based models aren't as robust and have several limitations (baseline models are too simple while KNN-based models have trouble handling **cold-start scenarios**, which happens when data is limited). Let's tune the `SVD` model to see if we can get better results."
   ]
  },
  {
   "cell_type": "markdown",
   "id": "8703f5cb",
   "metadata": {
    "papermill": {
     "duration": 0.122342,
     "end_time": "2023-06-01T01:46:06.322987",
     "exception": false,
     "start_time": "2023-06-01T01:46:06.200645",
     "status": "completed"
    },
    "tags": []
   },
   "source": [
    "# Singular Value Decomposition (SVD)\n",
    "\n",
    "There are numerous hyperparameters we can play with in regards to SVD. Here is a list of the parameters that we'll adjust along with their explanations.\n",
    "\n",
    "- `n_factor`: This hyperparameter controls the number of latent factors used to represent users and items. Increasing the number of factors can lead to a more expressive model but can also increase the risk of overfitting.\n",
    "- `n_epochs`: This hyperparameter controls the number of iterations of the stochastic gradient descent algorithm used to train the model. Increasing the number of epochs can improve the accuracy of the model but can also increase the training time.\n",
    "- `lr_all`: This hyperparameter controls the learning rate for all parameters in the model. A higher learning rate can lead to faster convergence but can also make the model unstable.\n",
    "- `reg_all`: This hyperparameter controls the regularization strength for all parameters in the model. Regularization helps prevent overfitting by adding a penalty term to the objective function, which encourages the model to have smaller parameter values. Increasing the regularization strength can lead to a simpler model but can also decrease the accuracy.\n",
    "- `biased`: This hyperparameter controls whether to include bias terms for users and items in the model. Bias terms represent the average rating for each user and item and can improve the accuracy of the model by accounting for systematic deviations from the global average rating.\n",
    "- `random_state`: This hyperparameter controls the random seed used by the model. Setting a fixed random seed ensures reproducibility of the results.\n",
    "\n",
    "To save time, I'll only try out limited values for the hyperparameter. But feel free to experiment with different values and let me know if you have a set of hyperparameters that performs better. "
   ]
  },
  {
   "cell_type": "code",
   "execution_count": 62,
   "id": "ae7dfa9e",
   "metadata": {
    "execution": {
     "iopub.execute_input": "2023-06-01T01:46:06.574613Z",
     "iopub.status.busy": "2023-06-01T01:46:06.573869Z",
     "iopub.status.idle": "2023-06-01T02:24:27.276884Z",
     "shell.execute_reply": "2023-06-01T02:24:27.276335Z"
    },
    "papermill": {
     "duration": 2300.832155,
     "end_time": "2023-06-01T02:24:27.277034",
     "exception": false,
     "start_time": "2023-06-01T01:46:06.444879",
     "status": "completed"
    },
    "tags": []
   },
   "outputs": [
    {
     "name": "stderr",
     "output_type": "stream",
     "text": [
      "[Parallel(n_jobs=-1)]: Using backend LokyBackend with 10 concurrent workers.\n",
      "[Parallel(n_jobs=-1)]: Done  14 out of  24 | elapsed:   23.5s remaining:   16.8s\n"
     ]
    },
    {
     "name": "stdout",
     "output_type": "stream",
     "text": [
      "1.1916842593049433\n",
      "{'n_factors': 200, 'n_epochs': 30, 'lr_all': 0.005, 'reg_all': 0.05, 'biased': True, 'random_state': 42}\n"
     ]
    },
    {
     "name": "stderr",
     "output_type": "stream",
     "text": [
      "[Parallel(n_jobs=-1)]: Done  24 out of  24 | elapsed:   35.5s finished\n"
     ]
    }
   ],
   "source": [
    "svd_param_grid = {'n_factors': [150, 200],\n",
    "                  'n_epochs': [20, 30],\n",
    "                  'lr_all': [0.005],\n",
    "                  'reg_all': [0.02, 0.05],\n",
    "                  'biased': [True],\n",
    "                  'random_state': [42]}\n",
    "\n",
    "svd_gs = GridSearchCV(SVD, svd_param_grid, measures=[\"rmse\", \"mae\"], cv=3, n_jobs=-1, joblib_verbose=3)\n",
    "\n",
    "svd_gs.fit(data)\n",
    "\n",
    "# best RMSE score\n",
    "print(svd_gs.best_score[\"rmse\"])\n",
    "\n",
    "# combination of parameters that gave the best RMSE score\n",
    "print(svd_gs.best_params[\"rmse\"])"
   ]
  },
  {
   "cell_type": "markdown",
   "id": "b18dd804",
   "metadata": {
    "papermill": {
     "duration": 0.121267,
     "end_time": "2023-06-01T02:24:27.526115",
     "exception": false,
     "start_time": "2023-06-01T02:24:27.404848",
     "status": "completed"
    },
    "tags": []
   },
   "source": [
    "Looking Good! The model improved even further with some tuning. After we've acquired these more optimal parameters, let's fit the SVD model with our training dataset."
   ]
  },
  {
   "cell_type": "code",
   "execution_count": 63,
   "id": "0d5e430b",
   "metadata": {
    "execution": {
     "iopub.execute_input": "2023-06-01T02:24:27.794729Z",
     "iopub.status.busy": "2023-06-01T02:24:27.789434Z",
     "iopub.status.idle": "2023-06-01T02:27:14.135658Z",
     "shell.execute_reply": "2023-06-01T02:27:14.136207Z"
    },
    "papermill": {
     "duration": 166.490021,
     "end_time": "2023-06-01T02:27:14.136387",
     "exception": false,
     "start_time": "2023-06-01T02:24:27.646366",
     "status": "completed"
    },
    "tags": []
   },
   "outputs": [
    {
     "data": {
      "text/plain": [
       "<surprise.prediction_algorithms.matrix_factorization.SVD at 0x14271fc20>"
      ]
     },
     "execution_count": 63,
     "metadata": {},
     "output_type": "execute_result"
    }
   ],
   "source": [
    "#SVD model with the best parameters\n",
    "best_SVD = svd_gs.best_estimator[\"rmse\"]\n",
    "\n",
    "#train the model with the training dataset\n",
    "best_SVD.fit(trainset)"
   ]
  },
  {
   "cell_type": "markdown",
   "id": "d1367e77",
   "metadata": {
    "papermill": {
     "duration": 0.122143,
     "end_time": "2023-06-01T02:27:14.381196",
     "exception": false,
     "start_time": "2023-06-01T02:27:14.259053",
     "status": "completed"
    },
    "tags": []
   },
   "source": [
    "# Testing\n",
    "\n",
    "Finally, we can use this SVD model to make predictions on our testing dataset."
   ]
  },
  {
   "cell_type": "code",
   "execution_count": 64,
   "id": "c5bb50dd",
   "metadata": {
    "execution": {
     "iopub.execute_input": "2023-06-01T02:27:14.647758Z",
     "iopub.status.busy": "2023-06-01T02:27:14.641066Z",
     "iopub.status.idle": "2023-06-01T02:27:18.471819Z",
     "shell.execute_reply": "2023-06-01T02:27:18.472308Z"
    },
    "papermill": {
     "duration": 3.962132,
     "end_time": "2023-06-01T02:27:18.472470",
     "exception": false,
     "start_time": "2023-06-01T02:27:14.510338",
     "status": "completed"
    },
    "scrolled": true,
    "tags": []
   },
   "outputs": [
    {
     "data": {
      "text/plain": [
       "[Prediction(uid=5094, iid=407, r_ui=9.0, est=8.978099091315837, details={'was_impossible': False}),\n",
       " Prediction(uid=5122, iid=535, r_ui=10.0, est=9.251076265379842, details={'was_impossible': False}),\n",
       " Prediction(uid=2464, iid=2362, r_ui=8.0, est=8.268569884299962, details={'was_impossible': False}),\n",
       " Prediction(uid=751, iid=4702, r_ui=8.0, est=6.986396889625195, details={'was_impossible': False}),\n",
       " Prediction(uid=3100, iid=1531, r_ui=9.0, est=8.899361658542146, details={'was_impossible': False}),\n",
       " Prediction(uid=2566, iid=13553, r_ui=9.0, est=8.554513034123142, details={'was_impossible': False}),\n",
       " Prediction(uid=2158, iid=9092, r_ui=8.0, est=7.628330750456886, details={'was_impossible': False}),\n",
       " Prediction(uid=4387, iid=13328, r_ui=9.0, est=9.14957783589672, details={'was_impossible': False}),\n",
       " Prediction(uid=613, iid=11363, r_ui=8.0, est=7.846650125982564, details={'was_impossible': False}),\n",
       " Prediction(uid=3123, iid=8058, r_ui=6.0, est=5.2116232679155, details={'was_impossible': False}),\n",
       " Prediction(uid=1659, iid=764, r_ui=10.0, est=9.464129560004922, details={'was_impossible': False}),\n",
       " Prediction(uid=1239, iid=917, r_ui=7.0, est=7.43327388331041, details={'was_impossible': False}),\n",
       " Prediction(uid=3710, iid=9644, r_ui=8.0, est=6.232737814153341, details={'was_impossible': False}),\n",
       " Prediction(uid=2342, iid=768, r_ui=10.0, est=9.416459753203764, details={'was_impossible': False}),\n",
       " Prediction(uid=5082, iid=79, r_ui=9.0, est=7.68235983698902, details={'was_impossible': False}),\n",
       " Prediction(uid=4868, iid=1244, r_ui=7.0, est=8.100722711912022, details={'was_impossible': False}),\n",
       " Prediction(uid=1820, iid=12125, r_ui=7.0, est=7.197265934962076, details={'was_impossible': False}),\n",
       " Prediction(uid=5719, iid=3033, r_ui=6.0, est=5.8485645832661195, details={'was_impossible': False}),\n",
       " Prediction(uid=3756, iid=4699, r_ui=8.0, est=8.38853140669046, details={'was_impossible': False}),\n",
       " Prediction(uid=3934, iid=200, r_ui=7.0, est=6.418449824284288, details={'was_impossible': False}),\n",
       " Prediction(uid=5530, iid=14143, r_ui=7.0, est=7.193861868358255, details={'was_impossible': False}),\n",
       " Prediction(uid=4312, iid=15600, r_ui=8.0, est=8.063880036574536, details={'was_impossible': False}),\n",
       " Prediction(uid=3701, iid=9704, r_ui=7.0, est=7.201641238099346, details={'was_impossible': False}),\n",
       " Prediction(uid=3608, iid=7437, r_ui=10.0, est=8.60036112253729, details={'was_impossible': False}),\n",
       " Prediction(uid=1902, iid=15485, r_ui=2.0, est=6.076306240004373, details={'was_impossible': False}),\n",
       " Prediction(uid=1520, iid=11071, r_ui=6.0, est=6.042304655576672, details={'was_impossible': False}),\n",
       " Prediction(uid=3641, iid=13018, r_ui=8.0, est=6.98523003120667, details={'was_impossible': False}),\n",
       " Prediction(uid=2534, iid=10420, r_ui=8.0, est=8.03811138945203, details={'was_impossible': False}),\n",
       " Prediction(uid=4139, iid=1389, r_ui=8.0, est=7.272968341926306, details={'was_impossible': False}),\n",
       " Prediction(uid=1641, iid=6173, r_ui=10.0, est=9.035915766941894, details={'was_impossible': False}),\n",
       " Prediction(uid=1817, iid=9577, r_ui=6.0, est=7.016174977118092, details={'was_impossible': False}),\n",
       " Prediction(uid=2425, iid=199, r_ui=9.0, est=8.12045341016508, details={'was_impossible': False}),\n",
       " Prediction(uid=2402, iid=8317, r_ui=6.0, est=5.853781994919783, details={'was_impossible': False}),\n",
       " Prediction(uid=2587, iid=7504, r_ui=5.0, est=8.14218537864401, details={'was_impossible': False}),\n",
       " Prediction(uid=1173, iid=13390, r_ui=3.0, est=4.208407434708917, details={'was_impossible': False}),\n",
       " Prediction(uid=1148, iid=8633, r_ui=4.0, est=4.842829077465803, details={'was_impossible': False}),\n",
       " Prediction(uid=2422, iid=242, r_ui=9.0, est=9.036336407620066, details={'was_impossible': False}),\n",
       " Prediction(uid=3185, iid=10428, r_ui=7.0, est=7.021409652232477, details={'was_impossible': False}),\n",
       " Prediction(uid=1733, iid=431, r_ui=6.0, est=6.539263811920329, details={'was_impossible': False}),\n",
       " Prediction(uid=5776, iid=12836, r_ui=2.0, est=4.325646460022699, details={'was_impossible': False}),\n",
       " Prediction(uid=371, iid=8135, r_ui=7.0, est=7.0585658004934855, details={'was_impossible': False}),\n",
       " Prediction(uid=5111, iid=11879, r_ui=6.0, est=7.47892226440812, details={'was_impossible': False}),\n",
       " Prediction(uid=1922, iid=4010, r_ui=4.0, est=7.092859077501136, details={'was_impossible': False}),\n",
       " Prediction(uid=4652, iid=7174, r_ui=7.0, est=7.145908103683779, details={'was_impossible': False}),\n",
       " Prediction(uid=2976, iid=12572, r_ui=8.0, est=8.685180455824364, details={'was_impossible': False}),\n",
       " Prediction(uid=887, iid=550, r_ui=9.0, est=6.853373854050645, details={'was_impossible': False}),\n",
       " Prediction(uid=3822, iid=1446, r_ui=7.0, est=7.648344355243931, details={'was_impossible': False}),\n",
       " Prediction(uid=4589, iid=4653, r_ui=9.0, est=9.359632719320208, details={'was_impossible': False}),\n",
       " Prediction(uid=3784, iid=959, r_ui=7.0, est=7.295641991377093, details={'was_impossible': False}),\n",
       " Prediction(uid=4132, iid=1512, r_ui=7.0, est=6.9108219783911204, details={'was_impossible': False}),\n",
       " Prediction(uid=5281, iid=1817, r_ui=9.0, est=8.570695402108916, details={'was_impossible': False}),\n",
       " Prediction(uid=1177, iid=11879, r_ui=6.0, est=6.118000986135718, details={'was_impossible': False}),\n",
       " Prediction(uid=3078, iid=10132, r_ui=6.0, est=7.517562564982274, details={'was_impossible': False}),\n",
       " Prediction(uid=1016, iid=15961, r_ui=9.0, est=7.605901898522739, details={'was_impossible': False}),\n",
       " Prediction(uid=590, iid=13287, r_ui=9.0, est=7.732995824752759, details={'was_impossible': False}),\n",
       " Prediction(uid=3608, iid=5850, r_ui=5.0, est=5.794027186840946, details={'was_impossible': False}),\n",
       " Prediction(uid=4134, iid=8267, r_ui=7.0, est=7.64353302918566, details={'was_impossible': False}),\n",
       " Prediction(uid=3151, iid=4571, r_ui=9.0, est=6.091423257519505, details={'was_impossible': False}),\n",
       " Prediction(uid=5058, iid=230, r_ui=10.0, est=8.539830500384419, details={'was_impossible': False}),\n",
       " Prediction(uid=5774, iid=10595, r_ui=10.0, est=8.97358830614961, details={'was_impossible': False}),\n",
       " Prediction(uid=1489, iid=1427, r_ui=8.0, est=8.738789508839027, details={'was_impossible': False}),\n",
       " Prediction(uid=633, iid=7463, r_ui=8.0, est=7.691771036905812, details={'was_impossible': False}),\n",
       " Prediction(uid=1924, iid=7721, r_ui=9.0, est=7.530883643007374, details={'was_impossible': False}),\n",
       " Prediction(uid=1877, iid=4463, r_ui=6.0, est=6.0046964613314175, details={'was_impossible': False}),\n",
       " Prediction(uid=3733, iid=7007, r_ui=7.0, est=7.302666315419663, details={'was_impossible': False}),\n",
       " Prediction(uid=890, iid=6840, r_ui=6.0, est=5.691843389173781, details={'was_impossible': False}),\n",
       " Prediction(uid=4592, iid=1445, r_ui=7.0, est=6.509355647308361, details={'was_impossible': False}),\n",
       " Prediction(uid=2424, iid=8869, r_ui=9.0, est=9.099877610837762, details={'was_impossible': False}),\n",
       " Prediction(uid=849, iid=64, r_ui=7.0, est=6.584677317062581, details={'was_impossible': False}),\n",
       " Prediction(uid=5713, iid=13200, r_ui=3.0, est=6.332791364025311, details={'was_impossible': False}),\n",
       " Prediction(uid=681, iid=11587, r_ui=4.0, est=5.757492937182045, details={'was_impossible': False}),\n",
       " Prediction(uid=1097, iid=207, r_ui=5.0, est=7.834339704178334, details={'was_impossible': False}),\n",
       " Prediction(uid=1331, iid=11867, r_ui=8.0, est=7.870722476447432, details={'was_impossible': False}),\n",
       " Prediction(uid=4842, iid=9078, r_ui=7.0, est=7.031029453141948, details={'was_impossible': False}),\n",
       " Prediction(uid=3578, iid=5104, r_ui=10.0, est=8.893587142059738, details={'was_impossible': False}),\n",
       " Prediction(uid=3334, iid=4682, r_ui=7.0, est=8.211725060292075, details={'was_impossible': False}),\n",
       " Prediction(uid=4319, iid=3897, r_ui=3.0, est=4.724672353502219, details={'was_impossible': False}),\n",
       " Prediction(uid=4346, iid=726, r_ui=9.0, est=7.339288854607778, details={'was_impossible': False}),\n",
       " Prediction(uid=3232, iid=14543, r_ui=9.0, est=8.722387945638665, details={'was_impossible': False}),\n",
       " Prediction(uid=3165, iid=1849, r_ui=9.0, est=8.331296276573202, details={'was_impossible': False}),\n",
       " Prediction(uid=5391, iid=15838, r_ui=9.0, est=8.282865091267633, details={'was_impossible': False}),\n",
       " Prediction(uid=1819, iid=13545, r_ui=9.0, est=8.7413011873559, details={'was_impossible': False}),\n",
       " Prediction(uid=1616, iid=8267, r_ui=8.0, est=8.082444412785824, details={'was_impossible': False}),\n",
       " Prediction(uid=5993, iid=12270, r_ui=5.0, est=6.10235326300407, details={'was_impossible': False}),\n",
       " Prediction(uid=1946, iid=7418, r_ui=7.0, est=6.971063125672973, details={'was_impossible': False}),\n",
       " Prediction(uid=4343, iid=8869, r_ui=8.0, est=8.873669055890785, details={'was_impossible': False}),\n",
       " Prediction(uid=3289, iid=10900, r_ui=5.0, est=6.767745532009586, details={'was_impossible': False}),\n",
       " Prediction(uid=3533, iid=9900, r_ui=9.0, est=8.707156655286445, details={'was_impossible': False}),\n",
       " Prediction(uid=939, iid=1570, r_ui=8.0, est=7.897428721126345, details={'was_impossible': False}),\n",
       " Prediction(uid=5776, iid=79, r_ui=7.0, est=5.142904463869149, details={'was_impossible': False}),\n",
       " Prediction(uid=5230, iid=4162, r_ui=6.0, est=5.5757540453973276, details={'was_impossible': False}),\n",
       " Prediction(uid=4635, iid=1427, r_ui=8.0, est=9.407716064196872, details={'was_impossible': False}),\n",
       " Prediction(uid=529, iid=3535, r_ui=6.0, est=6.807474034493174, details={'was_impossible': False}),\n",
       " Prediction(uid=3681, iid=9624, r_ui=9.0, est=8.337466947503216, details={'was_impossible': False}),\n",
       " Prediction(uid=932, iid=9360, r_ui=8.0, est=7.848095197994, details={'was_impossible': False}),\n",
       " Prediction(uid=3983, iid=764, r_ui=10.0, est=8.703412582592954, details={'was_impossible': False}),\n",
       " Prediction(uid=4574, iid=1562, r_ui=4.0, est=7.897356119163023, details={'was_impossible': False}),\n",
       " Prediction(uid=1393, iid=11759, r_ui=7.0, est=5.902940791920996, details={'was_impossible': False}),\n",
       " Prediction(uid=2952, iid=5964, r_ui=6.0, est=7.1019842996083575, details={'was_impossible': False}),\n",
       " Prediction(uid=4616, iid=6804, r_ui=5.0, est=6.208054337166209, details={'was_impossible': False}),\n",
       " Prediction(uid=2361, iid=11077, r_ui=9.0, est=8.506146966452487, details={'was_impossible': False}),\n",
       " Prediction(uid=5496, iid=8508, r_ui=6.0, est=7.329662221686542, details={'was_impossible': False}),\n",
       " Prediction(uid=5677, iid=9627, r_ui=7.0, est=8.683707779844385, details={'was_impossible': False}),\n",
       " Prediction(uid=1010, iid=7311, r_ui=7.0, est=6.977790990706249, details={'was_impossible': False}),\n",
       " Prediction(uid=2836, iid=2647, r_ui=10.0, est=9.110075622131207, details={'was_impossible': False}),\n",
       " Prediction(uid=781, iid=7124, r_ui=6.0, est=6.612769796367837, details={'was_impossible': False}),\n",
       " Prediction(uid=3042, iid=477, r_ui=10.0, est=9.272569064966618, details={'was_impossible': False}),\n",
       " Prediction(uid=1619, iid=6261, r_ui=8.0, est=7.722320535544187, details={'was_impossible': False}),\n",
       " Prediction(uid=530, iid=175, r_ui=10.0, est=8.83350084322008, details={'was_impossible': False}),\n",
       " Prediction(uid=111, iid=10551, r_ui=7.0, est=5.693234525117554, details={'was_impossible': False}),\n",
       " Prediction(uid=197, iid=6362, r_ui=8.0, est=6.919702812444768, details={'was_impossible': False}),\n",
       " Prediction(uid=3476, iid=207, r_ui=10.0, est=8.622273678476228, details={'was_impossible': False}),\n",
       " Prediction(uid=2519, iid=3606, r_ui=4.0, est=5.606556651790669, details={'was_impossible': False}),\n",
       " Prediction(uid=565, iid=4529, r_ui=7.0, est=7.249930730513565, details={'was_impossible': False}),\n",
       " Prediction(uid=3707, iid=6453, r_ui=4.0, est=6.6276506932407315, details={'was_impossible': False}),\n",
       " Prediction(uid=3, iid=8869, r_ui=8.0, est=8.50168131950944, details={'was_impossible': False}),\n",
       " Prediction(uid=3625, iid=6477, r_ui=6.0, est=8.017258738547786, details={'was_impossible': False}),\n",
       " Prediction(uid=5870, iid=16394, r_ui=7.0, est=7.263744544046366, details={'was_impossible': False}),\n",
       " Prediction(uid=573, iid=2968, r_ui=7.0, est=6.396952629506062, details={'was_impossible': False}),\n",
       " Prediction(uid=3395, iid=13178, r_ui=8.0, est=8.385653310988285, details={'was_impossible': False}),\n",
       " Prediction(uid=371, iid=8633, r_ui=7.0, est=6.479534108509024, details={'was_impossible': False}),\n",
       " Prediction(uid=4191, iid=13942, r_ui=9.0, est=8.5966549586183, details={'was_impossible': False}),\n",
       " Prediction(uid=3676, iid=8739, r_ui=7.0, est=6.263941534909832, details={'was_impossible': False}),\n",
       " Prediction(uid=4310, iid=7311, r_ui=6.0, est=8.494801887451706, details={'was_impossible': False}),\n",
       " Prediction(uid=3308, iid=2828, r_ui=8.0, est=7.352253867841571, details={'was_impossible': False}),\n",
       " Prediction(uid=2897, iid=1605, r_ui=7.0, est=6.729344036698374, details={'was_impossible': False}),\n",
       " Prediction(uid=1147, iid=3947, r_ui=8.0, est=8.864937217222899, details={'was_impossible': False}),\n",
       " Prediction(uid=4765, iid=14483, r_ui=7.0, est=6.633716348503643, details={'was_impossible': False}),\n",
       " Prediction(uid=5285, iid=6341, r_ui=8.0, est=6.190806044959252, details={'was_impossible': False}),\n",
       " Prediction(uid=1511, iid=7356, r_ui=9.0, est=7.789013847229079, details={'was_impossible': False}),\n",
       " Prediction(uid=4485, iid=157, r_ui=6.0, est=6.7477402474075525, details={'was_impossible': False}),\n",
       " Prediction(uid=3483, iid=4971, r_ui=8.0, est=8.19297359112945, details={'was_impossible': False}),\n",
       " Prediction(uid=4306, iid=14488, r_ui=7.0, est=6.651743346867195, details={'was_impossible': False}),\n",
       " Prediction(uid=1664, iid=8104, r_ui=10.0, est=9.487359185230744, details={'was_impossible': False}),\n",
       " Prediction(uid=2815, iid=13178, r_ui=7.0, est=8.358354966646518, details={'was_impossible': False}),\n",
       " Prediction(uid=2785, iid=6608, r_ui=7.0, est=7.724318639575264, details={'was_impossible': False}),\n",
       " Prediction(uid=639, iid=14899, r_ui=9.0, est=7.5432041097956715, details={'was_impossible': False}),\n",
       " Prediction(uid=934, iid=6364, r_ui=7.0, est=7.06838114725507, details={'was_impossible': False}),\n",
       " Prediction(uid=3308, iid=171, r_ui=8.0, est=7.493328062040455, details={'was_impossible': False}),\n",
       " Prediction(uid=781, iid=13743, r_ui=5.0, est=6.67998892227474, details={'was_impossible': False}),\n",
       " Prediction(uid=2576, iid=3758, r_ui=6.0, est=4.795941483115785, details={'was_impossible': False}),\n",
       " Prediction(uid=803, iid=6764, r_ui=7.0, est=7.339951536500985, details={'was_impossible': False}),\n",
       " Prediction(uid=1472, iid=12639, r_ui=5.0, est=7.619733430829095, details={'was_impossible': False}),\n",
       " Prediction(uid=5473, iid=9900, r_ui=10.0, est=8.790353361186112, details={'was_impossible': False}),\n",
       " Prediction(uid=478, iid=16288, r_ui=7.0, est=6.776999098797152, details={'was_impossible': False}),\n",
       " Prediction(uid=3331, iid=2260, r_ui=7.0, est=8.092761844066354, details={'was_impossible': False}),\n",
       " Prediction(uid=730, iid=3532, r_ui=7.0, est=7.809350367653161, details={'was_impossible': False}),\n",
       " Prediction(uid=3858, iid=9837, r_ui=9.0, est=8.363714351146362, details={'was_impossible': False}),\n",
       " Prediction(uid=5236, iid=8228, r_ui=7.0, est=7.06088229243536, details={'was_impossible': False}),\n",
       " Prediction(uid=882, iid=7098, r_ui=9.0, est=8.384548923926324, details={'was_impossible': False}),\n",
       " Prediction(uid=3600, iid=1570, r_ui=10.0, est=10, details={'was_impossible': False}),\n",
       " Prediction(uid=395, iid=819, r_ui=7.0, est=7.336709763715784, details={'was_impossible': False}),\n",
       " Prediction(uid=2954, iid=378, r_ui=5.0, est=5.6103607969347395, details={'was_impossible': False}),\n",
       " Prediction(uid=1177, iid=5587, r_ui=6.0, est=6.445873967025448, details={'was_impossible': False}),\n",
       " Prediction(uid=1393, iid=7301, r_ui=5.0, est=6.511070804338717, details={'was_impossible': False}),\n",
       " Prediction(uid=5017, iid=434, r_ui=10.0, est=9.733822405565647, details={'was_impossible': False}),\n",
       " Prediction(uid=4989, iid=9, r_ui=9.0, est=8.212689637875496, details={'was_impossible': False}),\n",
       " Prediction(uid=3395, iid=9876, r_ui=8.0, est=8.58406808872608, details={'was_impossible': False}),\n",
       " Prediction(uid=943, iid=15115, r_ui=9.0, est=8.409280313829903, details={'was_impossible': False}),\n",
       " Prediction(uid=4596, iid=14495, r_ui=6.0, est=7.510066399174937, details={'was_impossible': False}),\n",
       " Prediction(uid=1309, iid=4877, r_ui=7.0, est=7.208874566891581, details={'was_impossible': False}),\n",
       " Prediction(uid=2891, iid=4386, r_ui=7.0, est=6.66622376725908, details={'was_impossible': False}),\n",
       " Prediction(uid=3000, iid=13176, r_ui=8.0, est=7.864358433818831, details={'was_impossible': False}),\n",
       " Prediction(uid=793, iid=10644, r_ui=7.0, est=8.248856343312896, details={'was_impossible': False}),\n",
       " Prediction(uid=813, iid=7001, r_ui=9.0, est=7.885211474940827, details={'was_impossible': False}),\n",
       " Prediction(uid=1924, iid=9536, r_ui=7.0, est=7.991032325568512, details={'was_impossible': False}),\n",
       " Prediction(uid=1629, iid=14580, r_ui=7.0, est=8.325932877468606, details={'was_impossible': False}),\n",
       " Prediction(uid=603, iid=3636, r_ui=6.0, est=5.955882069379529, details={'was_impossible': False}),\n",
       " Prediction(uid=2314, iid=5964, r_ui=5.0, est=7.4076422866238225, details={'was_impossible': False}),\n",
       " Prediction(uid=311, iid=472, r_ui=7.0, est=6.116317873489906, details={'was_impossible': False}),\n",
       " Prediction(uid=3380, iid=8135, r_ui=7.0, est=8.224789853732856, details={'was_impossible': False}),\n",
       " Prediction(uid=4799, iid=1427, r_ui=10.0, est=8.993859966781185, details={'was_impossible': False}),\n",
       " Prediction(uid=1895, iid=9275, r_ui=8.0, est=7.095581481094368, details={'was_impossible': False}),\n",
       " Prediction(uid=1707, iid=8874, r_ui=8.0, est=7.117262090475359, details={'was_impossible': False}),\n",
       " Prediction(uid=2664, iid=3657, r_ui=9.0, est=7.414923668963764, details={'was_impossible': False}),\n",
       " Prediction(uid=5211, iid=6005, r_ui=8.0, est=7.382488854912836, details={'was_impossible': False}),\n",
       " Prediction(uid=44, iid=7814, r_ui=7.0, est=6.120695452137413, details={'was_impossible': False}),\n",
       " Prediction(uid=2715, iid=166, r_ui=8.0, est=8.053496716453962, details={'was_impossible': False}),\n",
       " Prediction(uid=5253, iid=4790, r_ui=8.0, est=7.216196813809045, details={'was_impossible': False}),\n",
       " Prediction(uid=3827, iid=6041, r_ui=6.0, est=7.463111517173367, details={'was_impossible': False}),\n",
       " Prediction(uid=4940, iid=8995, r_ui=7.0, est=6.463264253390398, details={'was_impossible': False}),\n",
       " Prediction(uid=5002, iid=7607, r_ui=6.0, est=6.800795298453718, details={'was_impossible': False}),\n",
       " Prediction(uid=3461, iid=9770, r_ui=10.0, est=9.037970383899854, details={'was_impossible': False}),\n",
       " Prediction(uid=5874, iid=14468, r_ui=6.0, est=7.233083337805165, details={'was_impossible': False}),\n",
       " Prediction(uid=1046, iid=5523, r_ui=6.0, est=6.995064731713025, details={'was_impossible': False}),\n",
       " Prediction(uid=442, iid=10644, r_ui=9.0, est=8.475730550753743, details={'was_impossible': False}),\n",
       " Prediction(uid=3923, iid=6744, r_ui=9.0, est=6.5393085251935155, details={'was_impossible': False}),\n",
       " Prediction(uid=1275, iid=8279, r_ui=9.0, est=8.540549126518266, details={'was_impossible': False}),\n",
       " Prediction(uid=153, iid=16325, r_ui=10.0, est=8.904175806370674, details={'was_impossible': False}),\n",
       " Prediction(uid=2093, iid=7195, r_ui=1.0, est=3.6132271122080786, details={'was_impossible': False}),\n",
       " Prediction(uid=1264, iid=11589, r_ui=9.0, est=7.796930096175219, details={'was_impossible': False}),\n",
       " Prediction(uid=4648, iid=9915, r_ui=9.0, est=7.246538448599872, details={'was_impossible': False}),\n",
       " Prediction(uid=5034, iid=1570, r_ui=7.0, est=7.008184716406001, details={'was_impossible': False}),\n",
       " Prediction(uid=1070, iid=719, r_ui=8.0, est=7.636042317459364, details={'was_impossible': False}),\n",
       " Prediction(uid=1331, iid=13808, r_ui=9.0, est=9.036308457461093, details={'was_impossible': False}),\n",
       " Prediction(uid=4306, iid=1531, r_ui=8.0, est=7.556234923823268, details={'was_impossible': False}),\n",
       " Prediction(uid=3741, iid=7831, r_ui=4.0, est=6.57132944063226, details={'was_impossible': False}),\n",
       " Prediction(uid=1226, iid=4089, r_ui=8.0, est=8.41419047900341, details={'was_impossible': False}),\n",
       " Prediction(uid=5760, iid=11306, r_ui=5.0, est=6.994828218110705, details={'was_impossible': False}),\n",
       " Prediction(uid=1882, iid=7156, r_ui=9.0, est=8.260271755541236, details={'was_impossible': False}),\n",
       " Prediction(uid=4346, iid=15980, r_ui=7.0, est=6.129962064304189, details={'was_impossible': False}),\n",
       " Prediction(uid=112, iid=6676, r_ui=8.0, est=7.243847724356244, details={'was_impossible': False}),\n",
       " Prediction(uid=1397, iid=916, r_ui=6.0, est=6.7296551782259195, details={'was_impossible': False}),\n",
       " Prediction(uid=3227, iid=6565, r_ui=8.0, est=7.655117285025167, details={'was_impossible': False}),\n",
       " Prediction(uid=3011, iid=8886, r_ui=8.0, est=7.829607616288448, details={'was_impossible': False}),\n",
       " Prediction(uid=5394, iid=5878, r_ui=8.0, est=8.121626123465543, details={'was_impossible': False}),\n",
       " Prediction(uid=5789, iid=2261, r_ui=7.0, est=6.756609506651003, details={'was_impossible': False}),\n",
       " Prediction(uid=345, iid=1979, r_ui=10.0, est=8.255326379958477, details={'was_impossible': False}),\n",
       " Prediction(uid=1177, iid=10, r_ui=8.0, est=7.149441186892186, details={'was_impossible': False}),\n",
       " Prediction(uid=5348, iid=330, r_ui=8.0, est=7.436440928741152, details={'was_impossible': False}),\n",
       " Prediction(uid=5813, iid=7284, r_ui=8.0, est=8.227287318711308, details={'was_impossible': False}),\n",
       " Prediction(uid=5264, iid=2731, r_ui=10.0, est=8.535372472211439, details={'was_impossible': False}),\n",
       " Prediction(uid=2876, iid=8026, r_ui=7.0, est=7.113384097264735, details={'was_impossible': False}),\n",
       " Prediction(uid=5451, iid=8292, r_ui=9.0, est=9.194396237189283, details={'was_impossible': False}),\n",
       " Prediction(uid=1189, iid=6677, r_ui=9.0, est=9.288756795307952, details={'was_impossible': False}),\n",
       " Prediction(uid=2117, iid=98, r_ui=10.0, est=7.774148517445376, details={'was_impossible': False}),\n",
       " Prediction(uid=3436, iid=11868, r_ui=6.0, est=6.8964237896327765, details={'was_impossible': False}),\n",
       " Prediction(uid=1651, iid=6190, r_ui=7.0, est=8.312751054060717, details={'was_impossible': False}),\n",
       " Prediction(uid=3461, iid=7234, r_ui=10.0, est=9.924233590152966, details={'was_impossible': False}),\n",
       " Prediction(uid=943, iid=5499, r_ui=8.0, est=8.452159348808056, details={'was_impossible': False}),\n",
       " Prediction(uid=3347, iid=4628, r_ui=9.0, est=8.26098169549307, details={'was_impossible': False}),\n",
       " Prediction(uid=5651, iid=12743, r_ui=8.0, est=8.70428309215655, details={'was_impossible': False}),\n",
       " Prediction(uid=943, iid=6420, r_ui=7.0, est=7.203044135299304, details={'was_impossible': False}),\n",
       " Prediction(uid=4483, iid=477, r_ui=8.0, est=8.198117018185126, details={'was_impossible': False}),\n",
       " Prediction(uid=3570, iid=4830, r_ui=7.0, est=7.892853713565036, details={'was_impossible': False}),\n",
       " Prediction(uid=1706, iid=2301, r_ui=7.0, est=6.487634983244802, details={'was_impossible': False}),\n",
       " Prediction(uid=985, iid=3872, r_ui=8.0, est=7.311403237397959, details={'was_impossible': False}),\n",
       " Prediction(uid=4828, iid=14147, r_ui=9.0, est=8.307622815952884, details={'was_impossible': False}),\n",
       " Prediction(uid=4134, iid=7643, r_ui=6.0, est=6.693947027821012, details={'was_impossible': False}),\n",
       " Prediction(uid=4408, iid=1639, r_ui=10.0, est=9.357345682203063, details={'was_impossible': False}),\n",
       " Prediction(uid=4420, iid=220, r_ui=9.0, est=7.555792704760956, details={'was_impossible': False}),\n",
       " Prediction(uid=4903, iid=5654, r_ui=7.0, est=6.7578921080398935, details={'was_impossible': False}),\n",
       " Prediction(uid=948, iid=3781, r_ui=6.0, est=7.036939903169893, details={'was_impossible': False}),\n",
       " Prediction(uid=3539, iid=14173, r_ui=5.0, est=6.903898451331476, details={'was_impossible': False}),\n",
       " Prediction(uid=5089, iid=4877, r_ui=6.0, est=7.9123081881124, details={'was_impossible': False}),\n",
       " Prediction(uid=4821, iid=8483, r_ui=8.0, est=7.257144164224988, details={'was_impossible': False}),\n",
       " Prediction(uid=1397, iid=5237, r_ui=7.0, est=7.261205360717756, details={'was_impossible': False}),\n",
       " Prediction(uid=3436, iid=3903, r_ui=9.0, est=5.886340782607781, details={'was_impossible': False}),\n",
       " Prediction(uid=5722, iid=6602, r_ui=6.0, est=6.881806582568563, details={'was_impossible': False}),\n",
       " Prediction(uid=943, iid=14895, r_ui=8.0, est=7.697957126632726, details={'was_impossible': False}),\n",
       " Prediction(uid=5956, iid=9628, r_ui=8.0, est=8.614461361937051, details={'was_impossible': False}),\n",
       " Prediction(uid=3436, iid=1943, r_ui=6.0, est=6.840775461439336, details={'was_impossible': False}),\n",
       " Prediction(uid=2037, iid=9002, r_ui=10.0, est=8.799575127312792, details={'was_impossible': False}),\n",
       " Prediction(uid=2402, iid=4814, r_ui=7.0, est=5.8274920828531025, details={'was_impossible': False}),\n",
       " Prediction(uid=4309, iid=12146, r_ui=7.0, est=7.330026151947487, details={'was_impossible': False}),\n",
       " Prediction(uid=3602, iid=5268, r_ui=7.0, est=8.624966144976788, details={'was_impossible': False}),\n",
       " Prediction(uid=2334, iid=1033, r_ui=8.0, est=7.439237427114883, details={'was_impossible': False}),\n",
       " Prediction(uid=3780, iid=199, r_ui=10.0, est=8.657753787866845, details={'was_impossible': False}),\n",
       " Prediction(uid=642, iid=1531, r_ui=4.0, est=6.437688658176881, details={'was_impossible': False}),\n",
       " Prediction(uid=5570, iid=5431, r_ui=5.0, est=6.431960637430591, details={'was_impossible': False}),\n",
       " Prediction(uid=2489, iid=2640, r_ui=9.0, est=8.774016131555582, details={'was_impossible': False}),\n",
       " Prediction(uid=890, iid=2570, r_ui=2.0, est=5.833606098490618, details={'was_impossible': False}),\n",
       " Prediction(uid=1806, iid=6403, r_ui=10.0, est=8.542358427526299, details={'was_impossible': False}),\n",
       " Prediction(uid=1393, iid=5554, r_ui=7.0, est=6.930050657933494, details={'was_impossible': False}),\n",
       " Prediction(uid=1864, iid=7463, r_ui=3.0, est=3.990573327529099, details={'was_impossible': False}),\n",
       " Prediction(uid=871, iid=12278, r_ui=8.0, est=6.86554823813072, details={'was_impossible': False}),\n",
       " Prediction(uid=73, iid=2936, r_ui=7.0, est=6.332212834640109, details={'was_impossible': False}),\n",
       " Prediction(uid=5230, iid=1018, r_ui=5.0, est=6.381631960347609, details={'was_impossible': False}),\n",
       " Prediction(uid=1469, iid=707, r_ui=8.0, est=6.866792461086925, details={'was_impossible': False}),\n",
       " Prediction(uid=3385, iid=13, r_ui=10.0, est=9.32903093122591, details={'was_impossible': False}),\n",
       " Prediction(uid=5700, iid=181, r_ui=8.0, est=7.801590990140864, details={'was_impossible': False}),\n",
       " Prediction(uid=2747, iid=14082, r_ui=7.0, est=6.400028620041297, details={'was_impossible': False}),\n",
       " Prediction(uid=3137, iid=726, r_ui=8.0, est=7.624243355012699, details={'was_impossible': False}),\n",
       " Prediction(uid=478, iid=11426, r_ui=7.0, est=6.135603186068932, details={'was_impossible': False}),\n",
       " Prediction(uid=5076, iid=7124, r_ui=8.0, est=7.692015944303349, details={'was_impossible': False}),\n",
       " Prediction(uid=3291, iid=15612, r_ui=9.0, est=7.19905286610259, details={'was_impossible': False}),\n",
       " Prediction(uid=1554, iid=8530, r_ui=9.0, est=8.563928849462597, details={'was_impossible': False}),\n",
       " Prediction(uid=5964, iid=6147, r_ui=7.0, est=8.039099755302313, details={'was_impossible': False}),\n",
       " Prediction(uid=4318, iid=3815, r_ui=5.0, est=6.865517220188437, details={'was_impossible': False}),\n",
       " Prediction(uid=5163, iid=183, r_ui=10.0, est=7.283683873508466, details={'was_impossible': False}),\n",
       " Prediction(uid=5425, iid=3378, r_ui=6.0, est=8.028286742931503, details={'was_impossible': False}),\n",
       " Prediction(uid=4259, iid=8787, r_ui=6.0, est=7.49726970166254, details={'was_impossible': False}),\n",
       " Prediction(uid=604, iid=7675, r_ui=10.0, est=7.79997534177458, details={'was_impossible': False}),\n",
       " Prediction(uid=5299, iid=9735, r_ui=9.0, est=8.85672711424594, details={'was_impossible': False}),\n",
       " Prediction(uid=1616, iid=14507, r_ui=7.0, est=7.600802522526629, details={'was_impossible': False}),\n",
       " Prediction(uid=1356, iid=6721, r_ui=8.0, est=8.50974911297458, details={'was_impossible': False}),\n",
       " Prediction(uid=5788, iid=5449, r_ui=5.0, est=7.7145230937524065, details={'was_impossible': False}),\n",
       " Prediction(uid=3450, iid=4455, r_ui=5.0, est=7.175514106828108, details={'was_impossible': False}),\n",
       " Prediction(uid=2065, iid=8745, r_ui=5.0, est=6.73129394833349, details={'was_impossible': False}),\n",
       " Prediction(uid=5263, iid=5792, r_ui=9.0, est=6.9671006753480995, details={'was_impossible': False}),\n",
       " Prediction(uid=1330, iid=7498, r_ui=8.0, est=7.046842410489563, details={'was_impossible': False}),\n",
       " Prediction(uid=5281, iid=7538, r_ui=7.0, est=7.472768445796269, details={'was_impossible': False}),\n",
       " Prediction(uid=5707, iid=10544, r_ui=4.0, est=6.019284546302796, details={'was_impossible': False}),\n",
       " Prediction(uid=4312, iid=9364, r_ui=8.0, est=8.251311090400716, details={'was_impossible': False}),\n",
       " Prediction(uid=4987, iid=14133, r_ui=7.0, est=8.319467172847945, details={'was_impossible': False}),\n",
       " Prediction(uid=418, iid=11075, r_ui=6.0, est=7.55111288149617, details={'was_impossible': False}),\n",
       " Prediction(uid=4616, iid=11812, r_ui=7.0, est=8.31789669034073, details={'was_impossible': False}),\n",
       " Prediction(uid=1438, iid=203, r_ui=7.0, est=7.64174273066767, details={'was_impossible': False}),\n",
       " Prediction(uid=4016, iid=1411, r_ui=8.0, est=8.444920548426673, details={'was_impossible': False}),\n",
       " Prediction(uid=1437, iid=488, r_ui=8.0, est=8.817919023583329, details={'was_impossible': False}),\n",
       " Prediction(uid=327, iid=15497, r_ui=8.0, est=7.186046426401135, details={'was_impossible': False}),\n",
       " Prediction(uid=2690, iid=12572, r_ui=8.0, est=9.211093879670752, details={'was_impossible': False}),\n",
       " Prediction(uid=5664, iid=414, r_ui=9.0, est=7.327836946214246, details={'was_impossible': False}),\n",
       " Prediction(uid=4460, iid=9166, r_ui=7.0, est=6.509366037776993, details={'was_impossible': False}),\n",
       " Prediction(uid=2303, iid=6677, r_ui=9.0, est=7.5550966081926285, details={'was_impossible': False}),\n",
       " Prediction(uid=5326, iid=221, r_ui=5.0, est=7.314573707092903, details={'was_impossible': False}),\n",
       " Prediction(uid=3556, iid=3788, r_ui=9.0, est=8.531763762950861, details={'was_impossible': False}),\n",
       " Prediction(uid=1342, iid=9704, r_ui=9.0, est=8.35525309133532, details={'was_impossible': False}),\n",
       " Prediction(uid=2619, iid=16180, r_ui=6.0, est=7.217090277797523, details={'was_impossible': False}),\n",
       " Prediction(uid=5059, iid=11670, r_ui=8.0, est=8.159741261822154, details={'was_impossible': False}),\n",
       " Prediction(uid=1113, iid=3270, r_ui=8.0, est=7.3421398822775314, details={'was_impossible': False}),\n",
       " Prediction(uid=2722, iid=4877, r_ui=7.0, est=7.621579867724553, details={'was_impossible': False}),\n",
       " Prediction(uid=2846, iid=4720, r_ui=8.0, est=8.070317394545794, details={'was_impossible': False}),\n",
       " Prediction(uid=2562, iid=219, r_ui=7.0, est=9.192871393937184, details={'was_impossible': False}),\n",
       " Prediction(uid=4420, iid=11566, r_ui=9.0, est=8.483035599702225, details={'was_impossible': False}),\n",
       " Prediction(uid=1469, iid=6216, r_ui=5.0, est=5.458010896143319, details={'was_impossible': False}),\n",
       " Prediction(uid=3906, iid=1919, r_ui=7.0, est=7.812937397524065, details={'was_impossible': False}),\n",
       " Prediction(uid=2450, iid=9597, r_ui=7.0, est=7.848068378168432, details={'was_impossible': False}),\n",
       " Prediction(uid=2373, iid=8140, r_ui=7.0, est=4.703373344175883, details={'was_impossible': False}),\n",
       " Prediction(uid=4845, iid=3945, r_ui=7.0, est=7.325707358680765, details={'was_impossible': False}),\n",
       " Prediction(uid=5660, iid=122, r_ui=7.0, est=6.5174344240433575, details={'was_impossible': False}),\n",
       " Prediction(uid=476, iid=4831, r_ui=7.0, est=8.29931147364115, details={'was_impossible': False}),\n",
       " Prediction(uid=17, iid=7979, r_ui=7.0, est=6.964708391313886, details={'was_impossible': False}),\n",
       " Prediction(uid=5594, iid=9420, r_ui=10.0, est=8.967402709881531, details={'was_impossible': False}),\n",
       " Prediction(uid=3665, iid=1962, r_ui=7.0, est=7.6254668243986545, details={'was_impossible': False}),\n",
       " Prediction(uid=432, iid=5878, r_ui=10.0, est=8.280396417154071, details={'was_impossible': False}),\n",
       " Prediction(uid=4696, iid=7509, r_ui=5.0, est=7.761484120862008, details={'was_impossible': False}),\n",
       " Prediction(uid=1235, iid=223, r_ui=7.0, est=7.485594710373548, details={'was_impossible': False}),\n",
       " Prediction(uid=1862, iid=9865, r_ui=8.0, est=8.419427698632669, details={'was_impossible': False}),\n",
       " Prediction(uid=4799, iid=8874, r_ui=8.0, est=8.242530831574081, details={'was_impossible': False}),\n",
       " Prediction(uid=864, iid=7399, r_ui=4.0, est=4.280364345190824, details={'was_impossible': False}),\n",
       " Prediction(uid=3406, iid=14595, r_ui=7.0, est=8.40483626894914, details={'was_impossible': False}),\n",
       " Prediction(uid=5658, iid=7108, r_ui=7.0, est=7.021447444667181, details={'was_impossible': False}),\n",
       " Prediction(uid=5806, iid=5634, r_ui=9.0, est=8.365675652452056, details={'was_impossible': False}),\n",
       " Prediction(uid=3334, iid=4070, r_ui=8.0, est=8.077559351409878, details={'was_impossible': False}),\n",
       " Prediction(uid=1609, iid=11583, r_ui=6.0, est=7.948575894284501, details={'was_impossible': False}),\n",
       " Prediction(uid=227, iid=2385, r_ui=9.0, est=8.922036380976795, details={'was_impossible': False}),\n",
       " Prediction(uid=5611, iid=3, r_ui=8.0, est=6.8936726970429465, details={'was_impossible': False}),\n",
       " Prediction(uid=1483, iid=6103, r_ui=7.0, est=7.8566603483144695, details={'was_impossible': False}),\n",
       " Prediction(uid=2, iid=14905, r_ui=8.0, est=8.1314980415803, details={'was_impossible': False}),\n",
       " Prediction(uid=5011, iid=6049, r_ui=9.0, est=7.694716923895453, details={'was_impossible': False}),\n",
       " Prediction(uid=4582, iid=1646, r_ui=9.0, est=8.850867911690152, details={'was_impossible': False}),\n",
       " Prediction(uid=596, iid=8874, r_ui=9.0, est=8.808847575692385, details={'was_impossible': False}),\n",
       " Prediction(uid=5846, iid=12331, r_ui=2.0, est=4.154275445588398, details={'was_impossible': False}),\n",
       " Prediction(uid=3160, iid=9308, r_ui=6.0, est=5.041640323870065, details={'was_impossible': False}),\n",
       " Prediction(uid=3527, iid=1531, r_ui=9.0, est=8.805748253966723, details={'was_impossible': False}),\n",
       " Prediction(uid=1697, iid=2943, r_ui=5.0, est=6.683831649855734, details={'was_impossible': False}),\n",
       " Prediction(uid=3629, iid=7939, r_ui=7.0, est=6.161678307147551, details={'was_impossible': False}),\n",
       " Prediction(uid=1419, iid=7721, r_ui=7.0, est=6.608068419397023, details={'was_impossible': False}),\n",
       " Prediction(uid=3235, iid=141, r_ui=10.0, est=8.402596820497477, details={'was_impossible': False}),\n",
       " Prediction(uid=1964, iid=10536, r_ui=5.0, est=7.5815926462678895, details={'was_impossible': False}),\n",
       " Prediction(uid=4239, iid=3866, r_ui=7.0, est=8.05542557100538, details={'was_impossible': False}),\n",
       " Prediction(uid=5370, iid=402, r_ui=8.0, est=8.336939815348968, details={'was_impossible': False}),\n",
       " Prediction(uid=3470, iid=2640, r_ui=6.0, est=7.714854294193242, details={'was_impossible': False}),\n",
       " Prediction(uid=2137, iid=219, r_ui=9.0, est=8.7220773348824, details={'was_impossible': False}),\n",
       " Prediction(uid=2009, iid=10663, r_ui=8.0, est=7.669574554231801, details={'was_impossible': False}),\n",
       " Prediction(uid=322, iid=11955, r_ui=10.0, est=8.457325197384174, details={'was_impossible': False}),\n",
       " Prediction(uid=4167, iid=6272, r_ui=10.0, est=8.555080084714781, details={'was_impossible': False}),\n",
       " Prediction(uid=47, iid=16365, r_ui=8.0, est=8.239292190017967, details={'was_impossible': False}),\n",
       " Prediction(uid=3646, iid=7033, r_ui=2.0, est=5.6521750168192595, details={'was_impossible': False}),\n",
       " Prediction(uid=1937, iid=5268, r_ui=9.0, est=7.88584741782624, details={'was_impossible': False}),\n",
       " Prediction(uid=974, iid=949, r_ui=9.0, est=7.963967303772662, details={'was_impossible': False}),\n",
       " Prediction(uid=257, iid=4971, r_ui=8.0, est=6.927747017833575, details={'was_impossible': False}),\n",
       " Prediction(uid=751, iid=5672, r_ui=7.0, est=9.030293862627154, details={'was_impossible': False}),\n",
       " Prediction(uid=5072, iid=9074, r_ui=7.0, est=6.954557565859745, details={'was_impossible': False}),\n",
       " Prediction(uid=120, iid=11877, r_ui=10.0, est=9.50924852416013, details={'was_impossible': False}),\n",
       " Prediction(uid=2358, iid=9175, r_ui=8.0, est=8.190356201647447, details={'was_impossible': False}),\n",
       " Prediction(uid=2675, iid=9913, r_ui=6.0, est=7.306288449757927, details={'was_impossible': False}),\n",
       " Prediction(uid=1227, iid=7406, r_ui=5.0, est=5.920392980543867, details={'was_impossible': False}),\n",
       " Prediction(uid=1453, iid=8035, r_ui=5.0, est=5.341046153169674, details={'was_impossible': False}),\n",
       " Prediction(uid=5402, iid=6559, r_ui=7.0, est=7.134286665321559, details={'was_impossible': False}),\n",
       " Prediction(uid=5241, iid=1958, r_ui=7.0, est=6.9600420584184715, details={'was_impossible': False}),\n",
       " Prediction(uid=2835, iid=8612, r_ui=8.0, est=8.236681797096715, details={'was_impossible': False}),\n",
       " Prediction(uid=2934, iid=0, r_ui=10.0, est=8.470669052354452, details={'was_impossible': False}),\n",
       " Prediction(uid=2304, iid=7093, r_ui=7.0, est=6.436689002330016, details={'was_impossible': False}),\n",
       " Prediction(uid=1301, iid=9644, r_ui=8.0, est=8.304556204665317, details={'was_impossible': False}),\n",
       " Prediction(uid=694, iid=11877, r_ui=8.0, est=8.396736277826081, details={'was_impossible': False}),\n",
       " Prediction(uid=1393, iid=7993, r_ui=8.0, est=6.3485407574371475, details={'was_impossible': False}),\n",
       " Prediction(uid=3541, iid=6364, r_ui=6.0, est=7.410478982565734, details={'was_impossible': False}),\n",
       " Prediction(uid=4273, iid=7167, r_ui=7.0, est=8.015818864456874, details={'was_impossible': False}),\n",
       " Prediction(uid=3463, iid=13821, r_ui=8.0, est=6.967255167557066, details={'was_impossible': False}),\n",
       " Prediction(uid=5648, iid=11563, r_ui=7.0, est=7.4248642475279825, details={'was_impossible': False}),\n",
       " Prediction(uid=5180, iid=14100, r_ui=9.0, est=7.241405227103934, details={'was_impossible': False}),\n",
       " Prediction(uid=3850, iid=6493, r_ui=7.0, est=5.9292577261720165, details={'was_impossible': False}),\n",
       " Prediction(uid=5496, iid=7141, r_ui=8.0, est=6.819130432493489, details={'was_impossible': False}),\n",
       " Prediction(uid=346, iid=243, r_ui=8.0, est=9.118548585642554, details={'was_impossible': False}),\n",
       " Prediction(uid=4760, iid=10914, r_ui=5.0, est=7.519153748761645, details={'was_impossible': False}),\n",
       " Prediction(uid=5055, iid=9363, r_ui=10.0, est=7.652283528163179, details={'was_impossible': False}),\n",
       " Prediction(uid=5264, iid=438, r_ui=7.0, est=6.925546250728657, details={'was_impossible': False}),\n",
       " Prediction(uid=845, iid=1672, r_ui=10.0, est=9.096430324886347, details={'was_impossible': False}),\n",
       " Prediction(uid=5043, iid=3950, r_ui=8.0, est=6.721301676306103, details={'was_impossible': False}),\n",
       " Prediction(uid=2253, iid=1840, r_ui=5.0, est=7.487271730740834, details={'was_impossible': False}),\n",
       " Prediction(uid=4097, iid=16103, r_ui=9.0, est=8.417861646386855, details={'was_impossible': False}),\n",
       " Prediction(uid=5493, iid=199, r_ui=10.0, est=9.513670525915279, details={'was_impossible': False}),\n",
       " Prediction(uid=313, iid=6896, r_ui=8.0, est=8.471678050707677, details={'was_impossible': False}),\n",
       " Prediction(uid=3578, iid=3462, r_ui=10.0, est=8.797290705136682, details={'was_impossible': False}),\n",
       " Prediction(uid=3481, iid=4310, r_ui=2.0, est=5.5056559163960275, details={'was_impossible': False}),\n",
       " Prediction(uid=4665, iid=14147, r_ui=10.0, est=9.372087047261878, details={'was_impossible': False}),\n",
       " Prediction(uid=2647, iid=7757, r_ui=9.0, est=6.972570011083493, details={'was_impossible': False}),\n",
       " Prediction(uid=3925, iid=11668, r_ui=7.0, est=5.405649948676011, details={'was_impossible': False}),\n",
       " Prediction(uid=1300, iid=3114, r_ui=7.0, est=7.965848946019902, details={'was_impossible': False}),\n",
       " Prediction(uid=4773, iid=5568, r_ui=6.0, est=6.255100339968098, details={'was_impossible': False}),\n",
       " Prediction(uid=4043, iid=4904, r_ui=10.0, est=8.588815759099527, details={'was_impossible': False}),\n",
       " Prediction(uid=5979, iid=1570, r_ui=9.0, est=8.185846380678262, details={'was_impossible': False}),\n",
       " Prediction(uid=4810, iid=9865, r_ui=10.0, est=8.315692330123785, details={'was_impossible': False}),\n",
       " Prediction(uid=1664, iid=4554, r_ui=8.0, est=8.961562393501053, details={'was_impossible': False}),\n",
       " Prediction(uid=5784, iid=10132, r_ui=6.0, est=6.905797446066636, details={'was_impossible': False}),\n",
       " Prediction(uid=2362, iid=6484, r_ui=10.0, est=10, details={'was_impossible': False}),\n",
       " Prediction(uid=866, iid=9644, r_ui=9.0, est=7.156367999237061, details={'was_impossible': False}),\n",
       " Prediction(uid=1899, iid=11147, r_ui=10.0, est=7.399467474940294, details={'was_impossible': False}),\n",
       " Prediction(uid=713, iid=3194, r_ui=10.0, est=8.932065110626992, details={'was_impossible': False}),\n",
       " Prediction(uid=593, iid=6462, r_ui=9.0, est=9.231546349020745, details={'was_impossible': False}),\n",
       " Prediction(uid=5167, iid=15136, r_ui=7.0, est=7.721602928915567, details={'was_impossible': False}),\n",
       " Prediction(uid=2622, iid=6602, r_ui=7.0, est=5.971057126558512, details={'was_impossible': False}),\n",
       " Prediction(uid=5553, iid=10474, r_ui=7.0, est=9.185169422529452, details={'was_impossible': False}),\n",
       " Prediction(uid=2081, iid=16192, r_ui=7.0, est=6.921569091377945, details={'was_impossible': False}),\n",
       " Prediction(uid=257, iid=9352, r_ui=6.0, est=6.163490905484618, details={'was_impossible': False}),\n",
       " Prediction(uid=4433, iid=13178, r_ui=9.0, est=8.544197345912137, details={'was_impossible': False}),\n",
       " Prediction(uid=228, iid=14849, r_ui=8.0, est=8.187137436680377, details={'was_impossible': False}),\n",
       " Prediction(uid=3334, iid=1817, r_ui=9.0, est=9.076500735089597, details={'was_impossible': False}),\n",
       " Prediction(uid=289, iid=6724, r_ui=8.0, est=8.932455958387733, details={'was_impossible': False}),\n",
       " Prediction(uid=4306, iid=7540, r_ui=5.0, est=6.846295307516177, details={'was_impossible': False}),\n",
       " Prediction(uid=604, iid=8612, r_ui=7.0, est=7.2437984532052395, details={'was_impossible': False}),\n",
       " Prediction(uid=5648, iid=1938, r_ui=7.0, est=7.774249757414994, details={'was_impossible': False}),\n",
       " Prediction(uid=5051, iid=1456, r_ui=7.0, est=7.464349921470289, details={'was_impossible': False}),\n",
       " Prediction(uid=923, iid=8596, r_ui=7.0, est=7.751621162640674, details={'was_impossible': False}),\n",
       " Prediction(uid=760, iid=9275, r_ui=6.0, est=6.400199532944219, details={'was_impossible': False}),\n",
       " Prediction(uid=5558, iid=14877, r_ui=9.0, est=8.186052328718914, details={'was_impossible': False}),\n",
       " Prediction(uid=5204, iid=3195, r_ui=9.0, est=7.975584243346665, details={'was_impossible': False}),\n",
       " Prediction(uid=314, iid=7925, r_ui=8.0, est=7.4831343202621445, details={'was_impossible': False}),\n",
       " Prediction(uid=2892, iid=9837, r_ui=7.0, est=6.760221779771392, details={'was_impossible': False}),\n",
       " Prediction(uid=5651, iid=14595, r_ui=9.0, est=8.340965022619923, details={'was_impossible': False}),\n",
       " Prediction(uid=2300, iid=3192, r_ui=8.0, est=7.685492295035483, details={'was_impossible': False}),\n",
       " Prediction(uid=42, iid=6639, r_ui=8.0, est=8.418168439339373, details={'was_impossible': False}),\n",
       " Prediction(uid=1353, iid=9704, r_ui=7.0, est=7.637507938742846, details={'was_impossible': False}),\n",
       " Prediction(uid=4092, iid=2699, r_ui=9.0, est=8.030668416297225, details={'was_impossible': False}),\n",
       " Prediction(uid=359, iid=13142, r_ui=7.0, est=5.996576099307583, details={'was_impossible': False}),\n",
       " Prediction(uid=2251, iid=5115, r_ui=9.0, est=8.889362504952276, details={'was_impossible': False}),\n",
       " Prediction(uid=4506, iid=2291, r_ui=7.0, est=6.5524873058092385, details={'was_impossible': False}),\n",
       " Prediction(uid=5623, iid=9874, r_ui=8.0, est=8.312725856756085, details={'was_impossible': False}),\n",
       " Prediction(uid=2666, iid=11565, r_ui=7.0, est=7.020588013492265, details={'was_impossible': False}),\n",
       " Prediction(uid=936, iid=446, r_ui=5.0, est=7.576098779933454, details={'was_impossible': False}),\n",
       " Prediction(uid=284, iid=11270, r_ui=7.0, est=8.287987751230142, details={'was_impossible': False}),\n",
       " Prediction(uid=5682, iid=15268, r_ui=7.0, est=7.863625382118462, details={'was_impossible': False}),\n",
       " Prediction(uid=4332, iid=1375, r_ui=6.0, est=7.811963223855638, details={'was_impossible': False}),\n",
       " Prediction(uid=5322, iid=15091, r_ui=7.0, est=6.858729051820065, details={'was_impossible': False}),\n",
       " Prediction(uid=4452, iid=8028, r_ui=6.0, est=7.42920922809486, details={'was_impossible': False}),\n",
       " Prediction(uid=1209, iid=6565, r_ui=4.0, est=6.102838007809275, details={'was_impossible': False}),\n",
       " Prediction(uid=2566, iid=12735, r_ui=9.0, est=8.296971969089912, details={'was_impossible': False}),\n",
       " Prediction(uid=4262, iid=1958, r_ui=4.0, est=4.8469753521280925, details={'was_impossible': False}),\n",
       " Prediction(uid=3838, iid=7231, r_ui=6.0, est=6.165824676414058, details={'was_impossible': False}),\n",
       " Prediction(uid=289, iid=3938, r_ui=9.0, est=7.380615782870396, details={'was_impossible': False}),\n",
       " Prediction(uid=2170, iid=87, r_ui=7.0, est=7.871374099180716, details={'was_impossible': False}),\n",
       " Prediction(uid=1382, iid=5438, r_ui=9.0, est=8.511730171927868, details={'was_impossible': False}),\n",
       " Prediction(uid=2158, iid=16325, r_ui=8.0, est=7.258812717196052, details={'was_impossible': False}),\n",
       " Prediction(uid=5324, iid=7721, r_ui=9.0, est=8.184886002573725, details={'was_impossible': False}),\n",
       " Prediction(uid=5242, iid=4482, r_ui=9.0, est=8.570338060010583, details={'was_impossible': False}),\n",
       " Prediction(uid=1173, iid=13761, r_ui=5.0, est=5.001068192602735, details={'was_impossible': False}),\n",
       " Prediction(uid=1731, iid=1943, r_ui=8.0, est=7.964911137746662, details={'was_impossible': False}),\n",
       " Prediction(uid=3433, iid=5212, r_ui=9.0, est=7.66527945750546, details={'was_impossible': False}),\n",
       " Prediction(uid=2993, iid=6412, r_ui=4.0, est=4.586705626189543, details={'was_impossible': False}),\n",
       " Prediction(uid=4405, iid=6050, r_ui=9.0, est=9.396924261883127, details={'was_impossible': False}),\n",
       " Prediction(uid=4648, iid=6712, r_ui=7.0, est=7.821924459340114, details={'was_impossible': False}),\n",
       " Prediction(uid=4642, iid=201, r_ui=5.0, est=7.09016078590279, details={'was_impossible': False}),\n",
       " Prediction(uid=5393, iid=6930, r_ui=6.0, est=5.5988872949533945, details={'was_impossible': False}),\n",
       " Prediction(uid=2030, iid=8739, r_ui=3.0, est=5.136657563203663, details={'was_impossible': False}),\n",
       " Prediction(uid=5167, iid=4733, r_ui=7.0, est=7.7127857675467055, details={'was_impossible': False}),\n",
       " Prediction(uid=2136, iid=6744, r_ui=10.0, est=8.885165798040475, details={'was_impossible': False}),\n",
       " Prediction(uid=4602, iid=14133, r_ui=8.0, est=7.48660470338311, details={'was_impossible': False}),\n",
       " Prediction(uid=2162, iid=1086, r_ui=7.0, est=7.715727740025837, details={'was_impossible': False}),\n",
       " Prediction(uid=547, iid=11735, r_ui=10.0, est=9.147575562338753, details={'was_impossible': False}),\n",
       " Prediction(uid=5698, iid=1014, r_ui=7.0, est=6.610872649703388, details={'was_impossible': False}),\n",
       " Prediction(uid=2849, iid=100, r_ui=6.0, est=7.869286630510596, details={'was_impossible': False}),\n",
       " Prediction(uid=779, iid=7536, r_ui=6.0, est=6.1737717576842535, details={'was_impossible': False}),\n",
       " Prediction(uid=4424, iid=1531, r_ui=8.0, est=8.417394825411092, details={'was_impossible': False}),\n",
       " Prediction(uid=2896, iid=13018, r_ui=9.0, est=7.547689358509523, details={'was_impossible': False}),\n",
       " Prediction(uid=243, iid=1979, r_ui=9.0, est=8.408301525357, details={'was_impossible': False}),\n",
       " Prediction(uid=2847, iid=4266, r_ui=5.0, est=7.231145816935846, details={'was_impossible': False}),\n",
       " Prediction(uid=3087, iid=19, r_ui=10.0, est=9.033059416208419, details={'was_impossible': False}),\n",
       " Prediction(uid=1946, iid=5374, r_ui=8.0, est=7.2483358929395285, details={'was_impossible': False}),\n",
       " Prediction(uid=1275, iid=9003, r_ui=9.0, est=7.342413536500944, details={'was_impossible': False}),\n",
       " Prediction(uid=4698, iid=9889, r_ui=6.0, est=5.907790658793481, details={'was_impossible': False}),\n",
       " Prediction(uid=2021, iid=8595, r_ui=8.0, est=7.656322484909559, details={'was_impossible': False}),\n",
       " Prediction(uid=346, iid=7628, r_ui=6.0, est=7.466115530401284, details={'was_impossible': False}),\n",
       " Prediction(uid=5347, iid=6675, r_ui=4.0, est=5.839128888511349, details={'was_impossible': False}),\n",
       " Prediction(uid=1760, iid=7128, r_ui=10.0, est=9.123852688152471, details={'was_impossible': False}),\n",
       " Prediction(uid=1234, iid=175, r_ui=9.0, est=8.96683867543018, details={'was_impossible': False}),\n",
       " Prediction(uid=2690, iid=11768, r_ui=8.0, est=7.992379710851133, details={'was_impossible': False}),\n",
       " Prediction(uid=5648, iid=4882, r_ui=7.0, est=7.24774990700934, details={'was_impossible': False}),\n",
       " Prediction(uid=1469, iid=5398, r_ui=6.0, est=7.013410425005265, details={'was_impossible': False}),\n",
       " Prediction(uid=517, iid=4807, r_ui=8.0, est=8.043759492007016, details={'was_impossible': False}),\n",
       " Prediction(uid=87, iid=5398, r_ui=8.0, est=8.2558365524897, details={'was_impossible': False}),\n",
       " Prediction(uid=2993, iid=237, r_ui=8.0, est=7.8515620252430995, details={'was_impossible': False}),\n",
       " Prediction(uid=4485, iid=3862, r_ui=7.0, est=6.380986871984943, details={'was_impossible': False}),\n",
       " Prediction(uid=4319, iid=14363, r_ui=8.0, est=7.725014685595989, details={'was_impossible': False}),\n",
       " Prediction(uid=3099, iid=477, r_ui=8.0, est=7.299818504807525, details={'was_impossible': False}),\n",
       " Prediction(uid=1107, iid=4011, r_ui=10.0, est=9.899249629697902, details={'was_impossible': False}),\n",
       " Prediction(uid=4015, iid=6629, r_ui=8.0, est=7.8842341227390405, details={'was_impossible': False}),\n",
       " Prediction(uid=3378, iid=12392, r_ui=7.0, est=5.122057712762777, details={'was_impossible': False}),\n",
       " Prediction(uid=5648, iid=7980, r_ui=7.0, est=7.161048611817121, details={'was_impossible': False}),\n",
       " Prediction(uid=1733, iid=4977, r_ui=5.0, est=4.740028912283181, details={'was_impossible': False}),\n",
       " Prediction(uid=4270, iid=8890, r_ui=8.0, est=7.753076133538284, details={'was_impossible': False}),\n",
       " Prediction(uid=2656, iid=11350, r_ui=6.0, est=6.1010901137904705, details={'was_impossible': False}),\n",
       " Prediction(uid=1187, iid=16032, r_ui=8.0, est=8.03590803547968, details={'was_impossible': False}),\n",
       " Prediction(uid=1090, iid=3240, r_ui=8.0, est=9.035298561745414, details={'was_impossible': False}),\n",
       " Prediction(uid=5111, iid=11768, r_ui=5.0, est=6.763677802848086, details={'was_impossible': False}),\n",
       " Prediction(uid=1934, iid=11147, r_ui=8.0, est=7.7377892526017344, details={'was_impossible': False}),\n",
       " Prediction(uid=3515, iid=9704, r_ui=8.0, est=7.393903600566566, details={'was_impossible': False}),\n",
       " Prediction(uid=1946, iid=282, r_ui=6.0, est=7.587927262652306, details={'was_impossible': False}),\n",
       " Prediction(uid=834, iid=13078, r_ui=9.0, est=8.369457286544955, details={'was_impossible': False}),\n",
       " Prediction(uid=2464, iid=4497, r_ui=6.0, est=6.630400924836572, details={'was_impossible': False}),\n",
       " Prediction(uid=5118, iid=7927, r_ui=8.0, est=8.629492531352511, details={'was_impossible': False}),\n",
       " Prediction(uid=5648, iid=11358, r_ui=6.0, est=6.989754147532446, details={'was_impossible': False}),\n",
       " Prediction(uid=3558, iid=8907, r_ui=7.0, est=7.58947596029591, details={'was_impossible': False}),\n",
       " Prediction(uid=313, iid=7831, r_ui=8.0, est=7.8389746847505855, details={'was_impossible': False}),\n",
       " Prediction(uid=2774, iid=1562, r_ui=7.0, est=6.965925744240573, details={'was_impossible': False}),\n",
       " Prediction(uid=442, iid=8476, r_ui=8.0, est=7.600240343633978, details={'was_impossible': False}),\n",
       " Prediction(uid=3663, iid=6861, r_ui=9.0, est=8.537371428425237, details={'was_impossible': False}),\n",
       " Prediction(uid=571, iid=1531, r_ui=8.0, est=8.802453926184866, details={'was_impossible': False}),\n",
       " Prediction(uid=3355, iid=558, r_ui=9.0, est=8.16939439294104, details={'was_impossible': False}),\n",
       " Prediction(uid=5347, iid=14798, r_ui=7.0, est=7.180875591684006, details={'was_impossible': False}),\n",
       " Prediction(uid=4141, iid=11414, r_ui=7.0, est=7.009620394460034, details={'was_impossible': False}),\n",
       " Prediction(uid=3580, iid=201, r_ui=9.0, est=7.381537392397424, details={'was_impossible': False}),\n",
       " Prediction(uid=3547, iid=7437, r_ui=8.0, est=7.9546751071727195, details={'was_impossible': False}),\n",
       " Prediction(uid=5335, iid=11705, r_ui=10.0, est=9.301031176974096, details={'was_impossible': False}),\n",
       " Prediction(uid=5971, iid=9712, r_ui=8.0, est=7.825123652416532, details={'was_impossible': False}),\n",
       " Prediction(uid=4107, iid=6005, r_ui=8.0, est=8.58189079900431, details={'was_impossible': False}),\n",
       " Prediction(uid=4751, iid=6593, r_ui=9.0, est=9.610109405920813, details={'was_impossible': False}),\n",
       " Prediction(uid=2303, iid=13800, r_ui=7.0, est=5.613361787138571, details={'was_impossible': False}),\n",
       " Prediction(uid=752, iid=15996, r_ui=6.0, est=7.859130379968435, details={'was_impossible': False}),\n",
       " Prediction(uid=5488, iid=3272, r_ui=9.0, est=7.7394932968017605, details={'was_impossible': False}),\n",
       " Prediction(uid=3326, iid=9117, r_ui=10.0, est=8.291961285722122, details={'was_impossible': False}),\n",
       " Prediction(uid=4317, iid=482, r_ui=9.0, est=8.886232897233526, details={'was_impossible': False}),\n",
       " Prediction(uid=3275, iid=15830, r_ui=8.0, est=8.548665979167005, details={'was_impossible': False}),\n",
       " Prediction(uid=3363, iid=8612, r_ui=9.0, est=8.550718410043821, details={'was_impossible': False}),\n",
       " Prediction(uid=4838, iid=8318, r_ui=8.0, est=7.705615495213136, details={'was_impossible': False}),\n",
       " Prediction(uid=3004, iid=1149, r_ui=8.0, est=7.350947149905237, details={'was_impossible': False}),\n",
       " Prediction(uid=5059, iid=11564, r_ui=9.0, est=8.272922106363911, details={'was_impossible': False}),\n",
       " Prediction(uid=656, iid=6563, r_ui=7.0, est=6.285525454849693, details={'was_impossible': False}),\n",
       " Prediction(uid=54, iid=4274, r_ui=8.0, est=8.247232748492682, details={'was_impossible': False}),\n",
       " Prediction(uid=5887, iid=10420, r_ui=10.0, est=9.170645459996754, details={'was_impossible': False}),\n",
       " Prediction(uid=5885, iid=14148, r_ui=7.0, est=6.115012901038194, details={'was_impossible': False}),\n",
       " Prediction(uid=2037, iid=9953, r_ui=10.0, est=8.751933492130348, details={'was_impossible': False}),\n",
       " Prediction(uid=2274, iid=4387, r_ui=6.0, est=6.601044107243469, details={'was_impossible': False}),\n",
       " Prediction(uid=1637, iid=2650, r_ui=8.0, est=8.867809329298371, details={'was_impossible': False}),\n",
       " Prediction(uid=2177, iid=2, r_ui=9.0, est=8.443442017341185, details={'was_impossible': False}),\n",
       " Prediction(uid=4299, iid=6629, r_ui=6.0, est=7.67115041622758, details={'was_impossible': False}),\n",
       " Prediction(uid=4663, iid=1004, r_ui=7.0, est=6.187254665346633, details={'was_impossible': False}),\n",
       " Prediction(uid=4134, iid=14057, r_ui=7.0, est=6.689428304789433, details={'was_impossible': False}),\n",
       " Prediction(uid=581, iid=10540, r_ui=9.0, est=8.956144142180934, details={'was_impossible': False}),\n",
       " Prediction(uid=4036, iid=19, r_ui=7.0, est=8.101695169095583, details={'was_impossible': False}),\n",
       " Prediction(uid=174, iid=7289, r_ui=6.0, est=5.283764612748947, details={'was_impossible': False}),\n",
       " Prediction(uid=3308, iid=3633, r_ui=8.0, est=7.509197733604415, details={'was_impossible': False}),\n",
       " Prediction(uid=3422, iid=6048, r_ui=8.0, est=8.54966513676483, details={'was_impossible': False}),\n",
       " Prediction(uid=4026, iid=8852, r_ui=6.0, est=7.8077804452425275, details={'was_impossible': False}),\n",
       " Prediction(uid=3463, iid=15517, r_ui=8.0, est=7.152789235660594, details={'was_impossible': False}),\n",
       " Prediction(uid=464, iid=6083, r_ui=10.0, est=9.36581673669529, details={'was_impossible': False}),\n",
       " Prediction(uid=2292, iid=5691, r_ui=10.0, est=7.741555839594888, details={'was_impossible': False}),\n",
       " Prediction(uid=5062, iid=3042, r_ui=5.0, est=6.745705891019138, details={'was_impossible': False}),\n",
       " Prediction(uid=5045, iid=1310, r_ui=7.0, est=6.61646802275765, details={'was_impossible': False}),\n",
       " Prediction(uid=3681, iid=6403, r_ui=6.0, est=7.642523159665448, details={'was_impossible': False}),\n",
       " Prediction(uid=5658, iid=11563, r_ui=7.0, est=6.77367210497465, details={'was_impossible': False}),\n",
       " Prediction(uid=350, iid=5352, r_ui=7.0, est=7.01037401626794, details={'was_impossible': False}),\n",
       " Prediction(uid=1488, iid=12431, r_ui=8.0, est=7.97753920519345, details={'was_impossible': False}),\n",
       " Prediction(uid=2735, iid=13142, r_ui=7.0, est=5.252282528374312, details={'was_impossible': False}),\n",
       " Prediction(uid=834, iid=12572, r_ui=9.0, est=8.771644649178512, details={'was_impossible': False}),\n",
       " Prediction(uid=3433, iid=14985, r_ui=8.0, est=7.140341202674195, details={'was_impossible': False}),\n",
       " Prediction(uid=3009, iid=5878, r_ui=9.0, est=7.893478431681925, details={'was_impossible': False}),\n",
       " Prediction(uid=730, iid=6765, r_ui=7.0, est=6.634585046797203, details={'was_impossible': False}),\n",
       " Prediction(uid=4490, iid=5465, r_ui=10.0, est=9.04849233129689, details={'was_impossible': False}),\n",
       " Prediction(uid=2095, iid=7810, r_ui=8.0, est=8.296323675143675, details={'was_impossible': False}),\n",
       " Prediction(uid=2502, iid=7967, r_ui=6.0, est=8.862896682101637, details={'was_impossible': False}),\n",
       " Prediction(uid=80, iid=7018, r_ui=7.0, est=7.480883018290982, details={'was_impossible': False}),\n",
       " Prediction(uid=3454, iid=6612, r_ui=7.0, est=6.36012774254338, details={'was_impossible': False}),\n",
       " Prediction(uid=1900, iid=5932, r_ui=10.0, est=9.11049651194763, details={'was_impossible': False}),\n",
       " Prediction(uid=2787, iid=14666, r_ui=10.0, est=8.596213862495905, details={'was_impossible': False}),\n",
       " Prediction(uid=3015, iid=9704, r_ui=7.0, est=8.148192900478229, details={'was_impossible': False}),\n",
       " Prediction(uid=4559, iid=4267, r_ui=7.0, est=7.515453344731423, details={'was_impossible': False}),\n",
       " Prediction(uid=704, iid=1817, r_ui=9.0, est=8.416888190218865, details={'was_impossible': False}),\n",
       " Prediction(uid=2010, iid=13545, r_ui=6.0, est=8.925980245016463, details={'was_impossible': False}),\n",
       " Prediction(uid=5070, iid=8888, r_ui=7.0, est=6.886086985257189, details={'was_impossible': False}),\n",
       " Prediction(uid=2299, iid=8050, r_ui=4.0, est=7.333301173646034, details={'was_impossible': False}),\n",
       " Prediction(uid=5146, iid=732, r_ui=7.0, est=7.441149420112298, details={'was_impossible': False}),\n",
       " Prediction(uid=4787, iid=6536, r_ui=6.0, est=6.63314099835745, details={'was_impossible': False}),\n",
       " Prediction(uid=1220, iid=1411, r_ui=8.0, est=8.32147132759108, details={'was_impossible': False}),\n",
       " Prediction(uid=1938, iid=8380, r_ui=1.0, est=4.893267727146907, details={'was_impossible': False}),\n",
       " Prediction(uid=3979, iid=5465, r_ui=7.0, est=7.68580971268521, details={'was_impossible': False}),\n",
       " Prediction(uid=3812, iid=6426, r_ui=10.0, est=9.022102849430517, details={'was_impossible': False}),\n",
       " Prediction(uid=4737, iid=7925, r_ui=7.0, est=5.871215035341943, details={'was_impossible': False}),\n",
       " Prediction(uid=1652, iid=166, r_ui=8.0, est=7.53812742837874, details={'was_impossible': False}),\n",
       " Prediction(uid=2469, iid=14491, r_ui=8.0, est=8.237888356683081, details={'was_impossible': False}),\n",
       " Prediction(uid=1915, iid=513, r_ui=8.0, est=7.324704183561658, details={'was_impossible': False}),\n",
       " Prediction(uid=2050, iid=6362, r_ui=8.0, est=7.703204370852664, details={'was_impossible': False}),\n",
       " Prediction(uid=2213, iid=62, r_ui=8.0, est=8.641736240900448, details={'was_impossible': False}),\n",
       " Prediction(uid=2845, iid=4422, r_ui=9.0, est=7.4955468961431455, details={'was_impossible': False}),\n",
       " Prediction(uid=1688, iid=1427, r_ui=10.0, est=9.174096389485666, details={'was_impossible': False}),\n",
       " Prediction(uid=2832, iid=199, r_ui=7.0, est=8.47778747301671, details={'was_impossible': False}),\n",
       " Prediction(uid=2292, iid=3386, r_ui=9.0, est=7.5345893380479225, details={'was_impossible': False}),\n",
       " Prediction(uid=5079, iid=3271, r_ui=8.0, est=8.18998022409899, details={'was_impossible': False}),\n",
       " Prediction(uid=1971, iid=303, r_ui=8.0, est=9.23747452027365, details={'was_impossible': False}),\n",
       " Prediction(uid=2155, iid=6283, r_ui=8.0, est=7.58545137452827, details={'was_impossible': False}),\n",
       " Prediction(uid=5993, iid=12924, r_ui=6.0, est=7.163024231016939, details={'was_impossible': False}),\n",
       " Prediction(uid=5097, iid=5067, r_ui=6.0, est=6.348245599736772, details={'was_impossible': False}),\n",
       " Prediction(uid=4082, iid=4164, r_ui=8.0, est=7.343562698757684, details={'was_impossible': False}),\n",
       " Prediction(uid=2292, iid=11316, r_ui=8.0, est=8.382704210987097, details={'was_impossible': False}),\n",
       " Prediction(uid=522, iid=39, r_ui=9.0, est=7.920638394999493, details={'was_impossible': False}),\n",
       " Prediction(uid=2987, iid=11735, r_ui=8.0, est=8.010011224564948, details={'was_impossible': False}),\n",
       " Prediction(uid=1105, iid=12966, r_ui=7.0, est=6.634255904075272, details={'was_impossible': False}),\n",
       " Prediction(uid=3049, iid=8050, r_ui=7.0, est=8.59865193848753, details={'was_impossible': False}),\n",
       " Prediction(uid=5059, iid=492, r_ui=8.0, est=8.264011376801738, details={'was_impossible': False}),\n",
       " Prediction(uid=4365, iid=11591, r_ui=8.0, est=8.275749427202939, details={'was_impossible': False}),\n",
       " Prediction(uid=278, iid=4628, r_ui=7.0, est=8.066644802113066, details={'was_impossible': False}),\n",
       " Prediction(uid=3464, iid=14007, r_ui=5.0, est=6.020001609346997, details={'was_impossible': False}),\n",
       " Prediction(uid=890, iid=6218, r_ui=4.0, est=4.966762429128761, details={'was_impossible': False}),\n",
       " Prediction(uid=1822, iid=10540, r_ui=10.0, est=10, details={'was_impossible': False}),\n",
       " Prediction(uid=906, iid=1646, r_ui=9.0, est=8.308773541152046, details={'was_impossible': False}),\n",
       " Prediction(uid=2609, iid=3558, r_ui=9.0, est=8.957423468516799, details={'was_impossible': False}),\n",
       " Prediction(uid=1901, iid=8292, r_ui=9.0, est=8.180932676513361, details={'was_impossible': False}),\n",
       " Prediction(uid=5534, iid=12737, r_ui=8.0, est=7.582816569502808, details={'was_impossible': False}),\n",
       " Prediction(uid=3321, iid=10927, r_ui=7.0, est=6.3209517824594075, details={'was_impossible': False}),\n",
       " Prediction(uid=4242, iid=3022, r_ui=7.0, est=5.262574947415201, details={'was_impossible': False}),\n",
       " Prediction(uid=2191, iid=10245, r_ui=1.0, est=3.8952738067308137, details={'was_impossible': False}),\n",
       " Prediction(uid=3242, iid=7007, r_ui=10.0, est=8.407153779946038, details={'was_impossible': False}),\n",
       " Prediction(uid=3945, iid=7926, r_ui=2.0, est=3.455039308815838, details={'was_impossible': False}),\n",
       " Prediction(uid=1568, iid=3558, r_ui=9.0, est=8.377957341687384, details={'was_impossible': False}),\n",
       " Prediction(uid=2664, iid=1380, r_ui=7.0, est=6.581758823499463, details={'was_impossible': False}),\n",
       " Prediction(uid=2982, iid=6721, r_ui=7.0, est=7.841649456157813, details={'was_impossible': False}),\n",
       " Prediction(uid=3954, iid=5881, r_ui=4.0, est=6.664044557869585, details={'was_impossible': False}),\n",
       " Prediction(uid=1258, iid=8538, r_ui=5.0, est=6.612149407842691, details={'was_impossible': False}),\n",
       " Prediction(uid=5179, iid=2373, r_ui=7.0, est=7.974337353005882, details={'was_impossible': False}),\n",
       " Prediction(uid=61, iid=2765, r_ui=10.0, est=9.467845373472095, details={'was_impossible': False}),\n",
       " Prediction(uid=5430, iid=13176, r_ui=9.0, est=8.624039698948588, details={'was_impossible': False}),\n",
       " Prediction(uid=2852, iid=6225, r_ui=8.0, est=7.095560129501596, details={'was_impossible': False}),\n",
       " Prediction(uid=1889, iid=13176, r_ui=8.0, est=7.840493381443591, details={'was_impossible': False}),\n",
       " Prediction(uid=440, iid=3077, r_ui=7.0, est=6.918013746552443, details={'was_impossible': False}),\n",
       " Prediction(uid=3316, iid=5858, r_ui=7.0, est=8.33983687087013, details={'was_impossible': False}),\n",
       " Prediction(uid=3701, iid=13409, r_ui=8.0, est=6.0939588067117, details={'was_impossible': False}),\n",
       " Prediction(uid=5648, iid=786, r_ui=8.0, est=7.363356606707555, details={'was_impossible': False}),\n",
       " Prediction(uid=44, iid=9370, r_ui=9.0, est=7.3829677426104166, details={'was_impossible': False}),\n",
       " Prediction(uid=2402, iid=7967, r_ui=4.0, est=6.597823848934348, details={'was_impossible': False}),\n",
       " Prediction(uid=2055, iid=7509, r_ui=8.0, est=8.048512467799119, details={'was_impossible': False}),\n",
       " Prediction(uid=4642, iid=10610, r_ui=9.0, est=7.173653229736257, details={'was_impossible': False}),\n",
       " Prediction(uid=937, iid=16035, r_ui=5.0, est=5.447952578485106, details={'was_impossible': False}),\n",
       " Prediction(uid=1651, iid=358, r_ui=7.0, est=7.007247177012515, details={'was_impossible': False}),\n",
       " Prediction(uid=2162, iid=870, r_ui=8.0, est=7.9814191820714, details={'was_impossible': False}),\n",
       " Prediction(uid=1437, iid=13545, r_ui=10.0, est=9.37675976369756, details={'was_impossible': False}),\n",
       " Prediction(uid=976, iid=25, r_ui=9.0, est=8.656661114208408, details={'was_impossible': False}),\n",
       " Prediction(uid=2818, iid=7008, r_ui=8.0, est=8.077657938524244, details={'was_impossible': False}),\n",
       " Prediction(uid=3151, iid=9667, r_ui=7.0, est=7.686337206358607, details={'was_impossible': False}),\n",
       " Prediction(uid=74, iid=6888, r_ui=10.0, est=8.126994467105657, details={'was_impossible': False}),\n",
       " Prediction(uid=5288, iid=716, r_ui=9.0, est=8.9086434135098, details={'was_impossible': False}),\n",
       " Prediction(uid=4144, iid=10658, r_ui=6.0, est=6.982556616593906, details={'was_impossible': False}),\n",
       " Prediction(uid=593, iid=11781, r_ui=8.0, est=8.149846721827384, details={'was_impossible': False}),\n",
       " Prediction(uid=4846, iid=6362, r_ui=7.0, est=7.62925835643745, details={'was_impossible': False}),\n",
       " Prediction(uid=4951, iid=9121, r_ui=5.0, est=6.584018824080884, details={'was_impossible': False}),\n",
       " Prediction(uid=4956, iid=11425, r_ui=8.0, est=8.28530909508849, details={'was_impossible': False}),\n",
       " Prediction(uid=2095, iid=5672, r_ui=10.0, est=9.648510543847177, details={'was_impossible': False}),\n",
       " Prediction(uid=3140, iid=175, r_ui=9.0, est=8.607647165591173, details={'was_impossible': False}),\n",
       " Prediction(uid=4006, iid=202, r_ui=10.0, est=8.999815076558505, details={'was_impossible': False}),\n",
       " Prediction(uid=5850, iid=4831, r_ui=7.0, est=7.642780555868308, details={'was_impossible': False}),\n",
       " Prediction(uid=3189, iid=5845, r_ui=9.0, est=9.195635923251695, details={'was_impossible': False}),\n",
       " Prediction(uid=340, iid=8585, r_ui=8.0, est=7.935687014214158, details={'was_impossible': False}),\n",
       " Prediction(uid=3809, iid=10762, r_ui=9.0, est=8.810245960692393, details={'was_impossible': False}),\n",
       " Prediction(uid=3608, iid=1144, r_ui=5.0, est=6.7953743242643645, details={'was_impossible': False}),\n",
       " Prediction(uid=4253, iid=1356, r_ui=9.0, est=7.923297226142456, details={'was_impossible': False}),\n",
       " Prediction(uid=3234, iid=7463, r_ui=7.0, est=8.113641586052033, details={'was_impossible': False}),\n",
       " Prediction(uid=1213, iid=1585, r_ui=6.0, est=6.745390555382217, details={'was_impossible': False}),\n",
       " Prediction(uid=1695, iid=11043, r_ui=7.0, est=7.043667698446509, details={'was_impossible': False}),\n",
       " Prediction(uid=2881, iid=7463, r_ui=7.0, est=4.99967848392286, details={'was_impossible': False}),\n",
       " Prediction(uid=4297, iid=4877, r_ui=6.0, est=6.399374116492407, details={'was_impossible': False}),\n",
       " Prediction(uid=1757, iid=449, r_ui=5.0, est=6.446671882917313, details={'was_impossible': False}),\n",
       " Prediction(uid=1044, iid=1389, r_ui=9.0, est=9.551381935953145, details={'was_impossible': False}),\n",
       " Prediction(uid=5028, iid=98, r_ui=8.0, est=7.48050824662775, details={'was_impossible': False}),\n",
       " Prediction(uid=5677, iid=13933, r_ui=10.0, est=8.107668906718084, details={'was_impossible': False}),\n",
       " Prediction(uid=5234, iid=8328, r_ui=8.0, est=8.488454884313892, details={'was_impossible': False}),\n",
       " Prediction(uid=3875, iid=7077, r_ui=8.0, est=8.622526369890702, details={'was_impossible': False}),\n",
       " Prediction(uid=3185, iid=7967, r_ui=7.0, est=7.731436957163035, details={'was_impossible': False}),\n",
       " Prediction(uid=3401, iid=9166, r_ui=8.0, est=7.552518624945016, details={'was_impossible': False}),\n",
       " Prediction(uid=608, iid=695, r_ui=6.0, est=6.967103251776512, details={'was_impossible': False}),\n",
       " Prediction(uid=3218, iid=7156, r_ui=8.0, est=8.412261374845517, details={'was_impossible': False}),\n",
       " Prediction(uid=2664, iid=1338, r_ui=5.0, est=5.989961952220334, details={'was_impossible': False}),\n",
       " Prediction(uid=1616, iid=79, r_ui=8.0, est=7.925194173682951, details={'was_impossible': False}),\n",
       " Prediction(uid=291, iid=7721, r_ui=9.0, est=6.212865171062796, details={'was_impossible': False}),\n",
       " Prediction(uid=3081, iid=15730, r_ui=8.0, est=8.0993671853092, details={'was_impossible': False}),\n",
       " Prediction(uid=592, iid=12659, r_ui=7.0, est=7.3098405720831625, details={'was_impossible': False}),\n",
       " Prediction(uid=569, iid=1427, r_ui=9.0, est=8.847689716565323, details={'was_impossible': False}),\n",
       " Prediction(uid=2128, iid=4699, r_ui=9.0, est=8.781846561375657, details={'was_impossible': False}),\n",
       " Prediction(uid=2464, iid=1164, r_ui=5.0, est=5.843261394661436, details={'was_impossible': False}),\n",
       " Prediction(uid=290, iid=6081, r_ui=8.0, est=8.914239980784094, details={'was_impossible': False}),\n",
       " Prediction(uid=3647, iid=243, r_ui=10.0, est=9.00738857286621, details={'was_impossible': False}),\n",
       " Prediction(uid=1334, iid=1062, r_ui=7.0, est=6.580047987313055, details={'was_impossible': False}),\n",
       " Prediction(uid=5226, iid=11299, r_ui=6.0, est=6.429157215210845, details={'was_impossible': False}),\n",
       " Prediction(uid=2119, iid=504, r_ui=9.0, est=7.5321841221413495, details={'was_impossible': False}),\n",
       " Prediction(uid=1946, iid=9280, r_ui=8.0, est=7.108614191858667, details={'was_impossible': False}),\n",
       " Prediction(uid=3333, iid=7731, r_ui=6.0, est=7.45816420692788, details={'was_impossible': False}),\n",
       " Prediction(uid=1966, iid=6888, r_ui=8.0, est=8.546935835844598, details={'was_impossible': False}),\n",
       " Prediction(uid=5775, iid=10606, r_ui=7.0, est=8.151988583138285, details={'was_impossible': False}),\n",
       " Prediction(uid=5578, iid=1979, r_ui=7.0, est=7.3105737189994455, details={'was_impossible': False}),\n",
       " Prediction(uid=3354, iid=5051, r_ui=10.0, est=8.029355016306408, details={'was_impossible': False}),\n",
       " Prediction(uid=3470, iid=15838, r_ui=7.0, est=6.286194161872062, details={'was_impossible': False}),\n",
       " Prediction(uid=531, iid=5069, r_ui=9.0, est=8.518499973036654, details={'was_impossible': False}),\n",
       " Prediction(uid=3919, iid=76, r_ui=8.0, est=7.809133500580839, details={'was_impossible': False}),\n",
       " Prediction(uid=381, iid=6021, r_ui=8.0, est=7.038234694387324, details={'was_impossible': False}),\n",
       " Prediction(uid=314, iid=4392, r_ui=9.0, est=7.7299443571300905, details={'was_impossible': False}),\n",
       " Prediction(uid=4729, iid=2619, r_ui=8.0, est=6.761738275042744, details={'was_impossible': False}),\n",
       " Prediction(uid=4309, iid=9906, r_ui=7.0, est=6.844183127112967, details={'was_impossible': False}),\n",
       " Prediction(uid=5659, iid=13601, r_ui=7.0, est=7.493348276715288, details={'was_impossible': False}),\n",
       " Prediction(uid=4429, iid=280, r_ui=7.0, est=6.983767808172756, details={'was_impossible': False}),\n",
       " Prediction(uid=5250, iid=11146, r_ui=8.0, est=8.751008152625081, details={'was_impossible': False}),\n",
       " Prediction(uid=1762, iid=6333, r_ui=5.0, est=8.669146333945369, details={'was_impossible': False}),\n",
       " Prediction(uid=644, iid=436, r_ui=9.0, est=8.282977848021252, details={'was_impossible': False}),\n",
       " Prediction(uid=3335, iid=168, r_ui=7.0, est=7.602706340139689, details={'was_impossible': False}),\n",
       " Prediction(uid=4751, iid=186, r_ui=8.0, est=9.851763991386347, details={'was_impossible': False}),\n",
       " Prediction(uid=510, iid=6050, r_ui=9.0, est=8.103822614019709, details={'was_impossible': False}),\n",
       " Prediction(uid=3357, iid=669, r_ui=8.0, est=8.165797529879312, details={'was_impossible': False}),\n",
       " Prediction(uid=781, iid=11266, r_ui=6.0, est=5.165322284106224, details={'was_impossible': False}),\n",
       " Prediction(uid=246, iid=11045, r_ui=6.0, est=6.264353615028384, details={'was_impossible': False}),\n",
       " Prediction(uid=3303, iid=7931, r_ui=7.0, est=7.0936150846414545, details={'was_impossible': False}),\n",
       " Prediction(uid=2713, iid=10, r_ui=6.0, est=9.336449466135281, details={'was_impossible': False}),\n",
       " Prediction(uid=3224, iid=8874, r_ui=9.0, est=8.053612951806373, details={'was_impossible': False}),\n",
       " Prediction(uid=1858, iid=4879, r_ui=6.0, est=5.358473555292281, details={'was_impossible': False}),\n",
       " Prediction(uid=4036, iid=3720, r_ui=6.0, est=5.916668442719234, details={'was_impossible': False}),\n",
       " Prediction(uid=547, iid=15164, r_ui=9.0, est=8.530991144117865, details={'was_impossible': False}),\n",
       " Prediction(uid=2932, iid=11300, r_ui=10.0, est=7.786221776170423, details={'was_impossible': False}),\n",
       " Prediction(uid=4773, iid=4672, r_ui=5.0, est=6.838724307922198, details={'was_impossible': False}),\n",
       " Prediction(uid=1433, iid=7124, r_ui=9.0, est=9.081661078190592, details={'was_impossible': False}),\n",
       " Prediction(uid=1046, iid=813, r_ui=7.0, est=6.543917883242211, details={'was_impossible': False}),\n",
       " Prediction(uid=4341, iid=10577, r_ui=8.0, est=8.210309842118892, details={'was_impossible': False}),\n",
       " Prediction(uid=4229, iid=199, r_ui=8.0, est=6.307420212169275, details={'was_impossible': False}),\n",
       " Prediction(uid=2533, iid=5652, r_ui=7.0, est=7.528107804944421, details={'was_impossible': False}),\n",
       " Prediction(uid=2830, iid=7509, r_ui=10.0, est=9.238938062299072, details={'was_impossible': False}),\n",
       " Prediction(uid=1568, iid=9913, r_ui=7.0, est=7.443303986718603, details={'was_impossible': False}),\n",
       " Prediction(uid=5167, iid=50, r_ui=9.0, est=7.564222625871268, details={'was_impossible': False}),\n",
       " Prediction(uid=5227, iid=6100, r_ui=7.0, est=7.516236973376891, details={'was_impossible': False}),\n",
       " Prediction(uid=5226, iid=10577, r_ui=10.0, est=8.18851291952772, details={'was_impossible': False}),\n",
       " Prediction(uid=2494, iid=19, r_ui=10.0, est=8.73068914883011, details={'was_impossible': False}),\n",
       " Prediction(uid=648, iid=11001, r_ui=6.0, est=7.519395781889857, details={'was_impossible': False}),\n",
       " Prediction(uid=1218, iid=401, r_ui=8.0, est=7.741604622980737, details={'was_impossible': False}),\n",
       " Prediction(uid=3567, iid=4628, r_ui=7.0, est=8.168169914520556, details={'was_impossible': False}),\n",
       " Prediction(uid=4469, iid=4685, r_ui=10.0, est=7.690096338213291, details={'was_impossible': False}),\n",
       " Prediction(uid=5767, iid=860, r_ui=8.0, est=7.239881676769323, details={'was_impossible': False}),\n",
       " Prediction(uid=4042, iid=7670, r_ui=8.0, est=6.808346626460312, details={'was_impossible': False}),\n",
       " Prediction(uid=457, iid=692, r_ui=9.0, est=8.883326536602976, details={'was_impossible': False}),\n",
       " Prediction(uid=5239, iid=1821, r_ui=7.0, est=7.41515379401931, details={'was_impossible': False}),\n",
       " Prediction(uid=5470, iid=8755, r_ui=8.0, est=8.115060843380016, details={'was_impossible': False}),\n",
       " Prediction(uid=2997, iid=6440, r_ui=4.0, est=7.329942323625144, details={'was_impossible': False}),\n",
       " Prediction(uid=4534, iid=8279, r_ui=7.0, est=8.549927507809349, details={'was_impossible': False}),\n",
       " Prediction(uid=5818, iid=14543, r_ui=10.0, est=9.191890010078858, details={'was_impossible': False}),\n",
       " Prediction(uid=2852, iid=13078, r_ui=7.0, est=7.97317798221652, details={'was_impossible': False}),\n",
       " Prediction(uid=4283, iid=3231, r_ui=7.0, est=7.776293617495141, details={'was_impossible': False}),\n",
       " Prediction(uid=4121, iid=3558, r_ui=6.0, est=6.45401022237825, details={'was_impossible': False}),\n",
       " Prediction(uid=3331, iid=12210, r_ui=8.0, est=7.284990010520552, details={'was_impossible': False}),\n",
       " Prediction(uid=3533, iid=10995, r_ui=8.0, est=7.499379263376364, details={'was_impossible': False}),\n",
       " Prediction(uid=2720, iid=231, r_ui=6.0, est=6.2369431972406595, details={'was_impossible': False}),\n",
       " Prediction(uid=3260, iid=9704, r_ui=5.0, est=5.063590230842131, details={'was_impossible': False}),\n",
       " Prediction(uid=3969, iid=1979, r_ui=10.0, est=7.383274218822637, details={'was_impossible': False}),\n",
       " Prediction(uid=1244, iid=2052, r_ui=10.0, est=9.255277334586086, details={'was_impossible': False}),\n",
       " Prediction(uid=5665, iid=14919, r_ui=8.0, est=8.517453061747599, details={'was_impossible': False}),\n",
       " Prediction(uid=1745, iid=10842, r_ui=9.0, est=8.831494172869172, details={'was_impossible': False}),\n",
       " Prediction(uid=5749, iid=762, r_ui=9.0, est=9.008357210679945, details={'was_impossible': False}),\n",
       " Prediction(uid=3475, iid=14849, r_ui=7.0, est=7.554493236722333, details={'was_impossible': False}),\n",
       " Prediction(uid=2362, iid=3529, r_ui=5.0, est=9.395589233883822, details={'was_impossible': False}),\n",
       " Prediction(uid=856, iid=4268, r_ui=7.0, est=8.957045091460357, details={'was_impossible': False}),\n",
       " Prediction(uid=4312, iid=6974, r_ui=8.0, est=7.355675666585712, details={'was_impossible': False}),\n",
       " Prediction(uid=4418, iid=3653, r_ui=8.0, est=7.315972683634579, details={'was_impossible': False}),\n",
       " Prediction(uid=4737, iid=13358, r_ui=6.0, est=6.356570286719745, details={'was_impossible': False}),\n",
       " Prediction(uid=1877, iid=12146, r_ui=7.0, est=7.832722955583702, details={'was_impossible': False}),\n",
       " Prediction(uid=2892, iid=9168, r_ui=6.0, est=5.440436549084102, details={'was_impossible': False}),\n",
       " Prediction(uid=4226, iid=419, r_ui=8.0, est=7.171146434660016, details={'was_impossible': False}),\n",
       " Prediction(uid=2608, iid=6130, r_ui=8.0, est=9.10263055441944, details={'was_impossible': False}),\n",
       " Prediction(uid=4845, iid=44, r_ui=8.0, est=7.868877467169383, details={'was_impossible': False}),\n",
       " Prediction(uid=1343, iid=5672, r_ui=7.0, est=7.051345951850236, details={'was_impossible': False}),\n",
       " Prediction(uid=181, iid=11609, r_ui=7.0, est=4.671274084809384, details={'was_impossible': False}),\n",
       " Prediction(uid=3797, iid=9363, r_ui=9.0, est=8.185494079754646, details={'was_impossible': False}),\n",
       " Prediction(uid=3753, iid=12639, r_ui=5.0, est=6.723477657702766, details={'was_impossible': False}),\n",
       " Prediction(uid=1959, iid=12146, r_ui=7.0, est=7.076401214149599, details={'was_impossible': False}),\n",
       " Prediction(uid=1334, iid=3943, r_ui=8.0, est=6.702191077965581, details={'was_impossible': False}),\n",
       " Prediction(uid=3300, iid=1389, r_ui=10.0, est=9.653625416111566, details={'was_impossible': False}),\n",
       " Prediction(uid=1817, iid=14196, r_ui=7.0, est=6.736510035573444, details={'was_impossible': False}),\n",
       " Prediction(uid=4194, iid=1266, r_ui=9.0, est=7.8899448906209795, details={'was_impossible': False}),\n",
       " Prediction(uid=4642, iid=5512, r_ui=10.0, est=6.791258398489537, details={'was_impossible': False}),\n",
       " Prediction(uid=2009, iid=3867, r_ui=8.0, est=8.87255296851817, details={'was_impossible': False}),\n",
       " Prediction(uid=5912, iid=9664, r_ui=7.0, est=4.9190923670375675, details={'was_impossible': False}),\n",
       " Prediction(uid=243, iid=11001, r_ui=8.0, est=8.322678329652517, details={'was_impossible': False}),\n",
       " Prediction(uid=5648, iid=9856, r_ui=7.0, est=6.357851769303633, details={'was_impossible': False}),\n",
       " Prediction(uid=2497, iid=6210, r_ui=8.0, est=8.478073835735703, details={'was_impossible': False}),\n",
       " Prediction(uid=3627, iid=1427, r_ui=9.0, est=9.257368249501619, details={'was_impossible': False}),\n",
       " Prediction(uid=2601, iid=8752, r_ui=8.0, est=8.086036541723411, details={'was_impossible': False}),\n",
       " Prediction(uid=3599, iid=211, r_ui=9.0, est=9.104887580324835, details={'was_impossible': False}),\n",
       " Prediction(uid=1042, iid=10644, r_ui=9.0, est=8.764054312941495, details={'was_impossible': False}),\n",
       " Prediction(uid=429, iid=299, r_ui=6.0, est=7.141349775388638, details={'was_impossible': False}),\n",
       " Prediction(uid=1266, iid=5237, r_ui=7.0, est=7.4119396077710595, details={'was_impossible': False}),\n",
       " Prediction(uid=890, iid=1642, r_ui=3.0, est=5.4622576723700895, details={'was_impossible': False}),\n",
       " Prediction(uid=5226, iid=44, r_ui=5.0, est=7.0019629462532755, details={'was_impossible': False}),\n",
       " Prediction(uid=5788, iid=9887, r_ui=10.0, est=9.135584788090762, details={'was_impossible': False}),\n",
       " Prediction(uid=997, iid=5513, r_ui=10.0, est=8.305329743563496, details={'was_impossible': False}),\n",
       " Prediction(uid=5852, iid=1668, r_ui=8.0, est=6.642527530343214, details={'was_impossible': False}),\n",
       " Prediction(uid=3437, iid=9380, r_ui=8.0, est=8.104441980258954, details={'was_impossible': False}),\n",
       " Prediction(uid=5834, iid=15881, r_ui=6.0, est=7.0879407541746335, details={'was_impossible': False}),\n",
       " Prediction(uid=1731, iid=546, r_ui=9.0, est=8.104785832943037, details={'was_impossible': False}),\n",
       " Prediction(uid=2235, iid=4642, r_ui=7.0, est=7.51907196062768, details={'was_impossible': False}),\n",
       " Prediction(uid=33, iid=3639, r_ui=6.0, est=5.916341771846762, details={'was_impossible': False}),\n",
       " Prediction(uid=445, iid=5858, r_ui=7.0, est=7.568065462348422, details={'was_impossible': False}),\n",
       " Prediction(uid=4421, iid=935, r_ui=10.0, est=9.304131524619827, details={'was_impossible': False}),\n",
       " Prediction(uid=2976, iid=13833, r_ui=6.0, est=6.938845994057805, details={'was_impossible': False}),\n",
       " Prediction(uid=2189, iid=10762, r_ui=9.0, est=8.515967832340708, details={'was_impossible': False}),\n",
       " Prediction(uid=3314, iid=11269, r_ui=10.0, est=10, details={'was_impossible': False}),\n",
       " Prediction(uid=4716, iid=10336, r_ui=8.0, est=8.03979322380173, details={'was_impossible': False}),\n",
       " Prediction(uid=4212, iid=27, r_ui=10.0, est=8.342857684556702, details={'was_impossible': False}),\n",
       " Prediction(uid=1364, iid=8279, r_ui=9.0, est=8.49307749144698, details={'was_impossible': False}),\n",
       " Prediction(uid=2280, iid=2706, r_ui=9.0, est=8.442963817164644, details={'was_impossible': False}),\n",
       " Prediction(uid=5530, iid=7441, r_ui=7.0, est=8.5869243612949, details={'was_impossible': False}),\n",
       " Prediction(uid=3766, iid=11332, r_ui=6.0, est=6.865746561203561, details={'was_impossible': False}),\n",
       " Prediction(uid=226, iid=1014, r_ui=7.0, est=7.518449922307943, details={'was_impossible': False}),\n",
       " Prediction(uid=290, iid=6482, r_ui=6.0, est=6.738235568223356, details={'was_impossible': False}),\n",
       " Prediction(uid=2805, iid=9596, r_ui=7.0, est=6.204820094757909, details={'was_impossible': False}),\n",
       " Prediction(uid=3502, iid=11358, r_ui=7.0, est=7.794314044791789, details={'was_impossible': False}),\n",
       " Prediction(uid=4710, iid=7356, r_ui=7.0, est=6.7347083455786825, details={'was_impossible': False}),\n",
       " Prediction(uid=3755, iid=103, r_ui=7.0, est=7.2360047754388495, details={'was_impossible': False}),\n",
       " Prediction(uid=4537, iid=3529, r_ui=5.0, est=7.347055667828111, details={'was_impossible': False}),\n",
       " Prediction(uid=5534, iid=10927, r_ui=8.0, est=7.539147806486241, details={'was_impossible': False}),\n",
       " Prediction(uid=3105, iid=11763, r_ui=8.0, est=8.085433933108435, details={'was_impossible': False}),\n",
       " Prediction(uid=2547, iid=9192, r_ui=8.0, est=8.342776757647243, details={'was_impossible': False}),\n",
       " Prediction(uid=4783, iid=201, r_ui=9.0, est=7.698137823391597, details={'was_impossible': False}),\n",
       " Prediction(uid=1929, iid=7509, r_ui=7.0, est=7.5354536613338885, details={'was_impossible': False}),\n",
       " Prediction(uid=1177, iid=8691, r_ui=10.0, est=8.088664771954566, details={'was_impossible': False}),\n",
       " Prediction(uid=1946, iid=7505, r_ui=6.0, est=7.221903464341263, details={'was_impossible': False}),\n",
       " Prediction(uid=1244, iid=7966, r_ui=8.0, est=7.751888768889956, details={'was_impossible': False}),\n",
       " Prediction(uid=3908, iid=9900, r_ui=8.0, est=7.612540500586413, details={'was_impossible': False}),\n",
       " Prediction(uid=5281, iid=259, r_ui=7.0, est=7.717399847381596, details={'was_impossible': False}),\n",
       " Prediction(uid=3662, iid=215, r_ui=7.0, est=6.577002610470187, details={'was_impossible': False}),\n",
       " Prediction(uid=2845, iid=2883, r_ui=5.0, est=6.567519698280678, details={'was_impossible': False}),\n",
       " Prediction(uid=5861, iid=6283, r_ui=7.0, est=7.234267843670067, details={'was_impossible': False}),\n",
       " Prediction(uid=853, iid=1383, r_ui=9.0, est=6.483007529841033, details={'was_impossible': False}),\n",
       " Prediction(uid=2252, iid=7805, r_ui=8.0, est=7.8731792698338365, details={'was_impossible': False}),\n",
       " Prediction(uid=1630, iid=6608, r_ui=6.0, est=8.573265623861547, details={'was_impossible': False}),\n",
       " Prediction(uid=943, iid=9092, r_ui=9.0, est=8.597125445200115, details={'was_impossible': False}),\n",
       " Prediction(uid=1246, iid=4070, r_ui=9.0, est=8.389636535572036, details={'was_impossible': False}),\n",
       " Prediction(uid=2291, iid=201, r_ui=5.0, est=8.250627307060052, details={'was_impossible': False}),\n",
       " Prediction(uid=771, iid=4888, r_ui=7.0, est=6.903211263382081, details={'was_impossible': False}),\n",
       " Prediction(uid=406, iid=8398, r_ui=8.0, est=9.26762256939591, details={'was_impossible': False}),\n",
       " Prediction(uid=5852, iid=11731, r_ui=7.0, est=7.071413548572938, details={'was_impossible': False}),\n",
       " Prediction(uid=2060, iid=432, r_ui=6.0, est=5.058200771888956, details={'was_impossible': False}),\n",
       " Prediction(uid=484, iid=14148, r_ui=9.0, est=9.145115901938366, details={'was_impossible': False}),\n",
       " Prediction(uid=350, iid=175, r_ui=10.0, est=8.802791223427638, details={'was_impossible': False}),\n",
       " Prediction(uid=2196, iid=2044, r_ui=8.0, est=9.258021014124026, details={'was_impossible': False}),\n",
       " Prediction(uid=4852, iid=2, r_ui=4.0, est=7.155444039352019, details={'was_impossible': False}),\n",
       " Prediction(uid=1912, iid=6480, r_ui=6.0, est=9.35135967675888, details={'was_impossible': False}),\n",
       " Prediction(uid=2013, iid=13202, r_ui=7.0, est=7.785171067981134, details={'was_impossible': False}),\n",
       " Prediction(uid=4351, iid=3240, r_ui=8.0, est=8.520506140835455, details={'was_impossible': False}),\n",
       " Prediction(uid=72, iid=9865, r_ui=10.0, est=10, details={'was_impossible': False}),\n",
       " Prediction(uid=4059, iid=3714, r_ui=9.0, est=8.079644992068506, details={'was_impossible': False}),\n",
       " Prediction(uid=2537, iid=691, r_ui=9.0, est=8.00949057313182, details={'was_impossible': False}),\n",
       " Prediction(uid=2820, iid=8564, r_ui=8.0, est=7.575241570808678, details={'was_impossible': False}),\n",
       " Prediction(uid=2632, iid=706, r_ui=7.0, est=9.185221762630462, details={'was_impossible': False}),\n",
       " Prediction(uid=4589, iid=7437, r_ui=9.0, est=9.017400745280996, details={'was_impossible': False}),\n",
       " Prediction(uid=5841, iid=14828, r_ui=10.0, est=10, details={'was_impossible': False}),\n",
       " Prediction(uid=154, iid=21, r_ui=9.0, est=8.794750488902949, details={'was_impossible': False}),\n",
       " Prediction(uid=3398, iid=1418, r_ui=10.0, est=9.286902381498992, details={'was_impossible': False}),\n",
       " Prediction(uid=1864, iid=5567, r_ui=5.0, est=5.947607796641987, details={'was_impossible': False}),\n",
       " Prediction(uid=21, iid=7721, r_ui=9.0, est=8.697625723041929, details={'was_impossible': False}),\n",
       " Prediction(uid=773, iid=412, r_ui=6.0, est=6.4117685383732965, details={'was_impossible': False}),\n",
       " Prediction(uid=4603, iid=10420, r_ui=8.0, est=7.710265730769634, details={'was_impossible': False}),\n",
       " Prediction(uid=5771, iid=3758, r_ui=9.0, est=8.431217776657943, details={'was_impossible': False}),\n",
       " Prediction(uid=3934, iid=15751, r_ui=8.0, est=8.375392269138764, details={'was_impossible': False}),\n",
       " Prediction(uid=2139, iid=14488, r_ui=7.0, est=5.376071081288797, details={'was_impossible': False}),\n",
       " Prediction(uid=4281, iid=5212, r_ui=10.0, est=8.11743049511155, details={'was_impossible': False}),\n",
       " Prediction(uid=5713, iid=8871, r_ui=8.0, est=6.971470928441165, details={'was_impossible': False}),\n",
       " Prediction(uid=2057, iid=7482, r_ui=4.0, est=6.345987101213926, details={'was_impossible': False}),\n",
       " Prediction(uid=5045, iid=12158, r_ui=7.0, est=6.107526505597621, details={'was_impossible': False}),\n",
       " Prediction(uid=2162, iid=1310, r_ui=7.0, est=7.478252279519756, details={'was_impossible': False}),\n",
       " Prediction(uid=2168, iid=1431, r_ui=10.0, est=8.440340280404282, details={'was_impossible': False}),\n",
       " Prediction(uid=5739, iid=515, r_ui=7.0, est=7.7009350970206905, details={'was_impossible': False}),\n",
       " Prediction(uid=2976, iid=8918, r_ui=5.0, est=6.5135731146528855, details={'was_impossible': False}),\n",
       " Prediction(uid=2382, iid=5683, r_ui=7.0, est=7.854868932471234, details={'was_impossible': False}),\n",
       " Prediction(uid=1008, iid=71, r_ui=9.0, est=8.574190705524044, details={'was_impossible': False}),\n",
       " Prediction(uid=876, iid=1417, r_ui=7.0, est=6.173986891373847, details={'was_impossible': False}),\n",
       " Prediction(uid=1042, iid=1672, r_ui=10.0, est=8.394194516933991, details={'was_impossible': False}),\n",
       " Prediction(uid=3585, iid=1840, r_ui=9.0, est=8.601325951416944, details={'was_impossible': False}),\n",
       " Prediction(uid=347, iid=11363, r_ui=6.0, est=6.354160246527855, details={'was_impossible': False}),\n",
       " Prediction(uid=4531, iid=8202, r_ui=6.0, est=6.612701319927712, details={'was_impossible': False}),\n",
       " Prediction(uid=5267, iid=7479, r_ui=8.0, est=8.305389383421161, details={'was_impossible': False}),\n",
       " Prediction(uid=5813, iid=1581, r_ui=10.0, est=6.82478921061009, details={'was_impossible': False}),\n",
       " Prediction(uid=4166, iid=8752, r_ui=9.0, est=8.096232638418199, details={'was_impossible': False}),\n",
       " Prediction(uid=1940, iid=161, r_ui=10.0, est=8.996268438115347, details={'was_impossible': False}),\n",
       " Prediction(uid=694, iid=375, r_ui=10.0, est=8.830362794411151, details={'was_impossible': False}),\n",
       " Prediction(uid=5595, iid=11158, r_ui=9.0, est=8.440392972818936, details={'was_impossible': False}),\n",
       " Prediction(uid=4712, iid=797, r_ui=6.0, est=7.099891489285602, details={'was_impossible': False}),\n",
       " Prediction(uid=3160, iid=5672, r_ui=10.0, est=9.179659423168482, details={'was_impossible': False}),\n",
       " Prediction(uid=4519, iid=10823, r_ui=8.0, est=8.919027693019402, details={'was_impossible': False}),\n",
       " Prediction(uid=4973, iid=8874, r_ui=7.0, est=7.605018630983713, details={'was_impossible': False}),\n",
       " Prediction(uid=2675, iid=7836, r_ui=8.0, est=6.6407663932943235, details={'was_impossible': False}),\n",
       " Prediction(uid=3188, iid=6477, r_ui=6.0, est=7.833255351927709, details={'was_impossible': False}),\n",
       " Prediction(uid=316, iid=3639, r_ui=7.0, est=7.028310810107553, details={'was_impossible': False}),\n",
       " Prediction(uid=689, iid=10264, r_ui=10.0, est=7.953821278621851, details={'was_impossible': False}),\n",
       " Prediction(uid=1220, iid=79, r_ui=6.0, est=6.218955847828932, details={'was_impossible': False}),\n",
       " Prediction(uid=1096, iid=6237, r_ui=8.0, est=8.271800902638653, details={'was_impossible': False}),\n",
       " Prediction(uid=1723, iid=446, r_ui=9.0, est=8.617327794498365, details={'was_impossible': False}),\n",
       " Prediction(uid=4152, iid=9839, r_ui=9.0, est=7.9440649236219745, details={'was_impossible': False}),\n",
       " Prediction(uid=479, iid=5, r_ui=9.0, est=8.449017624603671, details={'was_impossible': False}),\n",
       " Prediction(uid=985, iid=9236, r_ui=10.0, est=8.88301120024606, details={'was_impossible': False}),\n",
       " Prediction(uid=5725, iid=9644, r_ui=6.0, est=6.823777741825836, details={'was_impossible': False}),\n",
       " Prediction(uid=3160, iid=9091, r_ui=5.0, est=5.644114396256526, details={'was_impossible': False}),\n",
       " Prediction(uid=3214, iid=12453, r_ui=8.0, est=8.288983999268144, details={'was_impossible': False}),\n",
       " Prediction(uid=1296, iid=6050, r_ui=8.0, est=8.302163975555837, details={'was_impossible': False}),\n",
       " Prediction(uid=4704, iid=2362, r_ui=8.0, est=7.722255475075929, details={'was_impossible': False}),\n",
       " Prediction(uid=1790, iid=43, r_ui=5.0, est=5.93417411342304, details={'was_impossible': False}),\n",
       " Prediction(uid=4761, iid=8110, r_ui=7.0, est=6.372194153037887, details={'was_impossible': False}),\n",
       " Prediction(uid=2369, iid=6283, r_ui=10.0, est=8.998767463206299, details={'was_impossible': False}),\n",
       " Prediction(uid=4171, iid=6595, r_ui=9.0, est=9.174898364842525, details={'was_impossible': False}),\n",
       " Prediction(uid=564, iid=9882, r_ui=7.0, est=7.41923367534148, details={'was_impossible': False}),\n",
       " Prediction(uid=3334, iid=10144, r_ui=7.0, est=7.576922257033085, details={'was_impossible': False}),\n",
       " Prediction(uid=607, iid=11198, r_ui=6.0, est=5.505875443534097, details={'was_impossible': False}),\n",
       " Prediction(uid=890, iid=8769, r_ui=7.0, est=4.63432674769188, details={'was_impossible': False}),\n",
       " Prediction(uid=1319, iid=1340, r_ui=7.0, est=6.896027569070188, details={'was_impossible': False}),\n",
       " Prediction(uid=1728, iid=83, r_ui=7.0, est=6.639015052413114, details={'was_impossible': False}),\n",
       " Prediction(uid=859, iid=3173, r_ui=8.0, est=8.035433221013726, details={'was_impossible': False}),\n",
       " Prediction(uid=1016, iid=11868, r_ui=7.0, est=6.974081441822478, details={'was_impossible': False}),\n",
       " Prediction(uid=2845, iid=2936, r_ui=4.0, est=5.877350377192508, details={'was_impossible': False}),\n",
       " Prediction(uid=3026, iid=2702, r_ui=9.0, est=9.31639864759291, details={'was_impossible': False}),\n",
       " Prediction(uid=1351, iid=243, r_ui=7.0, est=8.55153893493585, details={'was_impossible': False}),\n",
       " Prediction(uid=5642, iid=6721, r_ui=7.0, est=8.495054996752655, details={'was_impossible': False}),\n",
       " Prediction(uid=3923, iid=11812, r_ui=8.0, est=7.704235210455958, details={'was_impossible': False}),\n",
       " Prediction(uid=2891, iid=3511, r_ui=7.0, est=6.954983228986541, details={'was_impossible': False}),\n",
       " Prediction(uid=2158, iid=243, r_ui=8.0, est=8.456306359669234, details={'was_impossible': False}),\n",
       " Prediction(uid=716, iid=10644, r_ui=8.0, est=7.35015076228046, details={'was_impossible': False}),\n",
       " Prediction(uid=3979, iid=244, r_ui=7.0, est=7.0073499947014986, details={'was_impossible': False}),\n",
       " Prediction(uid=1263, iid=5103, r_ui=6.0, est=7.277518135953467, details={'was_impossible': False}),\n",
       " Prediction(uid=674, iid=402, r_ui=9.0, est=7.977568798000641, details={'was_impossible': False}),\n",
       " Prediction(uid=4892, iid=12226, r_ui=6.0, est=6.522443957991614, details={'was_impossible': False}),\n",
       " Prediction(uid=5706, iid=132, r_ui=5.0, est=6.535504159824154, details={'was_impossible': False}),\n",
       " Prediction(uid=413, iid=6595, r_ui=10.0, est=8.79055304274247, details={'was_impossible': False}),\n",
       " Prediction(uid=1384, iid=4628, r_ui=9.0, est=9.020399900008616, details={'was_impossible': False}),\n",
       " Prediction(uid=2037, iid=11812, r_ui=10.0, est=9.831665540782089, details={'was_impossible': False}),\n",
       " Prediction(uid=313, iid=39, r_ui=8.0, est=8.533739018205235, details={'was_impossible': False}),\n",
       " Prediction(uid=5394, iid=4790, r_ui=7.0, est=7.5206290270322205, details={'was_impossible': False}),\n",
       " Prediction(uid=1209, iid=11167, r_ui=10.0, est=6.993174098473523, details={'was_impossible': False}),\n",
       " Prediction(uid=5234, iid=3534, r_ui=7.0, est=8.11703264015515, details={'was_impossible': False}),\n",
       " Prediction(uid=1043, iid=3947, r_ui=7.0, est=8.230995833157985, details={'was_impossible': False}),\n",
       " Prediction(uid=4507, iid=214, r_ui=10.0, est=8.027587082222512, details={'was_impossible': False}),\n",
       " Prediction(uid=997, iid=12940, r_ui=8.0, est=8.54808959158546, details={'was_impossible': False}),\n",
       " Prediction(uid=4388, iid=387, r_ui=7.0, est=7.972265502933906, details={'was_impossible': False}),\n",
       " Prediction(uid=948, iid=9176, r_ui=8.0, est=7.600784983630399, details={'was_impossible': False}),\n",
       " Prediction(uid=2705, iid=8475, r_ui=5.0, est=6.6578708116230985, details={'was_impossible': False}),\n",
       " Prediction(uid=2458, iid=6508, r_ui=4.0, est=7.571408970345802, details={'was_impossible': False}),\n",
       " Prediction(uid=121, iid=1087, r_ui=6.0, est=7.663074093759125, details={'was_impossible': False}),\n",
       " Prediction(uid=3547, iid=7612, r_ui=8.0, est=7.516204195275264, details={'was_impossible': False}),\n",
       " Prediction(uid=4026, iid=11053, r_ui=5.0, est=5.9388007822256785, details={'was_impossible': False}),\n",
       " Prediction(uid=3785, iid=13243, r_ui=10.0, est=7.813871994929643, details={'was_impossible': False}),\n",
       " Prediction(uid=3450, iid=11421, r_ui=4.0, est=4.659159752243649, details={'was_impossible': False}),\n",
       " Prediction(uid=290, iid=7160, r_ui=8.0, est=6.829145002852565, details={'was_impossible': False}),\n",
       " Prediction(uid=808, iid=10551, r_ui=8.0, est=7.871779555561803, details={'was_impossible': False}),\n",
       " Prediction(uid=4833, iid=1949, r_ui=10.0, est=7.7292271785963695, details={'was_impossible': False}),\n",
       " Prediction(uid=3040, iid=5652, r_ui=8.0, est=8.443108104864178, details={'was_impossible': False}),\n",
       " Prediction(uid=2613, iid=11606, r_ui=7.0, est=7.875148433456549, details={'was_impossible': False}),\n",
       " Prediction(uid=3987, iid=8202, r_ui=9.0, est=7.512899528517713, details={'was_impossible': False}),\n",
       " Prediction(uid=2702, iid=5539, r_ui=4.0, est=5.125460471676438, details={'was_impossible': False}),\n",
       " Prediction(uid=1413, iid=5405, r_ui=10.0, est=9.723766839526824, details={'was_impossible': False}),\n",
       " Prediction(uid=3436, iid=22, r_ui=7.0, est=8.198482905787948, details={'was_impossible': False}),\n",
       " Prediction(uid=3283, iid=9735, r_ui=9.0, est=8.504699195224378, details={'was_impossible': False}),\n",
       " Prediction(uid=2918, iid=5069, r_ui=7.0, est=7.621492946490159, details={'was_impossible': False}),\n",
       " Prediction(uid=3578, iid=150, r_ui=8.0, est=8.19148389802559, details={'was_impossible': False}),\n",
       " Prediction(uid=3329, iid=11611, r_ui=5.0, est=3.269022597885644, details={'was_impossible': False}),\n",
       " Prediction(uid=5712, iid=3054, r_ui=8.0, est=8.273780157731041, details={'was_impossible': False}),\n",
       " Prediction(uid=2026, iid=1389, r_ui=10.0, est=8.642133510050344, details={'was_impossible': False}),\n",
       " Prediction(uid=4272, iid=6273, r_ui=10.0, est=9.888121563911934, details={'was_impossible': False}),\n",
       " Prediction(uid=1989, iid=7967, r_ui=9.0, est=8.806735482454704, details={'was_impossible': False}),\n",
       " Prediction(uid=2788, iid=8135, r_ui=8.0, est=7.138509461937452, details={'was_impossible': False}),\n",
       " Prediction(uid=912, iid=13942, r_ui=8.0, est=8.183048920726412, details={'was_impossible': False}),\n",
       " Prediction(uid=3333, iid=11596, r_ui=7.0, est=7.85838870889861, details={'was_impossible': False}),\n",
       " Prediction(uid=4875, iid=13030, r_ui=6.0, est=6.609966816310191, details={'was_impossible': False}),\n",
       " Prediction(uid=1749, iid=1614, r_ui=9.0, est=8.255811873890838, details={'was_impossible': False}),\n",
       " Prediction(uid=3274, iid=38, r_ui=5.0, est=7.104417029189964, details={'was_impossible': False}),\n",
       " Prediction(uid=1059, iid=11565, r_ui=6.0, est=4.704208183750969, details={'was_impossible': False}),\n",
       " Prediction(uid=1384, iid=11955, r_ui=10.0, est=9.404571092583952, details={'was_impossible': False}),\n",
       " Prediction(uid=4716, iid=15733, r_ui=9.0, est=8.516807910129536, details={'was_impossible': False}),\n",
       " Prediction(uid=976, iid=8779, r_ui=6.0, est=6.120222865426884, details={'was_impossible': False}),\n",
       " Prediction(uid=1621, iid=6368, r_ui=8.0, est=7.435259242536279, details={'was_impossible': False}),\n",
       " Prediction(uid=3610, iid=9721, r_ui=9.0, est=8.833332925140917, details={'was_impossible': False}),\n",
       " Prediction(uid=5370, iid=175, r_ui=7.0, est=7.914037939684452, details={'was_impossible': False}),\n",
       " Prediction(uid=5013, iid=6272, r_ui=5.0, est=7.822307082005483, details={'was_impossible': False}),\n",
       " Prediction(uid=5865, iid=7222, r_ui=7.0, est=7.927246592793905, details={'was_impossible': False}),\n",
       " Prediction(uid=1444, iid=1026, r_ui=6.0, est=5.996018058288393, details={'was_impossible': False}),\n",
       " Prediction(uid=3297, iid=3534, r_ui=8.0, est=8.182186519477883, details={'was_impossible': False}),\n",
       " Prediction(uid=5579, iid=10263, r_ui=8.0, est=7.434348249064507, details={'was_impossible': False}),\n",
       " Prediction(uid=1214, iid=10762, r_ui=8.0, est=8.24886606204569, details={'was_impossible': False}),\n",
       " Prediction(uid=3502, iid=7580, r_ui=6.0, est=8.003337930856949, details={'was_impossible': False}),\n",
       " Prediction(uid=1612, iid=12969, r_ui=5.0, est=7.338757328092467, details={'was_impossible': False}),\n",
       " Prediction(uid=3053, iid=6364, r_ui=7.0, est=7.398672018876863, details={'was_impossible': False}),\n",
       " Prediction(uid=1959, iid=11588, r_ui=8.0, est=7.826239654150215, details={'was_impossible': False}),\n",
       " Prediction(uid=4591, iid=4266, r_ui=8.0, est=8.687743670314314, details={'was_impossible': False}),\n",
       " Prediction(uid=2892, iid=11131, r_ui=5.0, est=6.249174101740459, details={'was_impossible': False}),\n",
       " Prediction(uid=948, iid=13192, r_ui=6.0, est=6.81308853719083, details={'was_impossible': False}),\n",
       " Prediction(uid=715, iid=13896, r_ui=8.0, est=8.098466809981868, details={'was_impossible': False}),\n",
       " Prediction(uid=1803, iid=15961, r_ui=7.0, est=7.860446447852066, details={'was_impossible': False}),\n",
       " Prediction(uid=1420, iid=8633, r_ui=8.0, est=7.8314545839731675, details={'was_impossible': False}),\n",
       " Prediction(uid=5230, iid=244, r_ui=5.0, est=6.260377093058312, details={'was_impossible': False}),\n",
       " Prediction(uid=1469, iid=14388, r_ui=6.0, est=4.446011582892561, details={'was_impossible': False}),\n",
       " Prediction(uid=4117, iid=8299, r_ui=1.0, est=5.007348103348, details={'was_impossible': False}),\n",
       " Prediction(uid=1749, iid=5380, r_ui=9.0, est=8.607255053256559, details={'was_impossible': False}),\n",
       " Prediction(uid=3697, iid=98, r_ui=8.0, est=6.9616656607381655, details={'was_impossible': False}),\n",
       " Prediction(uid=3155, iid=7925, r_ui=8.0, est=8.039586818558956, details={'was_impossible': False}),\n",
       " Prediction(uid=5251, iid=7092, r_ui=8.0, est=7.613151554093226, details={'was_impossible': False}),\n",
       " Prediction(uid=5128, iid=14133, r_ui=8.0, est=7.994712970243089, details={'was_impossible': False}),\n",
       " Prediction(uid=5114, iid=1930, r_ui=7.0, est=7.826015927821518, details={'was_impossible': False}),\n",
       " Prediction(uid=5717, iid=11046, r_ui=8.0, est=7.738940756907627, details={'was_impossible': False}),\n",
       " Prediction(uid=5138, iid=10833, r_ui=8.0, est=6.70939014261725, details={'was_impossible': False}),\n",
       " Prediction(uid=3539, iid=13551, r_ui=8.0, est=6.685220722296488, details={'was_impossible': False}),\n",
       " Prediction(uid=2947, iid=4648, r_ui=7.0, est=8.941222185447344, details={'was_impossible': False}),\n",
       " Prediction(uid=469, iid=5732, r_ui=7.0, est=5.6660084328113545, details={'was_impossible': False}),\n",
       " ...]"
      ]
     },
     "execution_count": 64,
     "metadata": {},
     "output_type": "execute_result"
    }
   ],
   "source": [
    "#uid = user_id, iid = anime_id, r_ui = actual value, est = prediction\n",
    "predictions = best_SVD.test(testset)\n",
    "predictions"
   ]
  },
  {
   "cell_type": "markdown",
   "id": "e9e43121",
   "metadata": {
    "papermill": {
     "duration": 0.126421,
     "end_time": "2023-06-01T02:27:18.726913",
     "exception": false,
     "start_time": "2023-06-01T02:27:18.600492",
     "status": "completed"
    },
    "tags": []
   },
   "source": [
    "In case you're wondering what each of these variables represent:\n",
    "\n",
    "- *uid*: user_id\n",
    "- *iid*: anime_id\n",
    "- *r_ui*: actual rating\n",
    "- *est*: predicted rating\n",
    "\n",
    "We can use then use the `accuracy` function imported from the `surprise` module to calculate the final rmse."
   ]
  },
  {
   "cell_type": "code",
   "execution_count": 65,
   "id": "d3426875",
   "metadata": {
    "execution": {
     "iopub.execute_input": "2023-06-01T02:27:18.995428Z",
     "iopub.status.busy": "2023-06-01T02:27:18.994576Z",
     "iopub.status.idle": "2023-06-01T02:27:19.245861Z",
     "shell.execute_reply": "2023-06-01T02:27:19.245323Z"
    },
    "papermill": {
     "duration": 0.392191,
     "end_time": "2023-06-01T02:27:19.246030",
     "exception": false,
     "start_time": "2023-06-01T02:27:18.853839",
     "status": "completed"
    },
    "tags": []
   },
   "outputs": [
    {
     "name": "stdout",
     "output_type": "stream",
     "text": [
      "RMSE: 1.1756\n"
     ]
    },
    {
     "data": {
      "text/plain": [
       "1.175572763042182"
      ]
     },
     "execution_count": 65,
     "metadata": {},
     "output_type": "execute_result"
    }
   ],
   "source": [
    "#find the rmse of the testing result\n",
    "accuracy.rmse(predictions, verbose=True)"
   ]
  },
  {
   "cell_type": "markdown",
   "id": "a3534607",
   "metadata": {
    "papermill": {
     "duration": 0.142653,
     "end_time": "2023-06-01T02:27:19.520318",
     "exception": false,
     "start_time": "2023-06-01T02:27:19.377665",
     "status": "completed"
    },
    "tags": []
   },
   "source": [
    "The predictions are overall pretty close to the actual figure. Hooray! We did it!"
   ]
  },
  {
   "cell_type": "markdown",
   "id": "044984e1",
   "metadata": {
    "papermill": {
     "duration": 0.142428,
     "end_time": "2023-06-01T02:27:19.805283",
     "exception": false,
     "start_time": "2023-06-01T02:27:19.662855",
     "status": "completed"
    },
    "tags": []
   },
   "source": [
    "# Conclusion\n",
    "\n",
    "Wow! That was a good one. We discussed quite a lot in this notebook from content-based recommendations to collaborative filtering. There are still many other more sophisticated models out there like neural collaborative filtering. Maybe one day I'll be able to add that to this notebook. Anyways, hope you learned something from this notebook and please give this notebook an upvote if you found it interesting. Feel free to also comment down below if you have any suggestions or feedbacks. Cheers <3"
   ]
  }
 ],
 "metadata": {
  "kernelspec": {
   "display_name": "Python 3",
   "language": "python",
   "name": "python3"
  },
  "language_info": {
   "codemirror_mode": {
    "name": "ipython",
    "version": 3
   },
   "file_extension": ".py",
   "mimetype": "text/x-python",
   "name": "python",
   "nbconvert_exporter": "python",
   "pygments_lexer": "ipython3",
   "version": "3.12.1"
  },
  "papermill": {
   "default_parameters": {},
   "duration": 3992.266233,
   "end_time": "2023-06-01T02:27:22.557614",
   "environment_variables": {},
   "exception": null,
   "input_path": "__notebook__.ipynb",
   "output_path": "__notebook__.ipynb",
   "parameters": {},
   "start_time": "2023-06-01T01:20:50.291381",
   "version": "2.3.3"
  }
 },
 "nbformat": 4,
 "nbformat_minor": 5
}
